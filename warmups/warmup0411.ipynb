{
 "cells": [
  {
   "cell_type": "code",
   "execution_count": null,
   "metadata": {},
   "outputs": [],
   "source": [
    "import torch \n",
    "from matplotlib import pyplot as plt\n",
    "plt.style.use('seaborn-v0_8-whitegrid')\n",
    "n_points = 100\n",
    "x = torch.rand(n_points)\n",
    "y = 1*((x + 0.3*(torch.rand(n_points) - 0.5)) > 0.5 )\n",
    "\n",
    "def plot_1d_classification_data(x, y, ax):\n",
    "    \n",
    "    targets = [0, 1]\n",
    "    markers = [\"o\" , \",\"]\n",
    "    for i in range(2):\n",
    "        ix = y == targets[i]\n",
    "        ax.scatter(x[ix], torch.zeros_like(x[ix]), s = 40,  c = y[ix], facecolors = \"none\", edgecolors = \"darkgrey\", cmap = \"BrBG\", vmin = -1, vmax = 2, alpha = 0.6, marker = markers[i], )\n",
    "    ax.set(xlabel = r\"$x$\")\n",
    "    \n",
    "fig, ax = plt.subplots(figsize = (10, 1))\n",
    "plot_1d_classification_data(x, y, ax)"
   ]
  },
  {
   "cell_type": "code",
   "execution_count": null,
   "metadata": {},
   "outputs": [],
   "source": [
    "x_space = torch.linspace(0, 1, 1001)"
   ]
  },
  {
   "cell_type": "code",
   "execution_count": null,
   "metadata": {},
   "outputs": [],
   "source": [
    "def kernel_classifier(x_space, x, y, gamma):\n",
    "    \n",
    "    # compute difference between every elem in x_space and x\n",
    "    diffs = x_space[:, None] - x\n",
    "    \n",
    "    prod = y * torch.exp(-gamma * diffs**2)\n",
    "    \n",
    "    s = torch.sum(prod, dim=1)\n",
    "    \n",
    "    return s"
   ]
  },
  {
   "cell_type": "code",
   "execution_count": null,
   "metadata": {},
   "outputs": [],
   "source": [
    "s = kernel_classifier(x_space, x, y, gamma=100)\n",
    "\n",
    "fig, ax = plt.subplots(2, 1, figsize = (5, 4), height_ratios= (0.8, 0.2))\n",
    "ax[0].plot(x_space, s, color = \"slategrey\")\n",
    "ax[0].set(ylabel = \"Kernel score\")\n",
    "plot_1d_classification_data(x, y, ax[1])"
   ]
  },
  {
   "cell_type": "code",
   "execution_count": null,
   "metadata": {},
   "outputs": [],
   "source": [
    "s = kernel_classifier(x_space, x, y, gamma=1)\n",
    "\n",
    "fig, ax = plt.subplots(2, 1, figsize = (5, 4), height_ratios= (0.8, 0.2))\n",
    "ax[0].plot(x_space, s, color = \"slategrey\")\n",
    "ax[0].set(ylabel = \"Kernel score\")\n",
    "plot_1d_classification_data(x, y, ax[1])"
   ]
  },
  {
   "cell_type": "code",
   "execution_count": null,
   "metadata": {},
   "outputs": [],
   "source": [
    "s = kernel_classifier(x_space, x, y, gamma=10000)\n",
    "\n",
    "fig, ax = plt.subplots(2, 1, figsize = (5, 4), height_ratios= (0.8, 0.2))\n",
    "ax[0].plot(x_space, s, color = \"slategrey\")\n",
    "ax[0].set(ylabel = \"Kernel score\")\n",
    "plot_1d_classification_data(x, y, ax[1])"
   ]
  }
 ],
 "metadata": {
  "kernelspec": {
   "display_name": "ml-0451",
   "language": "python",
   "name": "python3"
  },
  "language_info": {
   "name": "python",
   "version": "3.9.18"
  }
 },
 "nbformat": 4,
 "nbformat_minor": 2
}
