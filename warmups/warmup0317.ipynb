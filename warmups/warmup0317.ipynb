{
 "cells": [
  {
   "cell_type": "code",
   "execution_count": 1,
   "metadata": {},
   "outputs": [],
   "source": [
    "import math\n",
    "\n",
    "def mystery_fun(a, epsilon, alpha, maxsteps=100):\n",
    "    \n",
    "    # start with initial guess \n",
    "    x = a\n",
    "    \n",
    "    # set x'= 0, j'=0\n",
    "    x_prime = 1\n",
    "    j = 0\n",
    "    \n",
    "    while(math.fabs(x_prime - x) > epsilon):\n",
    "        \n",
    "        if j > maxsteps:\n",
    "            break\n",
    "        \n",
    "        x = x_prime\n",
    "        \n",
    "        x_prime = x - alpha * (x - a/x)\n",
    "        \n",
    "        j += 1\n",
    "    return x\n",
    "        "
   ]
  },
  {
   "cell_type": "code",
   "execution_count": 2,
   "metadata": {},
   "outputs": [
    {
     "name": "stdout",
     "output_type": "stream",
     "text": [
      "3.000000001396984\n"
     ]
    }
   ],
   "source": [
    "x_val = mystery_fun(a = 9, epsilon = 1e-8, alpha = 0.5)\n",
    "print(x_val)"
   ]
  },
  {
   "cell_type": "code",
   "execution_count": 18,
   "metadata": {},
   "outputs": [
    {
     "name": "stdout",
     "output_type": "stream",
     "text": [
      "inf\n"
     ]
    }
   ],
   "source": [
    "x_val = mystery_fun(a = 9, epsilon = 1e-8, alpha = 2000000)\n",
    "print(x_val)"
   ]
  }
 ],
 "metadata": {
  "kernelspec": {
   "display_name": "ml-0451",
   "language": "python",
   "name": "python3"
  },
  "language_info": {
   "codemirror_mode": {
    "name": "ipython",
    "version": 3
   },
   "file_extension": ".py",
   "mimetype": "text/x-python",
   "name": "python",
   "nbconvert_exporter": "python",
   "pygments_lexer": "ipython3",
   "version": "3.9.18"
  }
 },
 "nbformat": 4,
 "nbformat_minor": 2
}
