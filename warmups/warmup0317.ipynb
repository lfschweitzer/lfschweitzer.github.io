{
 "cells": [
  {
   "cell_type": "code",
   "execution_count": null,
   "metadata": {
    "vscode": {
     "languageId": "plaintext"
    }
   },
   "outputs": [],
   "source": [
    "import math\n",
    "\n",
    "def mystery_fun(a, epsilon, alpha, maxsteps=100):\n",
    "    \n",
    "    # start with initial guess \n",
    "    x = a\n",
    "    \n",
    "    # set x'= 0, j'=0\n",
    "    x_prime = 1\n",
    "    j = 0\n",
    "    \n",
    "    while(math.fabs(x_prime - x) > epsilon):\n",
    "        \n",
    "        if j > maxsteps:\n",
    "            break\n",
    "        \n",
    "        x = x_prime\n",
    "        \n",
    "        x_prime = x - alpha * (x - a/x)\n",
    "        \n",
    "        j += 1\n",
    "    return x\n",
    "        "
   ]
  },
  {
   "cell_type": "code",
   "execution_count": null,
   "metadata": {
    "vscode": {
     "languageId": "plaintext"
    }
   },
   "outputs": [],
   "source": [
    "x_val = mystery_fun(a = 9, epsilon = 1e-8, alpha = 0.5)\n",
    "print(x_val)"
   ]
  },
  {
   "cell_type": "code",
   "execution_count": null,
   "metadata": {
    "vscode": {
     "languageId": "plaintext"
    }
   },
   "outputs": [],
   "source": [
    "x_val = mystery_fun(a = 9, epsilon = 1e-8, alpha = 2000000)\n",
    "print(x_val)"
   ]
  }
 ],
 "metadata": {
  "language_info": {
   "name": "python"
  }
 },
 "nbformat": 4,
 "nbformat_minor": 2
}
