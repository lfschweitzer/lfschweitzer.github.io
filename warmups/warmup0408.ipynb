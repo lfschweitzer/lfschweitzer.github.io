{
 "cells": [
  {
   "cell_type": "code",
   "execution_count": null,
   "metadata": {},
   "outputs": [],
   "source": [
    "import urllib.request\n",
    "from PIL import Image\n",
    "from matplotlib import pyplot as plt\n",
    "import torch\n",
    "import numpy as np\n",
    "\n",
    "def read_image(url):\n",
    "    urllib.request.urlretrieve(url, \"maru.png\")\n",
    "    img = Image.open(\"maru.png\")\n",
    "    return torch.tensor(np.array(img)/255).float()\n",
    "\n",
    "url = \"https://github.com/middlebury-csci-0451/CSCI-0451-s24/blob/main/assets/img/figs/maru.png?raw=true\"\n",
    "\n",
    "img = read_image(url)\n",
    "\n",
    "def to_greyscale(im):\n",
    "    v = torch.tensor([0.2989, 0.5870, 0.1140])\n",
    "    return 1 - img[:,:,:3]@v\n",
    "\n",
    "img = to_greyscale(img)\n",
    "\n",
    "plt.imshow(img, cmap = \"Greys\")\n",
    "no_ax = plt.gca().axis(\"off\")"
   ]
  },
  {
   "cell_type": "markdown",
   "metadata": {},
   "source": [
    "Implement kernel convolution for extracting features from images. Your implementation should accept a 2d array X (think of X as representing a greyscale image) and a square convolutional kernel K. Your implementation should operate using pure torch. You can use any zero-padding strategy, but you do need to explain what your strategy is when presenting."
   ]
  },
  {
   "cell_type": "code",
   "execution_count": null,
   "metadata": {},
   "outputs": [],
   "source": [
    "import torch.nn.functional as F\n",
    "import torch\n",
    "\n",
    "def convolve2d(img, kernel):\n",
    "    \n",
    "    # padding is kernel row size//2\n",
    "    padding = kernel.shape[0] // 2\n",
    "    \n",
    "    # Apply zero-padding to the input image so that we can have 3 neighbors of our edge pixels\n",
    "    img_padded = torch.nn.functional.pad(img.float(), (padding, padding, padding, padding), mode='constant', value=0)\n",
    "    \n",
    "    # Initialize an empty tensor to store the convolution result\n",
    "    conv_output = torch.zeros_like(img)\n",
    "    \n",
    "    # loop through the rows and cols of the image\n",
    "    for i in range(padding, img_padded.shape[0] - padding):\n",
    "        for j in range(padding, img_padded.shape[1] - padding):\n",
    "            \n",
    "            # Go through and copy the image\n",
    "            region = img_padded[i - padding:i + padding + 1, j - padding:j + padding + 1]\n",
    "            \n",
    "            # multiply the region with the kernel and sum\n",
    "            conv_output[i - padding, j - padding] = torch.sum(region * kernel)\n",
    "    \n",
    "    return conv_output"
   ]
  },
  {
   "cell_type": "code",
   "execution_count": null,
   "metadata": {},
   "outputs": [],
   "source": [
    "# from scipy.signal import convolve2d\n",
    "\n",
    "kernel = torch.tensor([[-1, -1, -1], [-1,  8, -1], [-1, -1, -1]])\n",
    "\n",
    "convd = convolve2d(img, kernel)\n",
    "\n",
    "plt.imshow(convd, cmap = \"Greys\", vmin = 0, vmax = 0.1)\n",
    "plt.gca().axis(\"off\")"
   ]
  }
 ],
 "metadata": {
  "language_info": {
   "name": "python"
  }
 },
 "nbformat": 4,
 "nbformat_minor": 2
}
