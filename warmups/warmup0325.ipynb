{
 "cells": [
  {
   "cell_type": "code",
   "execution_count": null,
   "metadata": {},
   "outputs": [],
   "source": [
    "import matplotlib.pyplot as plt\n",
    "import numpy as np\n",
    "\n",
    "def f(z):\n",
    "    return 1/(1 + np.exp(-z))\n",
    "\n",
    "z_val = np.linspace(-1, 1, 100)\n",
    "\n",
    "y = f(z_val)\n",
    "\n",
    "plt.plot(z_val, y)\n",
    "\n",
    "plt.grid(True)\n",
    "plt.show()"
   ]
  }
 ],
 "metadata": {
  "language_info": {
   "name": "python"
  }
 },
 "nbformat": 4,
 "nbformat_minor": 2
}
