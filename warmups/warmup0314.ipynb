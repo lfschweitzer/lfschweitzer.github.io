{
 "cells": [
  {
   "cell_type": "markdown",
   "metadata": {},
   "source": [
    "# 1. Generates the data"
   ]
  },
  {
   "cell_type": "code",
   "execution_count": 1,
   "metadata": {},
   "outputs": [],
   "source": [
    "import torch\n",
    "\n",
    "torch.manual_seed(1234)\n",
    "\n",
    "def perceptron_data(n_points = 300, noise = 0.2):\n",
    "    \n",
    "    y = torch.arange(n_points) >= int(n_points/2)\n",
    "    X = y[:, None] + torch.normal(0.0, noise, size = (n_points,2))\n",
    "    X = torch.cat((X, torch.ones((X.shape[0], 1))), 1)\n",
    "\n",
    "    # convert y from {0, 1} to {-1, 1}\n",
    "    y = 2*y - 1\n",
    "\n",
    "    return X, y\n",
    "\n",
    "X, y = perceptron_data(n_points = 300, noise = 0.2)"
   ]
  },
  {
   "cell_type": "code",
   "execution_count": null,
   "metadata": {},
   "outputs": [],
   "source": [
    "X"
   ]
  },
  {
   "cell_type": "code",
   "execution_count": 8,
   "metadata": {},
   "outputs": [
    {
     "data": {
      "text/plain": [
       "tensor([-1, -1, -1, -1, -1, -1, -1, -1, -1, -1, -1, -1, -1, -1, -1, -1, -1, -1,\n",
       "        -1, -1, -1, -1, -1, -1, -1, -1, -1, -1, -1, -1, -1, -1, -1, -1, -1, -1,\n",
       "        -1, -1, -1, -1, -1, -1, -1, -1, -1, -1, -1, -1, -1, -1, -1, -1, -1, -1,\n",
       "        -1, -1, -1, -1, -1, -1, -1, -1, -1, -1, -1, -1, -1, -1, -1, -1, -1, -1,\n",
       "        -1, -1, -1, -1, -1, -1, -1, -1, -1, -1, -1, -1, -1, -1, -1, -1, -1, -1,\n",
       "        -1, -1, -1, -1, -1, -1, -1, -1, -1, -1, -1, -1, -1, -1, -1, -1, -1, -1,\n",
       "        -1, -1, -1, -1, -1, -1, -1, -1, -1, -1, -1, -1, -1, -1, -1, -1, -1, -1,\n",
       "        -1, -1, -1, -1, -1, -1, -1, -1, -1, -1, -1, -1, -1, -1, -1, -1, -1, -1,\n",
       "        -1, -1, -1, -1, -1, -1,  1,  1,  1,  1,  1,  1,  1,  1,  1,  1,  1,  1,\n",
       "         1,  1,  1,  1,  1,  1,  1,  1,  1,  1,  1,  1,  1,  1,  1,  1,  1,  1,\n",
       "         1,  1,  1,  1,  1,  1,  1,  1,  1,  1,  1,  1,  1,  1,  1,  1,  1,  1,\n",
       "         1,  1,  1,  1,  1,  1,  1,  1,  1,  1,  1,  1,  1,  1,  1,  1,  1,  1,\n",
       "         1,  1,  1,  1,  1,  1,  1,  1,  1,  1,  1,  1,  1,  1,  1,  1,  1,  1,\n",
       "         1,  1,  1,  1,  1,  1,  1,  1,  1,  1,  1,  1,  1,  1,  1,  1,  1,  1,\n",
       "         1,  1,  1,  1,  1,  1,  1,  1,  1,  1,  1,  1,  1,  1,  1,  1,  1,  1,\n",
       "         1,  1,  1,  1,  1,  1,  1,  1,  1,  1,  1,  1,  1,  1,  1,  1,  1,  1,\n",
       "         1,  1,  1,  1,  1,  1,  1,  1,  1,  1,  1,  1])"
      ]
     },
     "execution_count": 8,
     "metadata": {},
     "output_type": "execute_result"
    }
   ],
   "source": [
    "y"
   ]
  },
  {
   "cell_type": "markdown",
   "metadata": {},
   "source": [
    "# 2. three class definitions"
   ]
  },
  {
   "cell_type": "code",
   "execution_count": 9,
   "metadata": {},
   "outputs": [
    {
     "name": "stdout",
     "output_type": "stream",
     "text": [
      "tensor(True)\n"
     ]
    }
   ],
   "source": [
    "import torch\n",
    "\n",
    "class LinearModel:\n",
    "\n",
    "    def __init__(self):\n",
    "        self.w = None \n",
    "\n",
    "    def score(self, X):\n",
    "        \"\"\"\n",
    "        Compute the scores for each data point in the feature matrix X. \n",
    "        The formula for the ith entry of s is s[i] = <self.w, x[i]>. \n",
    "\n",
    "        If self.w currently has value None, then it is necessary to first initialize self.w to a random value. \n",
    "\n",
    "        ARGUMENTS: \n",
    "            X, torch.Tensor: the feature matrix. X.size() == (n, p), \n",
    "            where n is the number of data points and p is the \n",
    "            number of features. This implementation always assumes \n",
    "            that the final column of X is a constant column of 1s. \n",
    "\n",
    "        RETURNS: \n",
    "            s torch.Tensor: vector of scores. s.size() = (n,)\n",
    "        \"\"\"\n",
    "        if self.w is None: \n",
    "            self.w = torch.rand((X.size()[1]))\n",
    "        \n",
    "        s = torch.matmul(X, self.w)\n",
    "        \n",
    "        return s\n",
    "\n",
    "    def predict(self, X):\n",
    "        \"\"\"\n",
    "        Compute the predictions for each data point in the feature matrix X. The prediction for the ith data point is either 0 or 1. \n",
    "\n",
    "        ARGUMENTS: \n",
    "            X, torch.Tensor: the feature matrix. X.size() == (n, p), \n",
    "            where n is the number of data points and p is the \n",
    "            number of features. This implementation always assumes \n",
    "            that the final column of X is a constant column of 1s. \n",
    "\n",
    "        RETURNS: \n",
    "            y_hat, torch.Tensor: vector predictions in {0.0, 1.0}. y_hat.size() = (n,)\n",
    "        \"\"\"\n",
    "        s = self.score(X)\n",
    "        \n",
    "        threshold = 0.5\n",
    "        y_hat = torch.where(s >= threshold, torch.tensor(1.0), torch.tensor(0.0))\n",
    "        \n",
    "        return y_hat\n",
    "\n",
    "class Perceptron(LinearModel):\n",
    "\n",
    "    def loss(self, X, y):\n",
    "        \"\"\"\n",
    "        Compute the misclassification rate. In the perceptron algorithm, the target vector y is assumed to have labels in {-1, 1}. A point i is classified correctly if its score s_i has the same sign as y_i. \n",
    "\n",
    "        ARGUMENTS: \n",
    "            X, torch.Tensor: the feature matrix. X.size() == (n, p), \n",
    "            where n is the number of data points and p is the \n",
    "            number of features. This implementation always assumes \n",
    "            that the final column of X is a constant column of 1s. \n",
    "\n",
    "            y, torch.Tensor: the target vector.  y.size() = (n,). In the perceptron algorithm, the possible labels for y are assumed to be {-1, 1}\n",
    "        \"\"\"\n",
    "\n",
    "        y_hat = self.predict(X)\n",
    "        \n",
    "        misc = torch.where(y_hat*y > 0, False, True)\n",
    "        \n",
    "        misc_rate = (1.0*misc).mean()\n",
    "        \n",
    "        print(misc_rate)\n",
    "        \n",
    "        return misc_rate\n",
    "\n",
    "    def grad(self, X, y):\n",
    "        pass \n",
    "\n",
    "class PerceptronOptimizer:\n",
    "\n",
    "    def __init__(self, model):\n",
    "        self.model = model \n",
    "    \n",
    "    def step(self, X, y):\n",
    "        \"\"\"\n",
    "        Compute one step of the perceptron update using the feature matrix X \n",
    "        and target vector y. \n",
    "        \"\"\"\n",
    "        pass\n",
    "    \n",
    "    \n",
    "p = Perceptron()\n",
    "s = p.score(X)\n",
    "l = p.loss(X, y)\n",
    "print(l == 0.5)"
   ]
  },
  {
   "cell_type": "code",
   "execution_count": null,
   "metadata": {},
   "outputs": [],
   "source": []
  }
 ],
 "metadata": {
  "kernelspec": {
   "display_name": "ml-0451",
   "language": "python",
   "name": "python3"
  },
  "language_info": {
   "codemirror_mode": {
    "name": "ipython",
    "version": 3
   },
   "file_extension": ".py",
   "mimetype": "text/x-python",
   "name": "python",
   "nbconvert_exporter": "python",
   "pygments_lexer": "ipython3",
   "version": "3.9.18"
  },
  "orig_nbformat": 4
 },
 "nbformat": 4,
 "nbformat_minor": 2
}
