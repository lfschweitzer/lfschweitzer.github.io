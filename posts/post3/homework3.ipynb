{
 "cells": [
  {
   "cell_type": "markdown",
   "metadata": {},
   "source": [
    "# <u> Dissecting racial bias in an algorithm used to manage the health of populations </u>"
   ]
  },
  {
   "cell_type": "markdown",
   "metadata": {},
   "source": [
    "# Part A: Data Access"
   ]
  },
  {
   "cell_type": "code",
   "execution_count": 77,
   "metadata": {},
   "outputs": [],
   "source": [
    "import pandas as pd\n",
    "url = \"https://gitlab.com/labsysmed/dissecting-bias/-/raw/master/data/data_new.csv?inline=false\"\n",
    "df = pd.read_csv(url)"
   ]
  },
  {
   "cell_type": "code",
   "execution_count": 78,
   "metadata": {},
   "outputs": [
    {
     "data": {
      "text/html": [
       "<div>\n",
       "<style scoped>\n",
       "    .dataframe tbody tr th:only-of-type {\n",
       "        vertical-align: middle;\n",
       "    }\n",
       "\n",
       "    .dataframe tbody tr th {\n",
       "        vertical-align: top;\n",
       "    }\n",
       "\n",
       "    .dataframe thead th {\n",
       "        text-align: right;\n",
       "    }\n",
       "</style>\n",
       "<table border=\"1\" class=\"dataframe\">\n",
       "  <thead>\n",
       "    <tr style=\"text-align: right;\">\n",
       "      <th></th>\n",
       "      <th>risk_score_t</th>\n",
       "      <th>program_enrolled_t</th>\n",
       "      <th>cost_t</th>\n",
       "      <th>cost_avoidable_t</th>\n",
       "      <th>bps_mean_t</th>\n",
       "      <th>ghba1c_mean_t</th>\n",
       "      <th>hct_mean_t</th>\n",
       "      <th>cre_mean_t</th>\n",
       "      <th>ldl_mean_t</th>\n",
       "      <th>race</th>\n",
       "      <th>...</th>\n",
       "      <th>trig_min-high_tm1</th>\n",
       "      <th>trig_min-normal_tm1</th>\n",
       "      <th>trig_mean-low_tm1</th>\n",
       "      <th>trig_mean-high_tm1</th>\n",
       "      <th>trig_mean-normal_tm1</th>\n",
       "      <th>trig_max-low_tm1</th>\n",
       "      <th>trig_max-high_tm1</th>\n",
       "      <th>trig_max-normal_tm1</th>\n",
       "      <th>gagne_sum_tm1</th>\n",
       "      <th>gagne_sum_t</th>\n",
       "    </tr>\n",
       "  </thead>\n",
       "  <tbody>\n",
       "    <tr>\n",
       "      <th>0</th>\n",
       "      <td>1.987430</td>\n",
       "      <td>0</td>\n",
       "      <td>1200.0</td>\n",
       "      <td>0.0</td>\n",
       "      <td>NaN</td>\n",
       "      <td>5.4</td>\n",
       "      <td>NaN</td>\n",
       "      <td>1.110000</td>\n",
       "      <td>194.0</td>\n",
       "      <td>white</td>\n",
       "      <td>...</td>\n",
       "      <td>0</td>\n",
       "      <td>0</td>\n",
       "      <td>0</td>\n",
       "      <td>0</td>\n",
       "      <td>0</td>\n",
       "      <td>0</td>\n",
       "      <td>0</td>\n",
       "      <td>0</td>\n",
       "      <td>0</td>\n",
       "      <td>0</td>\n",
       "    </tr>\n",
       "    <tr>\n",
       "      <th>1</th>\n",
       "      <td>7.677934</td>\n",
       "      <td>0</td>\n",
       "      <td>2600.0</td>\n",
       "      <td>0.0</td>\n",
       "      <td>119.0</td>\n",
       "      <td>5.5</td>\n",
       "      <td>40.4</td>\n",
       "      <td>0.860000</td>\n",
       "      <td>93.0</td>\n",
       "      <td>white</td>\n",
       "      <td>...</td>\n",
       "      <td>0</td>\n",
       "      <td>1</td>\n",
       "      <td>0</td>\n",
       "      <td>0</td>\n",
       "      <td>1</td>\n",
       "      <td>0</td>\n",
       "      <td>0</td>\n",
       "      <td>1</td>\n",
       "      <td>4</td>\n",
       "      <td>3</td>\n",
       "    </tr>\n",
       "    <tr>\n",
       "      <th>2</th>\n",
       "      <td>0.407678</td>\n",
       "      <td>0</td>\n",
       "      <td>500.0</td>\n",
       "      <td>0.0</td>\n",
       "      <td>NaN</td>\n",
       "      <td>NaN</td>\n",
       "      <td>NaN</td>\n",
       "      <td>NaN</td>\n",
       "      <td>NaN</td>\n",
       "      <td>white</td>\n",
       "      <td>...</td>\n",
       "      <td>0</td>\n",
       "      <td>0</td>\n",
       "      <td>0</td>\n",
       "      <td>0</td>\n",
       "      <td>0</td>\n",
       "      <td>0</td>\n",
       "      <td>0</td>\n",
       "      <td>0</td>\n",
       "      <td>0</td>\n",
       "      <td>0</td>\n",
       "    </tr>\n",
       "    <tr>\n",
       "      <th>3</th>\n",
       "      <td>0.798369</td>\n",
       "      <td>0</td>\n",
       "      <td>1300.0</td>\n",
       "      <td>0.0</td>\n",
       "      <td>117.0</td>\n",
       "      <td>NaN</td>\n",
       "      <td>NaN</td>\n",
       "      <td>NaN</td>\n",
       "      <td>NaN</td>\n",
       "      <td>white</td>\n",
       "      <td>...</td>\n",
       "      <td>0</td>\n",
       "      <td>0</td>\n",
       "      <td>0</td>\n",
       "      <td>0</td>\n",
       "      <td>0</td>\n",
       "      <td>0</td>\n",
       "      <td>0</td>\n",
       "      <td>0</td>\n",
       "      <td>0</td>\n",
       "      <td>0</td>\n",
       "    </tr>\n",
       "    <tr>\n",
       "      <th>4</th>\n",
       "      <td>17.513165</td>\n",
       "      <td>0</td>\n",
       "      <td>1100.0</td>\n",
       "      <td>0.0</td>\n",
       "      <td>116.0</td>\n",
       "      <td>NaN</td>\n",
       "      <td>34.1</td>\n",
       "      <td>1.303333</td>\n",
       "      <td>53.0</td>\n",
       "      <td>white</td>\n",
       "      <td>...</td>\n",
       "      <td>0</td>\n",
       "      <td>0</td>\n",
       "      <td>0</td>\n",
       "      <td>0</td>\n",
       "      <td>0</td>\n",
       "      <td>0</td>\n",
       "      <td>0</td>\n",
       "      <td>0</td>\n",
       "      <td>1</td>\n",
       "      <td>1</td>\n",
       "    </tr>\n",
       "    <tr>\n",
       "      <th>...</th>\n",
       "      <td>...</td>\n",
       "      <td>...</td>\n",
       "      <td>...</td>\n",
       "      <td>...</td>\n",
       "      <td>...</td>\n",
       "      <td>...</td>\n",
       "      <td>...</td>\n",
       "      <td>...</td>\n",
       "      <td>...</td>\n",
       "      <td>...</td>\n",
       "      <td>...</td>\n",
       "      <td>...</td>\n",
       "      <td>...</td>\n",
       "      <td>...</td>\n",
       "      <td>...</td>\n",
       "      <td>...</td>\n",
       "      <td>...</td>\n",
       "      <td>...</td>\n",
       "      <td>...</td>\n",
       "      <td>...</td>\n",
       "      <td>...</td>\n",
       "    </tr>\n",
       "    <tr>\n",
       "      <th>48779</th>\n",
       "      <td>0.611517</td>\n",
       "      <td>0</td>\n",
       "      <td>800.0</td>\n",
       "      <td>0.0</td>\n",
       "      <td>NaN</td>\n",
       "      <td>NaN</td>\n",
       "      <td>NaN</td>\n",
       "      <td>1.090000</td>\n",
       "      <td>148.0</td>\n",
       "      <td>white</td>\n",
       "      <td>...</td>\n",
       "      <td>0</td>\n",
       "      <td>0</td>\n",
       "      <td>0</td>\n",
       "      <td>0</td>\n",
       "      <td>0</td>\n",
       "      <td>0</td>\n",
       "      <td>0</td>\n",
       "      <td>0</td>\n",
       "      <td>0</td>\n",
       "      <td>0</td>\n",
       "    </tr>\n",
       "    <tr>\n",
       "      <th>48780</th>\n",
       "      <td>2.615933</td>\n",
       "      <td>0</td>\n",
       "      <td>2200.0</td>\n",
       "      <td>0.0</td>\n",
       "      <td>112.0</td>\n",
       "      <td>NaN</td>\n",
       "      <td>41.4</td>\n",
       "      <td>0.810000</td>\n",
       "      <td>172.0</td>\n",
       "      <td>white</td>\n",
       "      <td>...</td>\n",
       "      <td>0</td>\n",
       "      <td>1</td>\n",
       "      <td>0</td>\n",
       "      <td>0</td>\n",
       "      <td>1</td>\n",
       "      <td>0</td>\n",
       "      <td>0</td>\n",
       "      <td>1</td>\n",
       "      <td>1</td>\n",
       "      <td>1</td>\n",
       "    </tr>\n",
       "    <tr>\n",
       "      <th>48781</th>\n",
       "      <td>1.358926</td>\n",
       "      <td>0</td>\n",
       "      <td>800.0</td>\n",
       "      <td>0.0</td>\n",
       "      <td>105.0</td>\n",
       "      <td>NaN</td>\n",
       "      <td>NaN</td>\n",
       "      <td>NaN</td>\n",
       "      <td>NaN</td>\n",
       "      <td>white</td>\n",
       "      <td>...</td>\n",
       "      <td>0</td>\n",
       "      <td>1</td>\n",
       "      <td>0</td>\n",
       "      <td>0</td>\n",
       "      <td>1</td>\n",
       "      <td>0</td>\n",
       "      <td>0</td>\n",
       "      <td>1</td>\n",
       "      <td>1</td>\n",
       "      <td>0</td>\n",
       "    </tr>\n",
       "    <tr>\n",
       "      <th>48782</th>\n",
       "      <td>10.990318</td>\n",
       "      <td>0</td>\n",
       "      <td>1300.0</td>\n",
       "      <td>0.0</td>\n",
       "      <td>132.0</td>\n",
       "      <td>NaN</td>\n",
       "      <td>NaN</td>\n",
       "      <td>NaN</td>\n",
       "      <td>NaN</td>\n",
       "      <td>white</td>\n",
       "      <td>...</td>\n",
       "      <td>0</td>\n",
       "      <td>0</td>\n",
       "      <td>0</td>\n",
       "      <td>0</td>\n",
       "      <td>0</td>\n",
       "      <td>0</td>\n",
       "      <td>0</td>\n",
       "      <td>0</td>\n",
       "      <td>3</td>\n",
       "      <td>3</td>\n",
       "    </tr>\n",
       "    <tr>\n",
       "      <th>48783</th>\n",
       "      <td>1.681671</td>\n",
       "      <td>0</td>\n",
       "      <td>4400.0</td>\n",
       "      <td>0.0</td>\n",
       "      <td>115.0</td>\n",
       "      <td>5.6</td>\n",
       "      <td>36.6</td>\n",
       "      <td>0.940000</td>\n",
       "      <td>NaN</td>\n",
       "      <td>white</td>\n",
       "      <td>...</td>\n",
       "      <td>0</td>\n",
       "      <td>0</td>\n",
       "      <td>0</td>\n",
       "      <td>0</td>\n",
       "      <td>0</td>\n",
       "      <td>0</td>\n",
       "      <td>0</td>\n",
       "      <td>0</td>\n",
       "      <td>0</td>\n",
       "      <td>0</td>\n",
       "    </tr>\n",
       "  </tbody>\n",
       "</table>\n",
       "<p>48784 rows × 160 columns</p>\n",
       "</div>"
      ],
      "text/plain": [
       "       risk_score_t  program_enrolled_t  cost_t  cost_avoidable_t  bps_mean_t  \\\n",
       "0          1.987430                   0  1200.0               0.0         NaN   \n",
       "1          7.677934                   0  2600.0               0.0       119.0   \n",
       "2          0.407678                   0   500.0               0.0         NaN   \n",
       "3          0.798369                   0  1300.0               0.0       117.0   \n",
       "4         17.513165                   0  1100.0               0.0       116.0   \n",
       "...             ...                 ...     ...               ...         ...   \n",
       "48779      0.611517                   0   800.0               0.0         NaN   \n",
       "48780      2.615933                   0  2200.0               0.0       112.0   \n",
       "48781      1.358926                   0   800.0               0.0       105.0   \n",
       "48782     10.990318                   0  1300.0               0.0       132.0   \n",
       "48783      1.681671                   0  4400.0               0.0       115.0   \n",
       "\n",
       "       ghba1c_mean_t  hct_mean_t  cre_mean_t  ldl_mean_t   race  ...  \\\n",
       "0                5.4         NaN    1.110000       194.0  white  ...   \n",
       "1                5.5        40.4    0.860000        93.0  white  ...   \n",
       "2                NaN         NaN         NaN         NaN  white  ...   \n",
       "3                NaN         NaN         NaN         NaN  white  ...   \n",
       "4                NaN        34.1    1.303333        53.0  white  ...   \n",
       "...              ...         ...         ...         ...    ...  ...   \n",
       "48779            NaN         NaN    1.090000       148.0  white  ...   \n",
       "48780            NaN        41.4    0.810000       172.0  white  ...   \n",
       "48781            NaN         NaN         NaN         NaN  white  ...   \n",
       "48782            NaN         NaN         NaN         NaN  white  ...   \n",
       "48783            5.6        36.6    0.940000         NaN  white  ...   \n",
       "\n",
       "       trig_min-high_tm1  trig_min-normal_tm1  trig_mean-low_tm1  \\\n",
       "0                      0                    0                  0   \n",
       "1                      0                    1                  0   \n",
       "2                      0                    0                  0   \n",
       "3                      0                    0                  0   \n",
       "4                      0                    0                  0   \n",
       "...                  ...                  ...                ...   \n",
       "48779                  0                    0                  0   \n",
       "48780                  0                    1                  0   \n",
       "48781                  0                    1                  0   \n",
       "48782                  0                    0                  0   \n",
       "48783                  0                    0                  0   \n",
       "\n",
       "       trig_mean-high_tm1  trig_mean-normal_tm1  trig_max-low_tm1  \\\n",
       "0                       0                     0                 0   \n",
       "1                       0                     1                 0   \n",
       "2                       0                     0                 0   \n",
       "3                       0                     0                 0   \n",
       "4                       0                     0                 0   \n",
       "...                   ...                   ...               ...   \n",
       "48779                   0                     0                 0   \n",
       "48780                   0                     1                 0   \n",
       "48781                   0                     1                 0   \n",
       "48782                   0                     0                 0   \n",
       "48783                   0                     0                 0   \n",
       "\n",
       "       trig_max-high_tm1  trig_max-normal_tm1  gagne_sum_tm1  gagne_sum_t  \n",
       "0                      0                    0              0            0  \n",
       "1                      0                    1              4            3  \n",
       "2                      0                    0              0            0  \n",
       "3                      0                    0              0            0  \n",
       "4                      0                    0              1            1  \n",
       "...                  ...                  ...            ...          ...  \n",
       "48779                  0                    0              0            0  \n",
       "48780                  0                    1              1            1  \n",
       "48781                  0                    1              1            0  \n",
       "48782                  0                    0              3            3  \n",
       "48783                  0                    0              0            0  \n",
       "\n",
       "[48784 rows x 160 columns]"
      ]
     },
     "execution_count": 78,
     "metadata": {},
     "output_type": "execute_result"
    }
   ],
   "source": [
    "df"
   ]
  },
  {
   "cell_type": "markdown",
   "metadata": {},
   "source": [
    "# Part B: Reproduce Fig. 1"
   ]
  },
  {
   "cell_type": "markdown",
   "metadata": {},
   "source": [
    "Visualize risk score percentiles against mean number of active chronic conditions within that percentile. For example, I thought I would try spliting out male and female patients. I also think the figure looks a bit nicer with axes inverted. "
   ]
  },
  {
   "cell_type": "code",
   "execution_count": 79,
   "metadata": {},
   "outputs": [],
   "source": [
    "import seaborn as sns\n",
    "from matplotlib import pyplot as plt"
   ]
  },
  {
   "cell_type": "code",
   "execution_count": 80,
   "metadata": {},
   "outputs": [],
   "source": [
    "# Plot for females\n",
    "df_female_w = df[(df[\"dem_female\"] == True) & (df[\"race\"] == \"white\")]\n",
    "df_female_b = df[(df[\"dem_female\"] == True) & (df[\"race\"] == \"black\")]\n",
    "\n",
    "# Plot for males\n",
    "df_male_w = df[(df[\"dem_female\"] == False) & (df[\"race\"] == \"white\")]\n",
    "df_male_b = df[(df[\"dem_female\"] == True) & (df[\"race\"] == \"black\")]"
   ]
  },
  {
   "cell_type": "code",
   "execution_count": 81,
   "metadata": {},
   "outputs": [
    {
     "name": "stderr",
     "output_type": "stream",
     "text": [
      "/var/folders/g2/ybhd80ns31sc72zl62c5qcjm0000gn/T/ipykernel_55313/847333239.py:1: SettingWithCopyWarning: \n",
      "A value is trying to be set on a copy of a slice from a DataFrame.\n",
      "Try using .loc[row_indexer,col_indexer] = value instead\n",
      "\n",
      "See the caveats in the documentation: https://pandas.pydata.org/pandas-docs/stable/user_guide/indexing.html#returning-a-view-versus-a-copy\n",
      "  df_female_w['percentile_risk'] = (df_female_w['risk_score_t'].rank(pct=True) * 100).round()\n",
      "/var/folders/g2/ybhd80ns31sc72zl62c5qcjm0000gn/T/ipykernel_55313/847333239.py:2: SettingWithCopyWarning: \n",
      "A value is trying to be set on a copy of a slice from a DataFrame.\n",
      "Try using .loc[row_indexer,col_indexer] = value instead\n",
      "\n",
      "See the caveats in the documentation: https://pandas.pydata.org/pandas-docs/stable/user_guide/indexing.html#returning-a-view-versus-a-copy\n",
      "  df_female_b['percentile_risk'] = (df_female_b['risk_score_t'].rank(pct=True) * 100).round()\n",
      "/var/folders/g2/ybhd80ns31sc72zl62c5qcjm0000gn/T/ipykernel_55313/847333239.py:4: SettingWithCopyWarning: \n",
      "A value is trying to be set on a copy of a slice from a DataFrame.\n",
      "Try using .loc[row_indexer,col_indexer] = value instead\n",
      "\n",
      "See the caveats in the documentation: https://pandas.pydata.org/pandas-docs/stable/user_guide/indexing.html#returning-a-view-versus-a-copy\n",
      "  df_male_w['percentile_risk'] = (df_male_w['risk_score_t'].rank(pct=True) * 100).round()\n",
      "/var/folders/g2/ybhd80ns31sc72zl62c5qcjm0000gn/T/ipykernel_55313/847333239.py:5: SettingWithCopyWarning: \n",
      "A value is trying to be set on a copy of a slice from a DataFrame.\n",
      "Try using .loc[row_indexer,col_indexer] = value instead\n",
      "\n",
      "See the caveats in the documentation: https://pandas.pydata.org/pandas-docs/stable/user_guide/indexing.html#returning-a-view-versus-a-copy\n",
      "  df_male_b['percentile_risk'] = (df_male_b['risk_score_t'].rank(pct=True) * 100).round()\n"
     ]
    }
   ],
   "source": [
    "df_female_w['percentile_risk'] = (df_female_w['risk_score_t'].rank(pct=True) * 100).round()\n",
    "df_female_b['percentile_risk'] = (df_female_b['risk_score_t'].rank(pct=True) * 100).round()\n",
    "\n",
    "df_male_w['percentile_risk'] = (df_male_w['risk_score_t'].rank(pct=True) * 100).round()\n",
    "df_male_b['percentile_risk'] = (df_male_b['risk_score_t'].rank(pct=True) * 100).round()"
   ]
  },
  {
   "cell_type": "code",
   "execution_count": 82,
   "metadata": {},
   "outputs": [
    {
     "name": "stderr",
     "output_type": "stream",
     "text": [
      "/var/folders/g2/ybhd80ns31sc72zl62c5qcjm0000gn/T/ipykernel_55313/3692393164.py:1: SettingWithCopyWarning: \n",
      "A value is trying to be set on a copy of a slice from a DataFrame.\n",
      "Try using .loc[row_indexer,col_indexer] = value instead\n",
      "\n",
      "See the caveats in the documentation: https://pandas.pydata.org/pandas-docs/stable/user_guide/indexing.html#returning-a-view-versus-a-copy\n",
      "  df_female_w[\"chronic_illness_mean\"] = df_female_w.groupby(\"percentile_risk\")[\"gagne_sum_t\"].transform('mean')\n",
      "/var/folders/g2/ybhd80ns31sc72zl62c5qcjm0000gn/T/ipykernel_55313/3692393164.py:2: SettingWithCopyWarning: \n",
      "A value is trying to be set on a copy of a slice from a DataFrame.\n",
      "Try using .loc[row_indexer,col_indexer] = value instead\n",
      "\n",
      "See the caveats in the documentation: https://pandas.pydata.org/pandas-docs/stable/user_guide/indexing.html#returning-a-view-versus-a-copy\n",
      "  df_female_b[\"chronic_illness_mean\"] = df_female_b.groupby(\"percentile_risk\")[\"gagne_sum_t\"].transform('mean')\n",
      "/var/folders/g2/ybhd80ns31sc72zl62c5qcjm0000gn/T/ipykernel_55313/3692393164.py:5: SettingWithCopyWarning: \n",
      "A value is trying to be set on a copy of a slice from a DataFrame.\n",
      "Try using .loc[row_indexer,col_indexer] = value instead\n",
      "\n",
      "See the caveats in the documentation: https://pandas.pydata.org/pandas-docs/stable/user_guide/indexing.html#returning-a-view-versus-a-copy\n",
      "  df_male_w[\"chronic_illness_mean\"] = df_male_w.groupby(\"percentile_risk\")[\"gagne_sum_t\"].transform('mean')\n",
      "/var/folders/g2/ybhd80ns31sc72zl62c5qcjm0000gn/T/ipykernel_55313/3692393164.py:6: SettingWithCopyWarning: \n",
      "A value is trying to be set on a copy of a slice from a DataFrame.\n",
      "Try using .loc[row_indexer,col_indexer] = value instead\n",
      "\n",
      "See the caveats in the documentation: https://pandas.pydata.org/pandas-docs/stable/user_guide/indexing.html#returning-a-view-versus-a-copy\n",
      "  df_male_b[\"chronic_illness_mean\"] = df_male_b.groupby(\"percentile_risk\")[\"gagne_sum_t\"].transform('mean')\n"
     ]
    }
   ],
   "source": [
    "df_female_w[\"chronic_illness_mean\"] = df_female_w.groupby(\"percentile_risk\")[\"gagne_sum_t\"].transform('mean')\n",
    "df_female_b[\"chronic_illness_mean\"] = df_female_b.groupby(\"percentile_risk\")[\"gagne_sum_t\"].transform('mean')\n",
    "\n",
    "\n",
    "df_male_w[\"chronic_illness_mean\"] = df_male_w.groupby(\"percentile_risk\")[\"gagne_sum_t\"].transform('mean')\n",
    "df_male_b[\"chronic_illness_mean\"] = df_male_b.groupby(\"percentile_risk\")[\"gagne_sum_t\"].transform('mean')\n"
   ]
  },
  {
   "cell_type": "code",
   "execution_count": 83,
   "metadata": {},
   "outputs": [],
   "source": [
    "concat_female = pd.concat([df_female_w, df_female_b])\n",
    "concat_male = pd.concat([df_male_w, df_male_b])\n"
   ]
  },
  {
   "cell_type": "code",
   "execution_count": 84,
   "metadata": {},
   "outputs": [
    {
     "data": {
      "image/png": "[encoded data removed]",
      "text/plain": [
       "<Figure size 1200x600 with 2 Axes>"
      ]
     },
     "metadata": {},
     "output_type": "display_data"
    }
   ],
   "source": [
    "fig, axes = plt.subplots(1, 2, figsize=(12, 6))\n",
    "custom_palette = [\"green\", \"blue\"]\n",
    "\n",
    "sns.scatterplot(data=concat_female, x=\"chronic_illness_mean\", y=\"percentile_risk\", hue=\"race\", style=\"race\", ax=axes[0], palette=custom_palette)\n",
    "axes[0].set_xlabel('Mean number of chronic illnesses')\n",
    "axes[0].set_ylabel('Percentile risk score (from algorithm)')\n",
    "axes[0].set_title('Female')\n",
    "axes[0].set_yticks(range(0, 101, 10))\n",
    "axes[0].set_xticks(range(0, 9, 2))\n",
    "axes[0].set_xlim(0, 9)\n",
    "\n",
    "sns.scatterplot(data=concat_male, x=\"chronic_illness_mean\", y=\"percentile_risk\", hue=\"race\", style=\"race\", ax=axes[1], palette=custom_palette)\n",
    "axes[1].set_xlabel('Mean number of chronic illnesses')\n",
    "axes[1].set_ylabel('Percentile risk score (from algorithm)')\n",
    "axes[1].set_title('Male')\n",
    "axes[1].set_yticks(range(0, 101, 10))\n",
    "axes[1].set_xticks(range(0, 9, 2))\n",
    "axes[1].set_xlim(0, 9)\n",
    "\n",
    "plt.tight_layout()\n",
    "plt.show()"
   ]
  },
  {
   "cell_type": "markdown",
   "metadata": {},
   "source": [
    "Include a brief discussion of the meaning of this plot. Suppose that Patient A is Black, that Patient B is White, and that both Patient A and Patient B have exactly the same chronic illnesses. Are Patient A and Patient B equally likely to be referred to the high-risk care management program?"
   ]
  },
  {
   "cell_type": "markdown",
   "metadata": {},
   "source": [
    "If Patient A and Patient B have exactly the same chronic illnesses they are not equally likely to be referred ot the high-risk care management program. Patient B is more likely to be referred as for the same number mean number of chronic illnesses, white patients are given a higher percentile risk score."
   ]
  },
  {
   "cell_type": "markdown",
   "metadata": {},
   "source": [
    "# Part C: Reproduce Fig. 3"
   ]
  },
  {
   "cell_type": "code",
   "execution_count": 85,
   "metadata": {},
   "outputs": [],
   "source": [
    "df_w = df[df[\"race\"] == \"white\"]\n",
    "df_b = df[df[\"race\"] == \"black\"]"
   ]
  },
  {
   "cell_type": "code",
   "execution_count": 86,
   "metadata": {},
   "outputs": [
    {
     "name": "stderr",
     "output_type": "stream",
     "text": [
      "/var/folders/g2/ybhd80ns31sc72zl62c5qcjm0000gn/T/ipykernel_55313/3671706551.py:1: SettingWithCopyWarning: \n",
      "A value is trying to be set on a copy of a slice from a DataFrame.\n",
      "Try using .loc[row_indexer,col_indexer] = value instead\n",
      "\n",
      "See the caveats in the documentation: https://pandas.pydata.org/pandas-docs/stable/user_guide/indexing.html#returning-a-view-versus-a-copy\n",
      "  df_w['percentile_risk'] = (df_w['risk_score_t'].rank(pct=True) * 100).round()\n",
      "/var/folders/g2/ybhd80ns31sc72zl62c5qcjm0000gn/T/ipykernel_55313/3671706551.py:2: SettingWithCopyWarning: \n",
      "A value is trying to be set on a copy of a slice from a DataFrame.\n",
      "Try using .loc[row_indexer,col_indexer] = value instead\n",
      "\n",
      "See the caveats in the documentation: https://pandas.pydata.org/pandas-docs/stable/user_guide/indexing.html#returning-a-view-versus-a-copy\n",
      "  df_b['percentile_risk'] = (df_b['risk_score_t'].rank(pct=True) * 100).round()\n"
     ]
    }
   ],
   "source": [
    "df_w['percentile_risk'] = (df_w['risk_score_t'].rank(pct=True) * 100).round()\n",
    "df_b['percentile_risk'] = (df_b['risk_score_t'].rank(pct=True) * 100).round()"
   ]
  },
  {
   "cell_type": "code",
   "execution_count": 87,
   "metadata": {},
   "outputs": [],
   "source": [
    "mean_cost_w = (df_w.groupby('percentile_risk')['cost_t'].mean()).reset_index()\n",
    "mean_cost_w['race'] = 'white'\n",
    "mean_cost_b = (df_b.groupby('percentile_risk')['cost_t'].mean()).reset_index()\n",
    "mean_cost_b['race'] = 'black'"
   ]
  },
  {
   "cell_type": "code",
   "execution_count": 88,
   "metadata": {},
   "outputs": [],
   "source": [
    "mean_gagne_w = (df_w.groupby('gagne_sum_t')['cost_t'].mean()).reset_index()\n",
    "mean_gagne_w['race'] = 'white'\n",
    "mean_gagne_b = (df_b.groupby('gagne_sum_t')['cost_t'].mean()).reset_index()\n",
    "mean_gagne_b['race'] = 'black'"
   ]
  },
  {
   "cell_type": "code",
   "execution_count": 89,
   "metadata": {},
   "outputs": [],
   "source": [
    "concat_cost = pd.concat([mean_cost_w, mean_cost_b])\n",
    "concat_gagne = pd.concat([mean_gagne_w, mean_gagne_b])"
   ]
  },
  {
   "cell_type": "code",
   "execution_count": 90,
   "metadata": {},
   "outputs": [
    {
     "data": {
      "image/png": "[encoded data removed]",
      "text/plain": [
       "<Figure size 1200x600 with 2 Axes>"
      ]
     },
     "metadata": {},
     "output_type": "display_data"
    }
   ],
   "source": [
    "fig, axes = plt.subplots(1, 2, figsize=(12, 6))\n",
    "custom_palette = [\"blue\", \"green\"]\n",
    "\n",
    "sns.scatterplot(data=concat_cost, x=\"percentile_risk\", y=\"cost_t\", hue=\"race\", style=\"race\", ax=axes[0], palette=custom_palette)\n",
    "axes[0].set_xlabel('Percentile Risk Score')\n",
    "axes[0].set_ylabel('Total Medical Expenditure')\n",
    "axes[0].set_yscale('log')\n",
    "\n",
    "sns.scatterplot(data=concat_gagne, x=\"gagne_sum_t\", y=\"cost_t\", hue=\"race\", style=\"race\", ax=axes[1], palette=custom_palette)\n",
    "axes[1].set_xlabel('Number of Chronic Illnesses')\n",
    "axes[1].set_ylabel('')\n",
    "axes[1].set_yscale('log')\n",
    "\n",
    "plt.tight_layout()\n",
    "plt.show()"
   ]
  },
  {
   "cell_type": "markdown",
   "metadata": {},
   "source": [
    "We can see from the graph on the left that the total medical expenditure is higher on average for white patients with the same percentile risk score as black patients. The right plot shows that for five or fewer chronic illnesses, white patients receive higher total medical expenditure. It is important to note too that the majority of patients have five or fewer chronic illnesses."
   ]
  },
  {
   "cell_type": "markdown",
   "metadata": {},
   "source": [
    "# Part D: Modeling Cost Disparity"
   ]
  },
  {
   "cell_type": "markdown",
   "metadata": {},
   "source": [
    "## 1. Data Prep"
   ]
  },
  {
   "cell_type": "markdown",
   "metadata": {},
   "source": [
    "### First, determine the percentage of the patients in the data with 5 or fewer chronic conditions. Does this percentage justify the choice to focus on these patients?"
   ]
  },
  {
   "cell_type": "code",
   "execution_count": 91,
   "metadata": {},
   "outputs": [
    {
     "data": {
      "text/plain": [
       "95.53952115447689"
      ]
     },
     "execution_count": 91,
     "metadata": {},
     "output_type": "execute_result"
    }
   ],
   "source": [
    "percent_five_cond = (len(df[df[\"gagne_sum_t\"] <= 5])/ len(df)) * 100\n",
    "percent_five_cond"
   ]
  },
  {
   "cell_type": "markdown",
   "metadata": {},
   "source": [
    "95.5% of patients in the data have five or fewer chronic conditions. Therefore we can justify focusing on these patients as they represent the vast majority of cases."
   ]
  },
  {
   "cell_type": "markdown",
   "metadata": {},
   "source": [
    "### Create a new column of the data set which is just the logarithm of the cost. This is called a log-transform. We’ll use this as our target variable. Log transforms are common when the target variable varies widely across several orders of magnitude. Because log(0) is undefined, you should subset the data so that patients who incurred $0 in medical costs are removed."
   ]
  },
  {
   "cell_type": "code",
   "execution_count": 115,
   "metadata": {},
   "outputs": [
    {
     "name": "stderr",
     "output_type": "stream",
     "text": [
      "/var/folders/g2/ybhd80ns31sc72zl62c5qcjm0000gn/T/ipykernel_55313/3063579173.py:4: SettingWithCopyWarning: \n",
      "A value is trying to be set on a copy of a slice from a DataFrame.\n",
      "Try using .loc[row_indexer,col_indexer] = value instead\n",
      "\n",
      "See the caveats in the documentation: https://pandas.pydata.org/pandas-docs/stable/user_guide/indexing.html#returning-a-view-versus-a-copy\n",
      "  df[\"log_cost\"] = np.log(df[\"cost_t\"])\n"
     ]
    },
    {
     "data": {
      "text/plain": [
       "0        7.090077\n",
       "1        7.863267\n",
       "2        6.214608\n",
       "3        7.170120\n",
       "4        7.003065\n",
       "           ...   \n",
       "48779    6.684612\n",
       "48780    7.696213\n",
       "48781    6.684612\n",
       "48782    7.170120\n",
       "48783    8.389360\n",
       "Name: log_cost, Length: 46887, dtype: float64"
      ]
     },
     "execution_count": 115,
     "metadata": {},
     "output_type": "execute_result"
    }
   ],
   "source": [
    "import numpy as np\n",
    "\n",
    "df = df[df[\"cost_t\"] != 0]\n",
    "df[\"log_cost\"] = np.log(df[\"cost_t\"])\n",
    "\n",
    "\n",
    "df[\"log_cost\"]"
   ]
  },
  {
   "cell_type": "markdown",
   "metadata": {},
   "source": [
    "### Create a dummy (one-hot encoded) column for the qualitative race variable in which 0 means that the patient is white and 1 means that the patient is Black.\n"
   ]
  },
  {
   "cell_type": "code",
   "execution_count": 116,
   "metadata": {},
   "outputs": [
    {
     "name": "stderr",
     "output_type": "stream",
     "text": [
      "/var/folders/g2/ybhd80ns31sc72zl62c5qcjm0000gn/T/ipykernel_55313/2106412620.py:1: SettingWithCopyWarning: \n",
      "A value is trying to be set on a copy of a slice from a DataFrame.\n",
      "Try using .loc[row_indexer,col_indexer] = value instead\n",
      "\n",
      "See the caveats in the documentation: https://pandas.pydata.org/pandas-docs/stable/user_guide/indexing.html#returning-a-view-versus-a-copy\n",
      "  df[\"is_black\"] = df[\"race\"] == \"black\"\n"
     ]
    },
    {
     "data": {
      "text/html": [
       "<div>\n",
       "<style scoped>\n",
       "    .dataframe tbody tr th:only-of-type {\n",
       "        vertical-align: middle;\n",
       "    }\n",
       "\n",
       "    .dataframe tbody tr th {\n",
       "        vertical-align: top;\n",
       "    }\n",
       "\n",
       "    .dataframe thead th {\n",
       "        text-align: right;\n",
       "    }\n",
       "</style>\n",
       "<table border=\"1\" class=\"dataframe\">\n",
       "  <thead>\n",
       "    <tr style=\"text-align: right;\">\n",
       "      <th></th>\n",
       "      <th>risk_score_t</th>\n",
       "      <th>program_enrolled_t</th>\n",
       "      <th>cost_t</th>\n",
       "      <th>cost_avoidable_t</th>\n",
       "      <th>bps_mean_t</th>\n",
       "      <th>ghba1c_mean_t</th>\n",
       "      <th>hct_mean_t</th>\n",
       "      <th>cre_mean_t</th>\n",
       "      <th>ldl_mean_t</th>\n",
       "      <th>race</th>\n",
       "      <th>...</th>\n",
       "      <th>trig_mean-low_tm1</th>\n",
       "      <th>trig_mean-high_tm1</th>\n",
       "      <th>trig_mean-normal_tm1</th>\n",
       "      <th>trig_max-low_tm1</th>\n",
       "      <th>trig_max-high_tm1</th>\n",
       "      <th>trig_max-normal_tm1</th>\n",
       "      <th>gagne_sum_tm1</th>\n",
       "      <th>gagne_sum_t</th>\n",
       "      <th>log_cost</th>\n",
       "      <th>is_black</th>\n",
       "    </tr>\n",
       "  </thead>\n",
       "  <tbody>\n",
       "    <tr>\n",
       "      <th>0</th>\n",
       "      <td>1.987430</td>\n",
       "      <td>0</td>\n",
       "      <td>1200.0</td>\n",
       "      <td>0.0</td>\n",
       "      <td>NaN</td>\n",
       "      <td>5.4</td>\n",
       "      <td>NaN</td>\n",
       "      <td>1.110000</td>\n",
       "      <td>194.0</td>\n",
       "      <td>white</td>\n",
       "      <td>...</td>\n",
       "      <td>0</td>\n",
       "      <td>0</td>\n",
       "      <td>0</td>\n",
       "      <td>0</td>\n",
       "      <td>0</td>\n",
       "      <td>0</td>\n",
       "      <td>0</td>\n",
       "      <td>0</td>\n",
       "      <td>7.090077</td>\n",
       "      <td>False</td>\n",
       "    </tr>\n",
       "    <tr>\n",
       "      <th>1</th>\n",
       "      <td>7.677934</td>\n",
       "      <td>0</td>\n",
       "      <td>2600.0</td>\n",
       "      <td>0.0</td>\n",
       "      <td>119.0</td>\n",
       "      <td>5.5</td>\n",
       "      <td>40.4</td>\n",
       "      <td>0.860000</td>\n",
       "      <td>93.0</td>\n",
       "      <td>white</td>\n",
       "      <td>...</td>\n",
       "      <td>0</td>\n",
       "      <td>0</td>\n",
       "      <td>1</td>\n",
       "      <td>0</td>\n",
       "      <td>0</td>\n",
       "      <td>1</td>\n",
       "      <td>4</td>\n",
       "      <td>3</td>\n",
       "      <td>7.863267</td>\n",
       "      <td>False</td>\n",
       "    </tr>\n",
       "    <tr>\n",
       "      <th>2</th>\n",
       "      <td>0.407678</td>\n",
       "      <td>0</td>\n",
       "      <td>500.0</td>\n",
       "      <td>0.0</td>\n",
       "      <td>NaN</td>\n",
       "      <td>NaN</td>\n",
       "      <td>NaN</td>\n",
       "      <td>NaN</td>\n",
       "      <td>NaN</td>\n",
       "      <td>white</td>\n",
       "      <td>...</td>\n",
       "      <td>0</td>\n",
       "      <td>0</td>\n",
       "      <td>0</td>\n",
       "      <td>0</td>\n",
       "      <td>0</td>\n",
       "      <td>0</td>\n",
       "      <td>0</td>\n",
       "      <td>0</td>\n",
       "      <td>6.214608</td>\n",
       "      <td>False</td>\n",
       "    </tr>\n",
       "    <tr>\n",
       "      <th>3</th>\n",
       "      <td>0.798369</td>\n",
       "      <td>0</td>\n",
       "      <td>1300.0</td>\n",
       "      <td>0.0</td>\n",
       "      <td>117.0</td>\n",
       "      <td>NaN</td>\n",
       "      <td>NaN</td>\n",
       "      <td>NaN</td>\n",
       "      <td>NaN</td>\n",
       "      <td>white</td>\n",
       "      <td>...</td>\n",
       "      <td>0</td>\n",
       "      <td>0</td>\n",
       "      <td>0</td>\n",
       "      <td>0</td>\n",
       "      <td>0</td>\n",
       "      <td>0</td>\n",
       "      <td>0</td>\n",
       "      <td>0</td>\n",
       "      <td>7.170120</td>\n",
       "      <td>False</td>\n",
       "    </tr>\n",
       "    <tr>\n",
       "      <th>4</th>\n",
       "      <td>17.513165</td>\n",
       "      <td>0</td>\n",
       "      <td>1100.0</td>\n",
       "      <td>0.0</td>\n",
       "      <td>116.0</td>\n",
       "      <td>NaN</td>\n",
       "      <td>34.1</td>\n",
       "      <td>1.303333</td>\n",
       "      <td>53.0</td>\n",
       "      <td>white</td>\n",
       "      <td>...</td>\n",
       "      <td>0</td>\n",
       "      <td>0</td>\n",
       "      <td>0</td>\n",
       "      <td>0</td>\n",
       "      <td>0</td>\n",
       "      <td>0</td>\n",
       "      <td>1</td>\n",
       "      <td>1</td>\n",
       "      <td>7.003065</td>\n",
       "      <td>False</td>\n",
       "    </tr>\n",
       "    <tr>\n",
       "      <th>...</th>\n",
       "      <td>...</td>\n",
       "      <td>...</td>\n",
       "      <td>...</td>\n",
       "      <td>...</td>\n",
       "      <td>...</td>\n",
       "      <td>...</td>\n",
       "      <td>...</td>\n",
       "      <td>...</td>\n",
       "      <td>...</td>\n",
       "      <td>...</td>\n",
       "      <td>...</td>\n",
       "      <td>...</td>\n",
       "      <td>...</td>\n",
       "      <td>...</td>\n",
       "      <td>...</td>\n",
       "      <td>...</td>\n",
       "      <td>...</td>\n",
       "      <td>...</td>\n",
       "      <td>...</td>\n",
       "      <td>...</td>\n",
       "      <td>...</td>\n",
       "    </tr>\n",
       "    <tr>\n",
       "      <th>48779</th>\n",
       "      <td>0.611517</td>\n",
       "      <td>0</td>\n",
       "      <td>800.0</td>\n",
       "      <td>0.0</td>\n",
       "      <td>NaN</td>\n",
       "      <td>NaN</td>\n",
       "      <td>NaN</td>\n",
       "      <td>1.090000</td>\n",
       "      <td>148.0</td>\n",
       "      <td>white</td>\n",
       "      <td>...</td>\n",
       "      <td>0</td>\n",
       "      <td>0</td>\n",
       "      <td>0</td>\n",
       "      <td>0</td>\n",
       "      <td>0</td>\n",
       "      <td>0</td>\n",
       "      <td>0</td>\n",
       "      <td>0</td>\n",
       "      <td>6.684612</td>\n",
       "      <td>False</td>\n",
       "    </tr>\n",
       "    <tr>\n",
       "      <th>48780</th>\n",
       "      <td>2.615933</td>\n",
       "      <td>0</td>\n",
       "      <td>2200.0</td>\n",
       "      <td>0.0</td>\n",
       "      <td>112.0</td>\n",
       "      <td>NaN</td>\n",
       "      <td>41.4</td>\n",
       "      <td>0.810000</td>\n",
       "      <td>172.0</td>\n",
       "      <td>white</td>\n",
       "      <td>...</td>\n",
       "      <td>0</td>\n",
       "      <td>0</td>\n",
       "      <td>1</td>\n",
       "      <td>0</td>\n",
       "      <td>0</td>\n",
       "      <td>1</td>\n",
       "      <td>1</td>\n",
       "      <td>1</td>\n",
       "      <td>7.696213</td>\n",
       "      <td>False</td>\n",
       "    </tr>\n",
       "    <tr>\n",
       "      <th>48781</th>\n",
       "      <td>1.358926</td>\n",
       "      <td>0</td>\n",
       "      <td>800.0</td>\n",
       "      <td>0.0</td>\n",
       "      <td>105.0</td>\n",
       "      <td>NaN</td>\n",
       "      <td>NaN</td>\n",
       "      <td>NaN</td>\n",
       "      <td>NaN</td>\n",
       "      <td>white</td>\n",
       "      <td>...</td>\n",
       "      <td>0</td>\n",
       "      <td>0</td>\n",
       "      <td>1</td>\n",
       "      <td>0</td>\n",
       "      <td>0</td>\n",
       "      <td>1</td>\n",
       "      <td>1</td>\n",
       "      <td>0</td>\n",
       "      <td>6.684612</td>\n",
       "      <td>False</td>\n",
       "    </tr>\n",
       "    <tr>\n",
       "      <th>48782</th>\n",
       "      <td>10.990318</td>\n",
       "      <td>0</td>\n",
       "      <td>1300.0</td>\n",
       "      <td>0.0</td>\n",
       "      <td>132.0</td>\n",
       "      <td>NaN</td>\n",
       "      <td>NaN</td>\n",
       "      <td>NaN</td>\n",
       "      <td>NaN</td>\n",
       "      <td>white</td>\n",
       "      <td>...</td>\n",
       "      <td>0</td>\n",
       "      <td>0</td>\n",
       "      <td>0</td>\n",
       "      <td>0</td>\n",
       "      <td>0</td>\n",
       "      <td>0</td>\n",
       "      <td>3</td>\n",
       "      <td>3</td>\n",
       "      <td>7.170120</td>\n",
       "      <td>False</td>\n",
       "    </tr>\n",
       "    <tr>\n",
       "      <th>48783</th>\n",
       "      <td>1.681671</td>\n",
       "      <td>0</td>\n",
       "      <td>4400.0</td>\n",
       "      <td>0.0</td>\n",
       "      <td>115.0</td>\n",
       "      <td>5.6</td>\n",
       "      <td>36.6</td>\n",
       "      <td>0.940000</td>\n",
       "      <td>NaN</td>\n",
       "      <td>white</td>\n",
       "      <td>...</td>\n",
       "      <td>0</td>\n",
       "      <td>0</td>\n",
       "      <td>0</td>\n",
       "      <td>0</td>\n",
       "      <td>0</td>\n",
       "      <td>0</td>\n",
       "      <td>0</td>\n",
       "      <td>0</td>\n",
       "      <td>8.389360</td>\n",
       "      <td>False</td>\n",
       "    </tr>\n",
       "  </tbody>\n",
       "</table>\n",
       "<p>46887 rows × 162 columns</p>\n",
       "</div>"
      ],
      "text/plain": [
       "       risk_score_t  program_enrolled_t  cost_t  cost_avoidable_t  bps_mean_t  \\\n",
       "0          1.987430                   0  1200.0               0.0         NaN   \n",
       "1          7.677934                   0  2600.0               0.0       119.0   \n",
       "2          0.407678                   0   500.0               0.0         NaN   \n",
       "3          0.798369                   0  1300.0               0.0       117.0   \n",
       "4         17.513165                   0  1100.0               0.0       116.0   \n",
       "...             ...                 ...     ...               ...         ...   \n",
       "48779      0.611517                   0   800.0               0.0         NaN   \n",
       "48780      2.615933                   0  2200.0               0.0       112.0   \n",
       "48781      1.358926                   0   800.0               0.0       105.0   \n",
       "48782     10.990318                   0  1300.0               0.0       132.0   \n",
       "48783      1.681671                   0  4400.0               0.0       115.0   \n",
       "\n",
       "       ghba1c_mean_t  hct_mean_t  cre_mean_t  ldl_mean_t   race  ...  \\\n",
       "0                5.4         NaN    1.110000       194.0  white  ...   \n",
       "1                5.5        40.4    0.860000        93.0  white  ...   \n",
       "2                NaN         NaN         NaN         NaN  white  ...   \n",
       "3                NaN         NaN         NaN         NaN  white  ...   \n",
       "4                NaN        34.1    1.303333        53.0  white  ...   \n",
       "...              ...         ...         ...         ...    ...  ...   \n",
       "48779            NaN         NaN    1.090000       148.0  white  ...   \n",
       "48780            NaN        41.4    0.810000       172.0  white  ...   \n",
       "48781            NaN         NaN         NaN         NaN  white  ...   \n",
       "48782            NaN         NaN         NaN         NaN  white  ...   \n",
       "48783            5.6        36.6    0.940000         NaN  white  ...   \n",
       "\n",
       "       trig_mean-low_tm1  trig_mean-high_tm1  trig_mean-normal_tm1  \\\n",
       "0                      0                   0                     0   \n",
       "1                      0                   0                     1   \n",
       "2                      0                   0                     0   \n",
       "3                      0                   0                     0   \n",
       "4                      0                   0                     0   \n",
       "...                  ...                 ...                   ...   \n",
       "48779                  0                   0                     0   \n",
       "48780                  0                   0                     1   \n",
       "48781                  0                   0                     1   \n",
       "48782                  0                   0                     0   \n",
       "48783                  0                   0                     0   \n",
       "\n",
       "       trig_max-low_tm1  trig_max-high_tm1  trig_max-normal_tm1  \\\n",
       "0                     0                  0                    0   \n",
       "1                     0                  0                    1   \n",
       "2                     0                  0                    0   \n",
       "3                     0                  0                    0   \n",
       "4                     0                  0                    0   \n",
       "...                 ...                ...                  ...   \n",
       "48779                 0                  0                    0   \n",
       "48780                 0                  0                    1   \n",
       "48781                 0                  0                    1   \n",
       "48782                 0                  0                    0   \n",
       "48783                 0                  0                    0   \n",
       "\n",
       "       gagne_sum_tm1  gagne_sum_t  log_cost  is_black  \n",
       "0                  0            0  7.090077     False  \n",
       "1                  4            3  7.863267     False  \n",
       "2                  0            0  6.214608     False  \n",
       "3                  0            0  7.170120     False  \n",
       "4                  1            1  7.003065     False  \n",
       "...              ...          ...       ...       ...  \n",
       "48779              0            0  6.684612     False  \n",
       "48780              1            1  7.696213     False  \n",
       "48781              1            0  6.684612     False  \n",
       "48782              3            3  7.170120     False  \n",
       "48783              0            0  8.389360     False  \n",
       "\n",
       "[46887 rows x 162 columns]"
      ]
     },
     "execution_count": 116,
     "metadata": {},
     "output_type": "execute_result"
    }
   ],
   "source": [
    "df[\"is_black\"] = df[\"race\"] == \"black\"\n",
    "\n",
    "df"
   ]
  },
  {
   "cell_type": "markdown",
   "metadata": {},
   "source": [
    "### Separate the data into predictor variables X and target variable y (the log-cost). For predictor variables, just use the dummy columns for race and the number of active chronic conditions."
   ]
  },
  {
   "cell_type": "code",
   "execution_count": 121,
   "metadata": {},
   "outputs": [],
   "source": [
    "X_train = df[[\"is_black\", \"gagne_sum_t\"]]\n",
    "y_train = df[\"log_cost\"]"
   ]
  },
  {
   "cell_type": "markdown",
   "metadata": {},
   "source": [
    "## 2. Modeling"
   ]
  },
  {
   "cell_type": "markdown",
   "metadata": {},
   "source": [
    "Function that will construct data sets with polynomial features of various sizes:"
   ]
  },
  {
   "cell_type": "code",
   "execution_count": 118,
   "metadata": {},
   "outputs": [],
   "source": [
    "def add_polynomial_features(X, degree):\n",
    "  X_ = X.copy()\n",
    "  for j in range(1, degree):\n",
    "    X_[f\"poly_{j}\"] = X_[\"gagne_sum_t\"]**j\n",
    "  return X_"
   ]
  },
  {
   "cell_type": "code",
   "execution_count": 139,
   "metadata": {},
   "outputs": [
    {
     "name": "stdout",
     "output_type": "stream",
     "text": [
      "best_cols=Index(['is_black', 'gagne_sum_t', 'poly_1', 'poly_2', 'poly_3', 'poly_4',\n",
      "       'poly_5', 'poly_6', 'poly_7', 'poly_8', 'poly_9'],\n",
      "      dtype='object')\n",
      "best_degrees=10\n",
      "best_score=0.14830062340213399\n"
     ]
    }
   ],
   "source": [
    "from sklearn.linear_model import LinearRegression\n",
    "from sklearn.model_selection import cross_val_score\n",
    "\n",
    "score = 0\n",
    "best_score = float('-inf')\n",
    "\n",
    "# increase degrees until score of LR begins to decrease or plateau\n",
    "for degrees in range(1,11):\n",
    "        \n",
    "    X_features = add_polynomial_features(X_train, degrees)\n",
    "    cols = X_features.columns\n",
    "\n",
    "    LR = LinearRegression()\n",
    "    LR.fit(X_features, y_train)\n",
    "    score = cross_val_score(LR, X_features, y_train, cv=5).mean()\n",
    "    \n",
    "    if (score > best_score):\n",
    "        best_score = score\n",
    "        best_degrees = degrees\n",
    "        best_cols = cols\n",
    "\n",
    "print(f\"{best_cols=}\") \n",
    "print(f\"{best_degrees=}\")    \n",
    "print(f\"{best_score=}\")"
   ]
  },
  {
   "cell_type": "markdown",
   "metadata": {},
   "source": [
    "Once you have determined a degree that seems reasonable for this data set, construct a copy of the data with the correct number of polynomial features and fit one last linear regression model."
   ]
  },
  {
   "cell_type": "code",
   "execution_count": 143,
   "metadata": {},
   "outputs": [
    {
     "data": {
      "text/plain": [
       "0.14830062340213399"
      ]
     },
     "execution_count": 143,
     "metadata": {},
     "output_type": "execute_result"
    }
   ],
   "source": [
    "X_features = add_polynomial_features(X_train, 10)\n",
    "LR = LinearRegression()\n",
    "LR.fit(X_features, y_train)\n",
    "score = cross_val_score(LR, X_features, y_train, cv=5).mean()\n",
    "score"
   ]
  },
  {
   "cell_type": "markdown",
   "metadata": {},
   "source": [
    "You can access the coefficients of the linear regression model as LR.coef_. Determine which of these coefficients corresponds to Black race (the coefficients are in the same order as the variables in the data frame used for training). "
   ]
  },
  {
   "cell_type": "code",
   "execution_count": 144,
   "metadata": {},
   "outputs": [
    {
     "data": {
      "text/plain": [
       "{'is_black': -0.26711487503849624,\n",
       " 'gagne_sum_t': 0.5088163229433447,\n",
       " 'poly_1': 0.5088164579853922,\n",
       " 'poly_2': -1.0305677844477263,\n",
       " 'poly_3': 0.5880247944191436,\n",
       " 'poly_4': -0.1776219992097652,\n",
       " 'poly_5': 0.03115568304493425,\n",
       " 'poly_6': -0.0032705785216849033,\n",
       " 'poly_7': 0.00020192700428754498,\n",
       " 'poly_8': -6.7458039893789564e-06,\n",
       " 'poly_9': 9.390071161850347e-08}"
      ]
     },
     "execution_count": 144,
     "metadata": {},
     "output_type": "execute_result"
    }
   ],
   "source": [
    "features = X_features.columns\n",
    "coefs = LR.coef_\n",
    "\n",
    "feature_coefs = dict(zip(features, coefs))\n",
    "feature_coefs"
   ]
  },
  {
   "cell_type": "markdown",
   "metadata": {},
   "source": [
    "Finally, compute e^wb. What is your estimate of the cost incurred by Black patients as a percentage of white patients. Does it roughly support the argument of Obermeyer et al. (2019)?"
   ]
  },
  {
   "cell_type": "code",
   "execution_count": 145,
   "metadata": {},
   "outputs": [
    {
     "data": {
      "text/plain": [
       "0.7655851197936364"
      ]
     },
     "execution_count": 145,
     "metadata": {},
     "output_type": "execute_result"
    }
   ],
   "source": [
    "import math\n",
    "\n",
    "math.exp(feature_coefs[\"is_black\"])"
   ]
  },
  {
   "cell_type": "markdown",
   "metadata": {},
   "source": [
    "My model shows that black patients incur a cost of 76% of that of white patients. This supports the argument of Obermeyer et al. (2019) as it proves that less money is spent on Black patients who have the same level of need. Therefore as the algorithm uses cost as a proxy for need it thus falsely concludes that Black patients are healthier than equally sick White patients. Reformulating the algorithm so that it no longer uses costs as a proxy for needs eliminates the racial bias in predicting who needs extra care."
   ]
  },
  {
   "cell_type": "markdown",
   "metadata": {},
   "source": [
    "Construct a copy of the data with the correct number of polynomial features and fit one last linear regression model."
   ]
  }
 ],
 "metadata": {
  "kernelspec": {
   "display_name": "ml-0451",
   "language": "python",
   "name": "python3"
  },
  "language_info": {
   "codemirror_mode": {
    "name": "ipython",
    "version": 3
   },
   "file_extension": ".py",
   "mimetype": "text/x-python",
   "name": "python",
   "nbconvert_exporter": "python",
   "pygments_lexer": "ipython3",
   "version": "3.9.18"
  },
  "orig_nbformat": 4
 },
 "nbformat": 4,
 "nbformat_minor": 2
}
