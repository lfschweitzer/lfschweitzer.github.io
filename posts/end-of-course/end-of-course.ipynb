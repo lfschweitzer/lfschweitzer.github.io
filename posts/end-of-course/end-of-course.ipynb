{
 "cells": [
  {
   "attachments": {},
   "cell_type": "markdown",
   "metadata": {},
   "source": [
    "# CSCI 0451: End-Of-Course Reflection\n",
    "\n",
    "Lindsey Schweitzer"
   ]
  },
  {
   "attachments": {},
   "cell_type": "markdown",
   "metadata": {},
   "source": [
    "## The Data\n",
    "\n",
    "In this section I'll ask you to fill in some data. You don't have to give precise numbers -- approximate, conversational responses are fine. For example, when I ask \"how often did you attend class,\" good answers include \"almost always,\" \"I missed three times,\" \"about 75% of the time,\" \"not as often as I wanted,\" etc. \n",
    "\n",
    "### Presence in Class\n",
    "\n",
    "- *How often did you attend class? (e.g. \"almost always,\" \"I missed three times,\" etc.)* almost always\n",
    "- *How often did you take notes on the core readings ahead of the class period?* the majority of the readings\n",
    "- *How often were you **prepared** to present the daily warm-up exercise to your team, even if you weren't actually called?* always\n",
    "- *How many times did you **actually** present the daily warm-up to your team?* every time I was asked\n",
    "- *How many times did you ask your team for help while presenting the daily warm-up?* a couple of times\n",
    "- *How often did you learn something new from a teammate's presentation of the daily warm-up?* almost always\n",
    "- *How often did you help a teammate during the daily warm-up presentation?* almost always\n",
    "- *Did you contribute a question for our guest speaker?* no\n",
    "\n",
    "### Presence Outside of Class \n",
    "\n",
    "- *How often did you attend Student Hours or Peer Help?* weekly\n",
    "- *How often did you ask for or receive help from your fellow students?* weekly\n",
    "- *Did you regularly participate in a study group outside class?* yes\n",
    "- *How often did you post questions or answers in Slack?* about every other week\n",
    "\n",
    "### Assignments and Effort\n",
    "\n",
    "- *How many blog posts did you submit?* 7\n",
    "- *How many of your submitted blog posts are at each of the following feedback stages?*\n",
    "    - *No revisions suggested:* 6\n",
    "    - *Revisions useful:* 1\n",
    "    - *Revisions encouraged:* ____\n",
    "    - *Incomplete:* ____\n",
    "- *Roughly how many hours per week did you spend on this course outside of class?* 10.5\n"
   ]
  },
  {
   "attachments": {},
   "cell_type": "markdown",
   "metadata": {},
   "source": [
    "## What You Learned\n",
    "\n",
    "*At the beginning of the course, you may have expressed an interest in focusing a little extra on one or two of the following four categories:* \n",
    "\n",
    "- ***Theory***: *mathematical descriptions of frameworks and algorithms.*\n",
    "- ***Implementation***: *effective coding and use of tools in order to implement efficient machine learning algorithms.*\n",
    "- ***Experimentation***: *performing experiments to assess the performance of algorithms and clearly communicating about the results.*\n",
    "- ***Social responsibility***: *critical analysis of sources of bias and harm in machine learning algorithms; theoretical formulations of fairness and bias*\n",
    "\n",
    "*Did you choose to focus on any of these categories? If so, what did you do in order to pursue your interest?*    "
   ]
  },
  {
   "attachments": {},
   "cell_type": "markdown",
   "metadata": {},
   "source": [
    "[your response here]"
   ]
  },
  {
   "attachments": {},
   "cell_type": "markdown",
   "metadata": {},
   "source": [
    "## Reflecting on Goals\n",
    "\n",
    "*For each of the categories below, replace the \"[your response here]\" cell with 1-2 paragraphs in which you reflect on the following questions:* \n",
    "\n",
    "- *In what ways did you **meet** your goals from the beginning of the course? Be specific: explain what the goal was and what you did to meet it.* \n",
    "- *In what ways did you **not meet** your goals from the beginning of the course? Be specific: explain what the goal was and what the gap was between what you aspired to and what happened.* \n",
    "- *If there's any **context** you want to share about how you fared relative to your goals, please do!*\n",
    "\n",
    "### Blog Posts"
   ]
  },
  {
   "attachments": {},
   "cell_type": "markdown",
   "metadata": {},
   "source": [
    "[your response here]"
   ]
  },
  {
   "attachments": {},
   "cell_type": "markdown",
   "metadata": {},
   "source": [
    "### Course Presence (Participation)"
   ]
  },
  {
   "attachments": {},
   "cell_type": "markdown",
   "metadata": {},
   "source": [
    "[your response here]"
   ]
  },
  {
   "attachments": {},
   "cell_type": "markdown",
   "metadata": {},
   "source": [
    "### Project "
   ]
  },
  {
   "attachments": {},
   "cell_type": "markdown",
   "metadata": {},
   "source": [
    "[your response here]"
   ]
  },
  {
   "attachments": {},
   "cell_type": "markdown",
   "metadata": {},
   "source": [
    "### Other\n",
    "\n",
    "*Is there anything else that you want to share with me about what you learned, how you participated, or what you achieved in CSCI 0451?*"
   ]
  },
  {
   "attachments": {},
   "cell_type": "markdown",
   "metadata": {},
   "source": [
    "[your response here]"
   ]
  },
  {
   "attachments": {},
   "cell_type": "markdown",
   "metadata": {},
   "source": [
    "# Your Proposed Letter Grade\n",
    "\n",
    "*Take 15 minutes to look back on your responses in each of the sections above. Then, make a proposal for the letter grade that you feel best reflects your learning, participation, and achievement in CSCI 0451. Here are some soundbytes to help guide your thinking:*\n",
    "\n",
    "*An **A** sounds like:* \n",
    "\n",
    "- *\"I am very proud of my time in this course.\"*\n",
    "- *\"I have grown significantly in multiple ways that matter to me.\"*\n",
    "- *\"I am ready to take the theory, techniques, and ideas of this course into my future classes, projects, hobbies, or career.\"* \n",
    "\n",
    "*A **B** sounds like:* \n",
    "\n",
    "- *\"I had some opportunities to learn more, overall I feel good about my time in this course.\"*\n",
    "- *\"I am able to explain some new things or achieve new tasks.\"*\n",
    "- *\"I can see a few ideas from this course that will be relevant for my future classes, projects, hobbies, or career.\"*\n",
    "\n",
    "*A **C** sounds like:* \n",
    "\n",
    "- *\"I often made a good effort, but I missed many opportunities to get more out of my time in this course.\"*\n",
    "- *\"I might be able to complete some new tasks related to the course content, but only with significant further guidance.\"* \n",
    "- *\"I don't see any ways to take the contents of this course into my future classes, projects, hobbies, or career.\"*\n",
    "\n",
    "*You might find that some of these soundbytes resonate and other's don't! Take some time, see what feels right, and don't be afraid to celebrate your achievements.* "
   ]
  },
  {
   "attachments": {},
   "cell_type": "markdown",
   "metadata": {},
   "source": [
    "[Your proposed letter grade in this section should be based purely on demonstrations of learning that you have **already submitted**.]{.aside}\n",
    "\n",
    "> **Upon reflection, I feel that my learning, participation, and achievement in CSCI 0451 are best reflected by a grade of** ____ \n"
   ]
  }
 ],
 "metadata": {
  "kernelspec": {
   "display_name": "ml-0451",
   "language": "python",
   "name": "python3"
  },
  "language_info": {
   "name": "python",
   "version": "3.9.15"
  },
  "orig_nbformat": 4,
  "vscode": {
   "interpreter": {
    "hash": "debe06cc0f9553f110b64dc3926c05df82dae2145b852c8422b9c04315589dcb"
   }
  }
 },
 "nbformat": 4,
 "nbformat_minor": 2
}
