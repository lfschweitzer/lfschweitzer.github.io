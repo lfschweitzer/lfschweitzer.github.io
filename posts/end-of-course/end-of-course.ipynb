{
 "cells": [
  {
   "attachments": {},
   "cell_type": "markdown",
   "metadata": {},
   "source": [
    "# CSCI 0451: End-Of-Course Reflection\n",
    "\n",
    "Lindsey Schweitzer"
   ]
  },
  {
   "attachments": {},
   "cell_type": "markdown",
   "metadata": {},
   "source": [
    "## The Data\n",
    "\n",
    "In this section I'll ask you to fill in some data. You don't have to give precise numbers -- approximate, conversational responses are fine. For example, when I ask \"how often did you attend class,\" good answers include \"almost always,\" \"I missed three times,\" \"about 75% of the time,\" \"not as often as I wanted,\" etc. \n",
    "\n",
    "### Presence in Class\n",
    "\n",
    "- *How often did you attend class? (e.g. \"almost always,\" \"I missed three times,\" etc.)* almost always\n",
    "- *How often did you take notes on the core readings ahead of the class period?* the majority of the readings\n",
    "- *How often were you **prepared** to present the daily warm-up exercise to your team, even if you weren't actually called?* always\n",
    "- *How many times did you **actually** present the daily warm-up to your team?* every time I was asked\n",
    "- *How many times did you ask your team for help while presenting the daily warm-up?* a couple of times\n",
    "- *How often did you learn something new from a teammate's presentation of the daily warm-up?* almost always\n",
    "- *How often did you help a teammate during the daily warm-up presentation?* almost always\n",
    "- *Did you contribute a question for our guest speaker?* no\n",
    "\n",
    "### Presence Outside of Class \n",
    "\n",
    "- *How often did you attend Student Hours or Peer Help?* weekly\n",
    "- *How often did you ask for or receive help from your fellow students?* weekly\n",
    "- *Did you regularly participate in a study group outside class?* yes\n",
    "- *How often did you post questions or answers in Slack?* about every other week\n",
    "\n",
    "### Assignments and Effort\n",
    "\n",
    "- *How many blog posts did you submit?* 7\n",
    "- *How many of your submitted blog posts are at each of the following feedback stages?*\n",
    "    - *No revisions suggested:* 7\n",
    "    - *Revisions useful:* \n",
    "    - *Revisions encouraged:* ____\n",
    "    - *Incomplete:* ____\n",
    "- *Roughly how many hours per week did you spend on this course outside of class?* 10.5\n"
   ]
  },
  {
   "attachments": {},
   "cell_type": "markdown",
   "metadata": {},
   "source": [
    "## What You Learned\n",
    "\n",
    "*At the beginning of the course, you may have expressed an interest in focusing a little extra on one or two of the following four categories:* \n",
    "\n",
    "- ***Theory***: *mathematical descriptions of frameworks and algorithms.*\n",
    "- ***Implementation***: *effective coding and use of tools in order to implement efficient machine learning algorithms.*\n",
    "- ***Experimentation***: *performing experiments to assess the performance of algorithms and clearly communicating about the results.*\n",
    "- ***Social responsibility***: *critical analysis of sources of bias and harm in machine learning algorithms; theoretical formulations of fairness and bias*\n",
    "\n",
    "*Did you choose to focus on any of these categories? If so, what did you do in order to pursue your interest?*    "
   ]
  },
  {
   "attachments": {},
   "cell_type": "markdown",
   "metadata": {},
   "source": [
    "At the beginning of this term, I had the goal of completing blog posts in all four categories of the focus of the course. I aimed to develop skills in all four areas while focusing specifically on experimentation and social responsibility. I wanted to improve my ability to critically evaluate important themes in machine learning and communicate them effectively. I have gone above and beyond to achieve these goals. I completed seven blog posts to an E that each cover at least one if not multiple of these themes. In fact, by midway through the semester I was able to say confidently in my report that I covered all four areas through my blog post work. Just from the first half of the semester, I completed Whose Cost, which could be considered social responsibility, Perceptron under theory, Palmer Penguins under implementation, and logistic regression under experimentation. \n",
    "\n",
    "Within the primary focus of social responsibility and experimentation, I was able to complete multiple blog posts that helped me develop my understanding. ‘Optimal’ Decision Making, Whose Cost, and Deep Music Genre Classification blog posts all involved critically analyzing the bias and impact of machine learning algorithms. Additionally, blog posts like Logistic regression, Perceptron, and Newton’s method all involved analyzing the performance of variations of various algorithms. Most importantly, I was able to use my final project to fully achieve this goal. By creating a project that explores societal inequity’s effect on (model-perceived) health outcomes, I investigated the bias of specific algorithms, communicated about results, and analyzed the results in the context of the definitions of fairness and potential use cases. Through this project, I was able to draw together many of the concepts I learned in the course and solidify my knowledge of these two important main themes.\n",
    "\n",
    "Furthermore, as I accomplished much during the first half of the semester, I added the goal of focusing further on implementation and theory. I believe that through the Logistic Regression, Perceptron, Newton’s Method, and Deep Music Genre Classification blog posts, I was able to develop my skills in effectively programming algorithms and understanding important theoretical concepts such as run time and performance of algorithms under different conditions. \n"
   ]
  },
  {
   "attachments": {},
   "cell_type": "markdown",
   "metadata": {},
   "source": [
    "## Reflecting on Goals\n",
    "\n",
    "*For each of the categories below, replace the \"[your response here]\" cell with 1-2 paragraphs in which you reflect on the following questions:* \n",
    "\n",
    "- *In what ways did you **meet** your goals from the beginning of the course? Be specific: explain what the goal was and what you did to meet it.* \n",
    "- *In what ways did you **not meet** your goals from the beginning of the course? Be specific: explain what the goal was and what the gap was between what you aspired to and what happened.* \n",
    "- *If there's any **context** you want to share about how you fared relative to your goals, please do!*\n",
    "\n",
    "### Blog Posts"
   ]
  },
  {
   "attachments": {},
   "cell_type": "markdown",
   "metadata": {},
   "source": [
    "My goal at the outset of the course was to complete blog posts in all important areas of focus in the class material and work to respond to feedback for the majority of my posts as I see revision as the most valuable way to learn. I aimed to continue learning outside the class by completing areas of my blog posts that are either not covered in class or that I feel especially unclear about. And finally, I aspired to take advantage of the professor's or TAʼs office hours every month, if not more. \n",
    "\n",
    "By mid-semester, I had completed blog posts that fell under each of the four main categories of the course, learned beyond the classroom by implementing blog posts that were extensions of course material, and frequented office hours more than once a week. Therefore at the midway point of the semester, I modified my goals to include focusing further on Implementation and Theory as those were categories that particularly challenged me. Through Logistic Regression, Perceptron, Newton’s Method, and Deep Music Genre Classification I developed my skills in these areas and achieved my goal.\n",
    "\n",
    "Overall, I completed seven blog posts that overlap in the four main categories, but if I had to choose examples, I would determine that Whose Cost falls under social responsibility, Perceptron algorithm falls under theory, Palmer Penguins falls under implementation, and Logistic Regression falls under experimentation. I have completed every extension and revised for an E for all seven blog posts I implemented. This often meant revising the blog posts multiple times and frequenting office hours before and after receiving feedback. Through this process as well as working on the final project, I have successfully achieved my goal of visiting office hours at least once a week.\n",
    "\n",
    "If achieving an A in the course signifies that “I am ready to take the theory, techniques, and ideas of this course into my future classes, projects, hobbies, or career,” I believe that I have utilized blog posts to the fullest extent to solidify my understanding of class material and extend these ideas further to deepen my understanding of machine learning."
   ]
  },
  {
   "attachments": {},
   "cell_type": "markdown",
   "metadata": {},
   "source": [
    "### Course Presence (Participation)"
   ]
  },
  {
   "attachments": {},
   "cell_type": "markdown",
   "metadata": {},
   "source": [
    "I wrote in my beginning semester goals that I believe interrogating the material by asking questions is the best way to fully understand the course content. To achieve this, my goals were to show up to every warmup prepared and share my ideas and questions, to earn a “Pass” at least once while presenting for the group for warmup, and to answer at least one question posed to the class every week. I also aimed to ask a question in class or during office hours almost every week. \n",
    "\n",
    "I have fully accomplished my goal of class participation. I have attended almost every class and always showed up ready to present and discuss the warmup. I have successfully presented as the presenter for my warmup group and have actively worked with my group to understand the material and each team member’s process. I have far exceeded my expectations for question asking and often visited both the professor and TA’s office hours in addition to asking questions during lectures. As fewer questions were asked to the class than expected, I modified my goal mid-semester from answering at least one question posed to the class each week to instead answering one question posed to my warmup group every week. I was successful in achieving this modified goal and participated actively in warmup groups and in class in general by thoroughly taking notes and asking questions."
   ]
  },
  {
   "attachments": {},
   "cell_type": "markdown",
   "metadata": {},
   "source": [
    "### Project "
   ]
  },
  {
   "attachments": {},
   "cell_type": "markdown",
   "metadata": {},
   "source": [
    "My goal for the final project was to conduct a series of experiments related to assessing algorithmic bias in a certain class of algorithms, specifically an algorithm with broad real-life applications. I hoped that through completing this project, I could improve my ability to analyze machine learning models critically and become a socially responsible engineer. In terms of more concrete goals I aimed to :\n",
    "\n",
    "\n",
    "1. Submit all project milestones (proposal, progress report, etc) on time.\n",
    "\n",
    "\n",
    "2. Schedule and complete meetings weekly to collaborate with my group members\n",
    "\n",
    "\n",
    "3. Communicate clearly and effectively with my group members \n",
    "\n",
    "\n",
    "4. Revise sections of the project report in response to feedback.\n",
    "\n",
    "\n",
    "I have accomplished all of these goals. By completing a final project that explores societal inequity’s effect on (model-perceived) health outcomes, I did exactly my goal: conducting a series of experiments related to assessing algorithmic bias in a certain class of algorithm, specifically an algorithm with broad real-life application. My goal in this class was to become a more intelligent and socially responsible engineer. My final project was key in achieving this goal as it allowed me to apply my technological knowledge of machine learning algorithms and my theoretical knowledge of assessing fairness to a real-life problem. By developing an algorithm that could have significant positive or negative impacts, I was able to analyze bias and the usefulness (and potential harm) of machine learning algorithms. This project has changed my perspective on the role of technology in healthcare and the importance of algorithmic auditing. \n",
    "\n",
    "I was also able to complete my more concrete goals. I was successful in submitting all project milestones (proposal, progress report, etc) on time. I took an active role in scheduling and running weekly meetings to collaborate with my group members. I often led communication in our group chat and email chain on accomplishments, bugs, and future meetings and tasks. I also worked diligently to revise and edit our project report and was an active office hours participant: checking in for help with bugs, and strategy, and ensuring that our project was on the right track. While I intended to focus on the categories Experimentation and Social Responsibility through my project, the wide range of work encompassed by our project allowed me to likewise develop abilities of Implementation and Theory. Moving forward, my final project has instilled lessons not only about technology and its impact but also about the injustice of our healthcare system and the inequity sometimes embedded in the data itself. I am committed to persist in scrutinizing the potential negative impacts of technology and strive to uncover and mitigate these harms."
   ]
  },
  {
   "attachments": {},
   "cell_type": "markdown",
   "metadata": {},
   "source": [
    "### Other\n",
    "\n",
    "*Is there anything else that you want to share with me about what you learned, how you participated, or what you achieved in CSCI 0451?*"
   ]
  },
  {
   "attachments": {},
   "cell_type": "markdown",
   "metadata": {},
   "source": [
    "[your response here]"
   ]
  },
  {
   "attachments": {},
   "cell_type": "markdown",
   "metadata": {},
   "source": [
    "# Your Proposed Letter Grade\n",
    "\n",
    "*Take 15 minutes to look back on your responses in each of the sections above. Then, make a proposal for the letter grade that you feel best reflects your learning, participation, and achievement in CSCI 0451. Here are some soundbytes to help guide your thinking:*\n",
    "\n",
    "*An **A** sounds like:* \n",
    "\n",
    "- *\"I am very proud of my time in this course.\"*\n",
    "- *\"I have grown significantly in multiple ways that matter to me.\"*\n",
    "- *\"I am ready to take the theory, techniques, and ideas of this course into my future classes, projects, hobbies, or career.\"* \n",
    "\n",
    "*A **B** sounds like:* \n",
    "\n",
    "- *\"I had some opportunities to learn more, overall I feel good about my time in this course.\"*\n",
    "- *\"I am able to explain some new things or achieve new tasks.\"*\n",
    "- *\"I can see a few ideas from this course that will be relevant for my future classes, projects, hobbies, or career.\"*\n",
    "\n",
    "*A **C** sounds like:* \n",
    "\n",
    "- *\"I often made a good effort, but I missed many opportunities to get more out of my time in this course.\"*\n",
    "- *\"I might be able to complete some new tasks related to the course content, but only with significant further guidance.\"* \n",
    "- *\"I don't see any ways to take the contents of this course into my future classes, projects, hobbies, or career.\"*\n",
    "\n",
    "*You might find that some of these soundbytes resonate and other's don't! Take some time, see what feels right, and don't be afraid to celebrate your achievements.* "
   ]
  },
  {
   "attachments": {},
   "cell_type": "markdown",
   "metadata": {},
   "source": [
    "Upon reflection, I feel that my learning, participation, and achievement in CSCI 0451 are best reflected by a grade of A. I feel strongly that I will take what I have learned in this class to my future work as a software engineer as well as a person. I am incredibly proud of the work I have accomplished in this class, particularly the work that I achieved that was outside of my comfort zone: such as focusing on Theory and Implementation in my blog posts. I came into the course with specific goals such as being a more socially responsible engineer. I not only achieved these goals, but I accomplished far more than I expected, and through developing my technical, analytical, and theoretical skills I have grown significantly in multiple ways that matter to me."
   ]
  }
 ],
 "metadata": {
  "kernelspec": {
   "display_name": "ml-0451",
   "language": "python",
   "name": "python3"
  },
  "language_info": {
   "name": "python",
   "version": "3.9.15"
  },
  "orig_nbformat": 4,
  "vscode": {
   "interpreter": {
    "hash": "debe06cc0f9553f110b64dc3926c05df82dae2145b852c8422b9c04315589dcb"
   }
  }
 },
 "nbformat": 4,
 "nbformat_minor": 2
}
