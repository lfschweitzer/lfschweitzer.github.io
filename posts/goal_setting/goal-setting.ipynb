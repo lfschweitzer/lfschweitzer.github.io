{
 "cells": [
  {
   "cell_type": "markdown",
   "metadata": {},
   "source": [
    "# CSCI 0451: Reflective Goal-Setting\n",
    "\n",
    "Lindsey Schweitzer"
   ]
  },
  {
   "cell_type": "markdown",
   "metadata": {},
   "source": [
    "## What You'll Learn\n",
    "\n",
    "*The knowledge we'll develop in CSCI 0451 can be broadly divided into four main areas:*\n",
    "\n",
    "- ***Theory***: *mathematical descriptions of frameworks and algorithms.*\n",
    "- ***Implementation***: *effective coding and use of tools in order to implement efficient machine learning algorithms.*\n",
    "- ***Experimentation***: *performing experiments to assess the performance of algorithms and clearly communicating about the results.*\n",
    "- ***Social responsibility***: *critical analysis of sources of bias and harm in machine learning algorithms; theoretical formulations of fairness and bias*\n",
    "\n",
    "*Every student should grow toward each of these areas, but you can choose to specialize if you'd like! If there are one or two of these categories on which you'd especially like to focus, list them below. Feel free to include any details that you'd like -- this can help me tailor the course content to your interests.*"
   ]
  },
  {
   "cell_type": "markdown",
   "metadata": {},
   "source": [
    "While I would like to develop skills in all four main areas of our course, I would like to focus specifically on experimentation and social responsibility this semester. I believe that focusing on growth in experimentation and social responsibility will give me the ability to critically analyze important topics of machine learning. By the end of this course, I want to be able to critically analyze machine learning models by understanding how to assess performance and question the source/harms of biases present. I choose to take this class partially because of the overwhelming prevalence of ML models in our daily lives and the popular belief that every CS major/SWE has a unique and especially educated perspective on the impact of AI on the world overall."
   ]
  },
  {
   "cell_type": "markdown",
   "metadata": {},
   "source": [
    "## What You'll Achieve\n",
    "\n",
    "### Blog Posts\n",
    "\n",
    "*Most blog posts will require around 5-8 hours on average to complete, plus time for revisions in response to feedback. Blog posts will most frequently involve a mix of mathematical problem-solving, coding, experimentation, and written discussion. Some blog posts will ask you to critically discuss recent readings in an essay-like format.*"
   ]
  },
  {
   "cell_type": "markdown",
   "metadata": {},
   "source": [
    "Achieving an A in the course signifies that \"I am ready to take the theory, techniques, and ideas of this course into my future classes, projects, hobbies, or career.” I would like to move forward in achieving that goal through my blog posts in this course. Therefore, I would like to complete blog posts in all important areas of focus in the class material and work to respond to feedback for the majority of my posts as I see revision as the most valuable way to learn. I hope to continue learning outside the class by complete areas of my blog posts that are either not covered in class or that I feel especially unclear about. In this process I aspire to take advantage of the professor or TA's office hours every month, if not more."
   ]
  },
  {
   "cell_type": "markdown",
   "metadata": {},
   "source": [
    "### Course Presence (Participation)\n",
    "\n",
    "*You make a choice each day about how to show up for class: whether you'll be prepared, whether you'll engage with me and your peers in a constructive manner; and whether you'll be active during lecture and discussions.*\n",
    "\n",
    "*An especially important form of course presence is the daily warmup. We'll spend the first 10-15 minutes of most class periods on warmup activities. You're expected to have prepared the warmup activity ahead of time (this means you'll need to have completed the readings as well). Each time, we'll sort into groups of 5-6 students, and one of you (randomly selected) will be responsible for presenting the activity on the whiteboard. If you're not feeling prepared to present the activity, you can \"pass\" to the next person, or ask for help along the way.*"
   ]
  },
  {
   "cell_type": "markdown",
   "metadata": {},
   "source": [
    "I plan to participate in the course actively everyday. I will show up to every warmup prepared and share my ideas and questions. I hope to earn a \"Pass\" at least once while presenting for the group for warmup and answer at least one question posed to the class every week. In addition, I hope to ask a question in class or at office hours almost every week. I believe interrogating the material by asking questions is the most important method to truly understanding the material. "
   ]
  },
  {
   "cell_type": "markdown",
   "metadata": {},
   "source": [
    "### Project \n",
    "\n",
    "*To finish off the course, you'll complete a long-term project that showcases your interests and skills. You'll be free to propose and pursue a topic. My expectation is that most projects will move significantly beyond the content covered in class in some way: you might implement a new algorithm, study a complex data set in depth, or conduct a series of experiments related to assessing algorithmic bias in a certain class of algorithm. You'll be expected to complete this project in small groups (of your choosing), and update us at a few milestones along the way.*\n",
    "\n",
    "*Please share a bit about what kind of topic might excite you, and set a few goals about how you plan to show up as a constructive team-member and co-inquirer (see the [ideas](ideas.qmd) for some inspiration*). "
   ]
  },
  {
   "cell_type": "markdown",
   "metadata": {},
   "source": [
    "I am excited by the idea of conducting a series of experiments related to assessing algorithmic bias in a certain class of algorithm, specifically an algorithm with broad real life application. I would like this project to help me improve my ability to analyze machine learning models critically and become a socially responsible engineer. Here are some goals I hope to complete as a contributing member of my team:\n",
    "\n",
    "1. Submit all project milestones (proposal, progress report, etc) on time.\n",
    "2. Schedule and complete meetings weekly to collaborate with my group members\n",
    "3. Communicate clearly and effectively with my group members\n",
    "4. Revise sections of the project report in response to feedback."
   ]
  }
 ],
 "metadata": {
  "kernelspec": {
   "display_name": "ml-0451",
   "language": "python",
   "name": "python3"
  },
  "language_info": {
   "name": "python",
   "version": "3.9.0"
  },
  "vscode": {
   "interpreter": {
    "hash": "debe06cc0f9553f110b64dc3926c05df82dae2145b852c8422b9c04315589dcb"
   }
  }
 },
 "nbformat": 4,
 "nbformat_minor": 4
}
