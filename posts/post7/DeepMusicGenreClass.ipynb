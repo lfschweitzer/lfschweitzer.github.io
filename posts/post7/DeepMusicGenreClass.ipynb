{
  "cells": [
    {
      "cell_type": "markdown",
      "metadata": {},
      "source": [
        "# <u> Deep Music Genre Classification </u>"
      ]
    },
    {
      "cell_type": "markdown",
      "metadata": {},
      "source": [
        "![](music.jpg)"
      ]
    },
    {
      "cell_type": "markdown",
      "metadata": {
        "id": "GkmZ9VJleae_"
      },
      "source": [
        "## Contribution Statement\n",
        "\n",
        "In this blog post I collaborated with Liz Rightmire."
      ]
    },
    {
      "cell_type": "markdown",
      "metadata": {
        "id": "Nxh3gEay1gTG"
      },
      "source": [
        "## Introduction"
      ]
    },
    {
      "cell_type": "markdown",
      "metadata": {
        "id": "VIl1i35zynYA"
      },
      "source": [
        "For this blog post I had this goal: classify songs into different genres\n",
        "\n",
        "To accomplish this task I created three neural networks with Torch and trained them. The first neural network classifies the songs by lyrics only, the second neural netowork classifies the songs by engineering features, and the final uses both engineering features and lyrics to classify songs into genres. I then reflect on these results. After training these models I analyzed the word embeddings learned through this model, specifically focused on gendered words and word embeddings.\n",
        "\n",
        "The base classification rate is 24.8%. After training, all the models grew in accuracy with the first model having a 35%, the second has about 32%, and the third has 30% accuracy rate on the test data. I also found through analyzing the word embeddings that word embeddings can encode bias from the data the model is trained on. Therefore I learned not only more about how to train neural networks but also how to analyze their impacts and fairness."
      ]
    },
    {
      "cell_type": "code",
      "execution_count": null,
      "metadata": {
        "id": "CBpTL9XrlBJZ"
      },
      "outputs": [],
      "source": [
        "import pandas as pd\n",
        "\n",
        "url = \"https://raw.githubusercontent.com/PhilChodrow/PIC16B/master/datasets/tcc_ceds_music.csv\"\n",
        "df = pd.read_csv(url)"
      ]
    },
    {
      "cell_type": "markdown",
      "metadata": {
        "id": "rNzgyhpilFp6"
      },
      "source": [
        "Identifed important engineering features for the second and third neural networks.\n"
      ]
    },
    {
      "cell_type": "code",
      "execution_count": null,
      "metadata": {
        "id": "Pum2hyKMlFKM"
      },
      "outputs": [],
      "source": [
        "engineered_features = ['dating', 'violence', 'world/life', 'night/time','shake the audience','family/gospel', 'romantic', 'communication','obscene', 'music', 'movement/places', 'light/visual perceptions','family/spiritual', 'like/girls', 'sadness', 'feelings', 'danceability','loudness', 'acousticness', 'instrumentalness', 'valence', 'energy']"
      ]
    },
    {
      "cell_type": "markdown",
      "metadata": {
        "id": "mnVDTtwDEgfg"
      },
      "source": [
        "Encode the genres which are our goals for classification."
      ]
    },
    {
      "cell_type": "code",
      "execution_count": null,
      "metadata": {
        "id": "eayZYGYFEiW-"
      },
      "outputs": [],
      "source": [
        "genres = {\n",
        "    \"pop\"   : 0,\n",
        "    \"country\" : 1,\n",
        "    \"blues\" : 2,\n",
        "    \"jazz\" : 3,\n",
        "    \"reggae\" : 4,\n",
        "    \"rock\" : 5,\n",
        "    \"hip hop\" : 6\n",
        " }"
      ]
    },
    {
      "cell_type": "code",
      "execution_count": null,
      "metadata": {
        "id": "TCbsYytgE6AK"
      },
      "outputs": [],
      "source": [
        "df = df[df[\"genre\"].apply(lambda x: x in genres.keys())]\n",
        "df[\"genre\"] = df[\"genre\"].apply(genres.get)"
      ]
    },
    {
      "cell_type": "markdown",
      "metadata": {
        "id": "K18UFMMs5iA6"
      },
      "source": [
        "Use this to calculate the base rate pre training:"
      ]
    },
    {
      "cell_type": "code",
      "execution_count": null,
      "metadata": {
        "colab": {
          "base_uri": "https://localhost:8080/"
        },
        "id": "dhspNrjC5vxZ",
        "outputId": "fc3e36d9-15a6-48a8-fdc8-bb6fa629aee9"
      },
      "outputs": [
        {
          "data": {
            "text/plain": [
              "genre\n",
              "0    0.248202\n",
              "1    0.191915\n",
              "2    0.162273\n",
              "3    0.135521\n",
              "4    0.088045\n",
              "5    0.142182\n",
              "6    0.031862\n",
              "dtype: float64"
            ]
          },
          "execution_count": 5,
          "metadata": {},
          "output_type": "execute_result"
        }
      ],
      "source": [
        "df.groupby(\"genre\").size() / len(df)"
      ]
    },
    {
      "cell_type": "markdown",
      "metadata": {
        "id": "D01Kx1RV5yI9"
      },
      "source": [
        "Therfore our base rate that we want to improve upon with training is 0.248202 as if we only guessed genre 0 (or pop) we would get a 24.8% accuracy rate."
      ]
    },
    {
      "cell_type": "markdown",
      "metadata": {
        "id": "Se-8izmBlOQv"
      },
      "source": [
        "## 1. Neural Network\n",
        "My first network uses only the lyrics to perform the classification task."
      ]
    },
    {
      "cell_type": "markdown",
      "metadata": {
        "id": "js4JI2SSlVK7"
      },
      "source": [
        "Data loader class for my networks. Return batches of data containing both the text features and the engineered features"
      ]
    },
    {
      "cell_type": "code",
      "execution_count": null,
      "metadata": {
        "id": "6z6BlSsXlYpZ"
      },
      "outputs": [],
      "source": [
        "from torch.utils.data import Dataset, DataLoader\n",
        "\n",
        "class TextDataFromDF(Dataset):\n",
        "    def __init__(self, df):\n",
        "        self.df = df\n",
        "\n",
        "    def __getitem__(self, index):\n",
        "        return self.df.iloc[index, 5],  self.df.iloc[index, 4], self.df.iloc[index, 6:28]\n",
        "\n",
        "    def __len__(self):\n",
        "        return len(self.df)"
      ]
    },
    {
      "cell_type": "markdown",
      "metadata": {
        "id": "D84oYOColXsy"
      },
      "source": [
        "Make training and validation datasets through test train split"
      ]
    },
    {
      "cell_type": "code",
      "execution_count": null,
      "metadata": {
        "id": "kjqnRkn0leHT"
      },
      "outputs": [],
      "source": [
        "from sklearn.model_selection import train_test_split\n",
        "\n",
        "df_train, df_val = train_test_split(df,shuffle = True, test_size = 0.2)\n",
        "train_data = TextDataFromDF(df_train)\n",
        "val_data   = TextDataFromDF(df_val)"
      ]
    },
    {
      "cell_type": "markdown",
      "metadata": {
        "id": "IO2WDzC2lhym"
      },
      "source": [
        "Tokenize the lyrics"
      ]
    },
    {
      "cell_type": "code",
      "execution_count": null,
      "metadata": {
        "id": "6I-8h_AuljEG"
      },
      "outputs": [],
      "source": [
        "from torchtext.data.utils import get_tokenizer\n",
        "from torchtext.vocab import build_vocab_from_iterator\n",
        "import torch\n",
        "\n",
        "tokenizer = get_tokenizer('basic_english')"
      ]
    },
    {
      "cell_type": "markdown",
      "metadata": {
        "id": "g9fPx1e2lmhD"
      },
      "source": [
        "Get a vocabulary from our data"
      ]
    },
    {
      "cell_type": "code",
      "execution_count": null,
      "metadata": {
        "id": "vovb7lxUlpYz"
      },
      "outputs": [],
      "source": [
        "def yield_tokens(data_iter):\n",
        "    for text, features, _ in data_iter:\n",
        "        yield tokenizer(text)\n",
        "\n",
        "vocab = build_vocab_from_iterator(yield_tokens(train_data), specials=[\"<unk>\"], min_freq = 50)\n",
        "vocab.set_default_index(vocab[\"<unk>\"])"
      ]
    },
    {
      "cell_type": "markdown",
      "metadata": {
        "id": "DKm3KBAHnWlM"
      },
      "source": [
        "Text pipeline tokenizes text"
      ]
    },
    {
      "cell_type": "code",
      "execution_count": null,
      "metadata": {
        "id": "bF3XlPEnnEPl"
      },
      "outputs": [],
      "source": [
        "from sklearn.preprocessing import LabelEncoder\n",
        "\n",
        "max_len = 30\n",
        "num_tokens = len(vocab.get_itos())\n",
        "def text_pipeline(x):\n",
        "    tokens = vocab(tokenizer(x))\n",
        "    y = torch.zeros(max_len, dtype=torch.int64) + num_tokens\n",
        "    if len(tokens) > max_len:\n",
        "        tokens = tokens[0:max_len]\n",
        "    y[0:len(tokens)] = torch.tensor(tokens,dtype=torch.int64)\n",
        "    return y\n",
        "\n",
        "label_pipeline = lambda x: int(x)"
      ]
    },
    {
      "cell_type": "markdown",
      "metadata": {
        "id": "7PqEEIG3nRSZ"
      },
      "source": [
        "Code to send batches of data to our training loop"
      ]
    },
    {
      "cell_type": "code",
      "execution_count": null,
      "metadata": {
        "id": "gR0B5lXdnFUX"
      },
      "outputs": [],
      "source": [
        "def collate_batch(batch):\n",
        "    label_list, text_list, feature_list = [], [], []\n",
        "\n",
        "    for (_text, _label, _features) in batch:\n",
        "\n",
        "        # make feature pipeline that converts to torch tensor\n",
        "        feature_list.append(torch.tensor(_features))\n",
        "\n",
        "        # add label to list\n",
        "        label_list.append(label_pipeline(_label))\n",
        "\n",
        "         # add text (as sequence of integers) to list\n",
        "        processed_text = text_pipeline(_text)\n",
        "        text_list.append(processed_text)\n",
        "\n",
        "    feature_list = torch.stack(feature_list)\n",
        "    label_list = torch.tensor(label_list, dtype=torch.int64)\n",
        "    text_list = torch.stack(text_list)\n",
        "    return text_list, label_list, feature_list"
      ]
    },
    {
      "cell_type": "markdown",
      "metadata": {
        "id": "4BTBLymFnc_a"
      },
      "source": [
        "Call DataLoader on train and validation data"
      ]
    },
    {
      "cell_type": "code",
      "execution_count": null,
      "metadata": {
        "id": "Kj_txu36nOvM"
      },
      "outputs": [],
      "source": [
        "train_loader = DataLoader(train_data, batch_size=8, shuffle=True, collate_fn=collate_batch)\n",
        "val_loader = DataLoader(val_data, batch_size=8, shuffle=True, collate_fn=collate_batch)"
      ]
    },
    {
      "cell_type": "markdown",
      "metadata": {
        "id": "YbBuA0qHn-4h"
      },
      "source": [
        "Initialize the model using only text feaures."
      ]
    },
    {
      "cell_type": "code",
      "execution_count": null,
      "metadata": {
        "id": "73EBKJQWoAho"
      },
      "outputs": [],
      "source": [
        "from torch import nn\n",
        "\n",
        "class TextClassificationModel(nn.Module):\n",
        "\n",
        "    def __init__(self,vocab_size, embedding_dim, max_len, num_class, hidden_dim=128):\n",
        "        super().__init__()\n",
        "\n",
        "        self.embedding = nn.Embedding(vocab_size+1, embedding_dim)\n",
        "        self.dropout = nn.Dropout (p=0.2)\n",
        "        self.fc = nn.Linear(embedding_dim, num_class)\n",
        "\n",
        "    def forward(self, x):\n",
        "        x = self.embedding(x)\n",
        "        x = self.dropout(x)\n",
        "        x = x.mean(axis=1)\n",
        "        x = self.fc(x)\n",
        "        return(x)"
      ]
    },
    {
      "cell_type": "markdown",
      "metadata": {
        "id": "xlwwx_D-4Cr9"
      },
      "source": [
        "Using the optimizer and loss that Phil used in class."
      ]
    },
    {
      "cell_type": "code",
      "execution_count": null,
      "metadata": {
        "id": "zeBRBMYNoQv4"
      },
      "outputs": [],
      "source": [
        "vocab_size = len(vocab)\n",
        "embedding_dim = 3\n",
        "max_len =100\n",
        "num_classes = 7\n",
        "lyrics_model = TextClassificationModel(vocab_size, embedding_dim, max_len, num_classes)\n",
        "\n",
        "optimizer = torch.optim.Adam(lyrics_model.parameters(), lr=.001)\n",
        "loss_fn = torch.nn.CrossEntropyLoss()\n"
      ]
    },
    {
      "cell_type": "markdown",
      "metadata": {
        "id": "HE4dhJYhoBPw"
      },
      "source": [
        "Train model with training loop with options to use lyrics, engineering features, or both lyrics and engineering features. Pass in the model and dataloader:"
      ]
    },
    {
      "cell_type": "code",
      "execution_count": null,
      "metadata": {
        "id": "81RTHs19DWzo"
      },
      "outputs": [],
      "source": [
        "import time\n",
        "\n",
        "\n",
        "def train(model, dataloader, use_lyrics=True, use_engineering=True):\n",
        "    epoch_start_time = time.time()\n",
        "    # keep track of some counts for measuring accuracy\n",
        "    total_acc, total_count = 0, 0\n",
        "    log_interval = 300\n",
        "    start_time = time.time()\n",
        "\n",
        "    for idx, (text, label, features) in enumerate(dataloader):\n",
        "\n",
        "        # zero gradients\n",
        "        optimizer.zero_grad()\n",
        "        # form prediction on batch\n",
        "        predicted_label = ''\n",
        "\n",
        "        # send model specific features based on specifications\n",
        "        if(use_engineering and not use_lyrics):\n",
        "            predicted_label = model(features)\n",
        "        elif(use_lyrics and not use_engineering):\n",
        "            predicted_label = model(text)\n",
        "        elif(use_lyrics and use_engineering):\n",
        "            predicted_label = model(text, features)\n",
        "\n",
        "        # evaluate loss on prediction\n",
        "        loss = loss_fn(predicted_label, label)\n",
        "        # compute gradient\n",
        "        loss.backward()\n",
        "        # take an optimization step\n",
        "        optimizer.step()\n",
        "\n",
        "        # for printing accuracy\n",
        "        total_acc   += (predicted_label.argmax(1) == label).sum().item()\n",
        "        total_count += label.size(0)\n",
        "\n",
        "    print(f'| epoch {epoch:3d} | train accuracy {total_acc/total_count:8.3f} | time: {time.time() - epoch_start_time:5.2f}s')\n",
        "\n",
        "def evaluate(model, dataloader, use_lyrics=True, use_engineering=True):\n",
        "\n",
        "    total_acc, total_count = 0, 0\n",
        "\n",
        "    with torch.no_grad():\n",
        "        for idx, (text, label, features) in enumerate(dataloader):\n",
        "\n",
        "            # form prediction on batch using specified features\n",
        "            if(use_engineering and not use_lyrics):\n",
        "                predicted_label = model(features)\n",
        "            elif(use_lyrics and not use_engineering):\n",
        "                predicted_label = model(text)\n",
        "            elif(use_lyrics and use_engineering):\n",
        "                predicted_label = model(text, features)\n",
        "\n",
        "            total_acc += (predicted_label.argmax(1) == label).sum().item()\n",
        "            total_count += label.size(0)\n",
        "    return total_acc/total_count"
      ]
    },
    {
      "cell_type": "markdown",
      "metadata": {
        "id": "mAx-HTmNoYKK"
      },
      "source": [
        "Call the training loop for 40 EPOCHs"
      ]
    },
    {
      "cell_type": "code",
      "execution_count": null,
      "metadata": {
        "colab": {
          "base_uri": "https://localhost:8080/"
        },
        "id": "llEeWV5OoZrI",
        "outputId": "ac160aa1-080b-4bc0-fe71-95b8b3cad1ba"
      },
      "outputs": [
        {
          "name": "stdout",
          "output_type": "stream",
          "text": [
            "| epoch   1 | train accuracy    0.240 | time: 18.62s\n",
            "| epoch   2 | train accuracy    0.263 | time: 18.36s\n",
            "| epoch   3 | train accuracy    0.269 | time: 20.02s\n",
            "| epoch   4 | train accuracy    0.279 | time: 21.54s\n",
            "| epoch   5 | train accuracy    0.289 | time: 22.04s\n",
            "| epoch   6 | train accuracy    0.298 | time: 19.96s\n",
            "| epoch   7 | train accuracy    0.308 | time: 18.47s\n",
            "| epoch   8 | train accuracy    0.317 | time: 18.71s\n",
            "| epoch   9 | train accuracy    0.326 | time: 18.54s\n",
            "| epoch  10 | train accuracy    0.334 | time: 19.31s\n",
            "| epoch  11 | train accuracy    0.341 | time: 18.80s\n",
            "| epoch  12 | train accuracy    0.348 | time: 18.43s\n",
            "| epoch  13 | train accuracy    0.355 | time: 19.19s\n",
            "| epoch  14 | train accuracy    0.360 | time: 18.87s\n",
            "| epoch  15 | train accuracy    0.363 | time: 19.57s\n",
            "| epoch  16 | train accuracy    0.368 | time: 18.08s\n",
            "| epoch  17 | train accuracy    0.373 | time: 19.12s\n",
            "| epoch  18 | train accuracy    0.376 | time: 17.63s\n",
            "| epoch  19 | train accuracy    0.379 | time: 18.95s\n",
            "| epoch  20 | train accuracy    0.382 | time: 18.70s\n",
            "| epoch  21 | train accuracy    0.385 | time: 17.42s\n",
            "| epoch  22 | train accuracy    0.388 | time: 18.80s\n",
            "| epoch  23 | train accuracy    0.392 | time: 17.79s\n",
            "| epoch  24 | train accuracy    0.392 | time: 17.60s\n",
            "| epoch  25 | train accuracy    0.397 | time: 18.68s\n",
            "| epoch  26 | train accuracy    0.401 | time: 18.70s\n",
            "| epoch  27 | train accuracy    0.406 | time: 18.32s\n",
            "| epoch  28 | train accuracy    0.408 | time: 17.28s\n",
            "| epoch  29 | train accuracy    0.407 | time: 17.43s\n",
            "| epoch  30 | train accuracy    0.410 | time: 18.69s\n",
            "| epoch  31 | train accuracy    0.415 | time: 17.62s\n",
            "| epoch  32 | train accuracy    0.417 | time: 17.61s\n",
            "| epoch  33 | train accuracy    0.416 | time: 18.58s\n",
            "| epoch  34 | train accuracy    0.420 | time: 18.35s\n",
            "| epoch  35 | train accuracy    0.422 | time: 18.34s\n",
            "| epoch  36 | train accuracy    0.428 | time: 16.98s\n",
            "| epoch  37 | train accuracy    0.426 | time: 17.16s\n",
            "| epoch  38 | train accuracy    0.426 | time: 18.26s\n",
            "| epoch  39 | train accuracy    0.426 | time: 17.76s\n",
            "| epoch  40 | train accuracy    0.430 | time: 17.09s\n"
          ]
        }
      ],
      "source": [
        "EPOCHS = 40\n",
        "for epoch in range(1, EPOCHS + 1):\n",
        "    train(lyrics_model, train_loader, use_lyrics=True, use_engineering=False)"
      ]
    },
    {
      "cell_type": "markdown",
      "metadata": {
        "id": "oO7HXoRLocqn"
      },
      "source": [
        "Now evaluate the accuracy of the model with the validation data only using the lyrics."
      ]
    },
    {
      "cell_type": "code",
      "execution_count": null,
      "metadata": {
        "colab": {
          "base_uri": "https://localhost:8080/"
        },
        "id": "8Af87d_7ofMm",
        "outputId": "9636e4c9-edef-44c5-cda6-8366f65e9e13"
      },
      "outputs": [
        {
          "data": {
            "text/plain": [
              "0.3515418502202643"
            ]
          },
          "execution_count": 62,
          "metadata": {},
          "output_type": "execute_result"
        }
      ],
      "source": [
        "evaluate(lyrics_model, val_loader, use_lyrics=True, use_engineering=False)"
      ]
    },
    {
      "cell_type": "markdown",
      "metadata": {
        "id": "mie4sPx25HOD"
      },
      "source": [
        "We end up with a 35.2% accuracy after training, which is much higher than our base rate of 24.8%."
      ]
    },
    {
      "cell_type": "markdown",
      "metadata": {
        "id": "wWFVOKaDlwFh"
      },
      "source": [
        "## 2. Neural Network\n",
        "\n",
        "This neural network uses engineering features only to perform the classifications."
      ]
    },
    {
      "cell_type": "markdown",
      "metadata": {
        "id": "vrn8V6qkVAF0"
      },
      "source": [
        "Perform train test split"
      ]
    },
    {
      "cell_type": "code",
      "execution_count": null,
      "metadata": {
        "id": "-FMB0PAwHjjA"
      },
      "outputs": [],
      "source": [
        "df_train, df_val = train_test_split(df,shuffle = True, test_size = 0.2)\n",
        "train_data = TextDataFromDF(df_train)\n",
        "val_data   = TextDataFromDF(df_val)"
      ]
    },
    {
      "cell_type": "markdown",
      "metadata": {
        "id": "9nXlB5qNVCvj"
      },
      "source": [
        "Initialize a model that specifically uses engineering features"
      ]
    },
    {
      "cell_type": "code",
      "execution_count": null,
      "metadata": {
        "id": "wxwHFchpJXIY"
      },
      "outputs": [],
      "source": [
        "from torch import nn\n",
        "\n",
        "class EngineeringClassificationModel(nn.Module):\n",
        "    def __init__(self, input_size, num_classes):\n",
        "        super().__init__()\n",
        "        self.model = nn.Sequential(\n",
        "            nn.Linear(input_size, 128),\n",
        "            nn.ReLU(),\n",
        "            nn.Dropout(0.2),\n",
        "            nn.Linear(128, 64),\n",
        "            nn.ReLU(),\n",
        "            nn.Dropout(0.2),\n",
        "            nn.Linear(64, 32),\n",
        "            nn.ReLU(),\n",
        "            nn.Dropout(0.2),\n",
        "            nn.Linear(32, 16),\n",
        "            nn.ReLU(),\n",
        "            nn.Dropout(0.2),\n",
        "            nn.Linear(16, num_classes),\n",
        "            nn.Softmax(dim=1) )\n",
        "\n",
        "    def forward(self, x):\n",
        "        x = x.float()\n",
        "        x = torch.flatten(x, 1)\n",
        "        x = self.model(x)\n",
        "        return x\n"
      ]
    },
    {
      "cell_type": "markdown",
      "metadata": {
        "id": "dnBVnym_VGs_"
      },
      "source": [
        "Use dataloader to get same dataloader for test and validation data"
      ]
    },
    {
      "cell_type": "code",
      "execution_count": null,
      "metadata": {
        "id": "9h8wiwB3Ib4f"
      },
      "outputs": [],
      "source": [
        "train_loader = DataLoader(train_data, batch_size=8, shuffle=True, collate_fn=collate_batch)\n",
        "val_loader = DataLoader(val_data, batch_size=8, shuffle=True, collate_fn=collate_batch)"
      ]
    },
    {
      "cell_type": "code",
      "execution_count": null,
      "metadata": {
        "id": "7-slwOStIm9T"
      },
      "outputs": [],
      "source": [
        "input_size = 22\n",
        "num_classes = 7\n",
        "engineer_model = EngineeringClassificationModel(input_size, num_classes)\n",
        "\n",
        "optimizer = torch.optim.Adam(engineer_model.parameters(), lr=.0001)\n",
        "loss_fn = torch.nn.CrossEntropyLoss()"
      ]
    },
    {
      "cell_type": "markdown",
      "metadata": {
        "id": "3FtNFJZh49Hv"
      },
      "source": [
        "Do the training loop for 40 EPOCHS"
      ]
    },
    {
      "cell_type": "code",
      "execution_count": null,
      "metadata": {
        "colab": {
          "base_uri": "https://localhost:8080/"
        },
        "id": "JV9oByUKIpnx",
        "outputId": "d8c031ef-177e-4782-b7d6-654531fbc4d4"
      },
      "outputs": [
        {
          "name": "stdout",
          "output_type": "stream",
          "text": [
            "| epoch   1 | train accuracy    0.246 | time: 21.43s\n",
            "| epoch   2 | train accuracy    0.247 | time: 22.65s\n",
            "| epoch   3 | train accuracy    0.246 | time: 21.08s\n",
            "| epoch   4 | train accuracy    0.246 | time: 20.59s\n",
            "| epoch   5 | train accuracy    0.249 | time: 21.08s\n",
            "| epoch   6 | train accuracy    0.249 | time: 20.27s\n",
            "| epoch   7 | train accuracy    0.251 | time: 21.55s\n",
            "| epoch   8 | train accuracy    0.257 | time: 20.91s\n",
            "| epoch   9 | train accuracy    0.259 | time: 22.50s\n",
            "| epoch  10 | train accuracy    0.263 | time: 21.53s\n",
            "| epoch  11 | train accuracy    0.266 | time: 20.14s\n",
            "| epoch  12 | train accuracy    0.273 | time: 21.01s\n",
            "| epoch  13 | train accuracy    0.280 | time: 21.52s\n",
            "| epoch  14 | train accuracy    0.281 | time: 19.91s\n",
            "| epoch  15 | train accuracy    0.287 | time: 21.00s\n",
            "| epoch  16 | train accuracy    0.289 | time: 19.88s\n",
            "| epoch  17 | train accuracy    0.294 | time: 22.62s\n",
            "| epoch  18 | train accuracy    0.299 | time: 21.41s\n",
            "| epoch  19 | train accuracy    0.301 | time: 20.50s\n",
            "| epoch  20 | train accuracy    0.307 | time: 21.44s\n",
            "| epoch  21 | train accuracy    0.314 | time: 20.16s\n",
            "| epoch  22 | train accuracy    0.313 | time: 21.46s\n",
            "| epoch  23 | train accuracy    0.318 | time: 20.63s\n",
            "| epoch  24 | train accuracy    0.317 | time: 20.73s\n",
            "| epoch  25 | train accuracy    0.321 | time: 23.29s\n",
            "| epoch  26 | train accuracy    0.324 | time: 20.21s\n",
            "| epoch  27 | train accuracy    0.325 | time: 21.37s\n",
            "| epoch  28 | train accuracy    0.327 | time: 20.30s\n",
            "| epoch  29 | train accuracy    0.329 | time: 21.22s\n",
            "| epoch  30 | train accuracy    0.328 | time: 21.01s\n",
            "| epoch  31 | train accuracy    0.327 | time: 20.03s\n",
            "| epoch  32 | train accuracy    0.328 | time: 22.02s\n",
            "| epoch  33 | train accuracy    0.332 | time: 22.53s\n",
            "| epoch  34 | train accuracy    0.336 | time: 22.78s\n",
            "| epoch  35 | train accuracy    0.332 | time: 21.17s\n",
            "| epoch  36 | train accuracy    0.335 | time: 20.25s\n",
            "| epoch  37 | train accuracy    0.336 | time: 20.83s\n",
            "| epoch  38 | train accuracy    0.337 | time: 20.89s\n",
            "| epoch  39 | train accuracy    0.337 | time: 20.03s\n",
            "| epoch  40 | train accuracy    0.339 | time: 21.02s\n"
          ]
        }
      ],
      "source": [
        "EPOCHS = 40\n",
        "for epoch in range(1, EPOCHS + 1):\n",
        "    train(engineer_model, train_loader, use_lyrics=False, use_engineering=True)"
      ]
    },
    {
      "cell_type": "code",
      "execution_count": null,
      "metadata": {
        "colab": {
          "base_uri": "https://localhost:8080/"
        },
        "id": "erNbvyIME0Kd",
        "outputId": "954d0d1e-4fd0-49d6-f8c5-89630e99e14d"
      },
      "outputs": [
        {
          "data": {
            "text/plain": [
              "0.32863436123348017"
            ]
          },
          "execution_count": 22,
          "metadata": {},
          "output_type": "execute_result"
        }
      ],
      "source": [
        "evaluate(engineer_model, val_loader, use_lyrics=False, use_engineering=True)"
      ]
    },
    {
      "cell_type": "markdown",
      "metadata": {
        "id": "3cq_pBng6Pbq"
      },
      "source": [
        "This accuracy is above the base rate of 24.8%, so we know that this neural network is learning! However, this is slightly lower than the first neural network perhaps indicating that lyrics are more helpful in classifying genres than engineering features."
      ]
    },
    {
      "cell_type": "markdown",
      "metadata": {
        "id": "FxsyNOFnHBVI"
      },
      "source": [
        "## 3. Neural Network"
      ]
    },
    {
      "cell_type": "markdown",
      "metadata": {
        "id": "IjG2zXd9GISV"
      },
      "source": [
        "This third network uses both the lyrics and the engineered features to perform the classification task."
      ]
    },
    {
      "cell_type": "code",
      "execution_count": null,
      "metadata": {
        "id": "7hMroDHnGHdT"
      },
      "outputs": [],
      "source": [
        "df_train, df_val = train_test_split(df,shuffle = True, test_size = 0.2)\n",
        "train_data = TextDataFromDF(df_train)\n",
        "val_data   = TextDataFromDF(df_val)"
      ]
    },
    {
      "cell_type": "markdown",
      "metadata": {
        "id": "KqEhPw_TGtIS"
      },
      "source": [
        "Initialize model that uses lyrics and engineering features"
      ]
    },
    {
      "cell_type": "code",
      "execution_count": null,
      "metadata": {
        "id": "TFxg9_svGxuu"
      },
      "outputs": [],
      "source": [
        "class CombinedNet(nn.Module):\n",
        "\n",
        "    def __init__(self, vocab_size, embedding_dim, num_features, num_classes):\n",
        "        super().__init__()\n",
        "\n",
        "        # Text Pipeline\n",
        "        self.embedding = nn.Embedding(vocab_size+1, embedding_dim)\n",
        "        self.dropout = nn.Dropout (p=0.2)\n",
        "        self.text_fc = nn.Linear(embedding_dim, 128)\n",
        "\n",
        "        # Engineered Features Pipeline\n",
        "        self.engineered_model = nn.Sequential(nn.Linear(num_features, 256),\n",
        "                                              nn.ReLU(),\n",
        "                                              nn.Dropout(0.2),\n",
        "                                              nn.Linear(256, 128))\n",
        "        # Combined Layers\n",
        "        self.combine_fc = nn.Linear(12928, 64)\n",
        "        self.output_fc = nn.Linear(64, num_classes)\n",
        "        self.softmax = nn.Softmax(dim=1)\n",
        "\n",
        "    def forward(self, text_features, engineer_features):\n",
        "\n",
        "        # text pipeline\n",
        "        text_embedded = self.embedding(text_features)\n",
        "        text_processed = self.dropout(text_embedded)\n",
        "        text_processed = self.text_fc(text_processed)\n",
        "\n",
        "        # engineered features\n",
        "        engineer_features = engineer_features.float()\n",
        "        engineered_processed = self.engineered_model(engineer_features)\n",
        "\n",
        "        # flatten text\n",
        "        text_processed = torch.flatten(text_processed, 1)\n",
        "\n",
        "        # combine processed text and engineering features\n",
        "        combined = torch.cat((text_processed, engineered_processed), dim=1)\n",
        "\n",
        "        # pass x through a couple more fully-connected layers and return output\n",
        "        combined = self.combine_fc(combined)\n",
        "        output = self.output_fc(combined)\n",
        "        output = self.softmax(output)\n",
        "\n",
        "        return output"
      ]
    },
    {
      "cell_type": "markdown",
      "metadata": {
        "id": "MkaxEy_VlLrs"
      },
      "source": [
        "Call the DataLoader with the same parameters as before."
      ]
    },
    {
      "cell_type": "code",
      "execution_count": null,
      "metadata": {
        "id": "dzp7zIBmGlcr"
      },
      "outputs": [],
      "source": [
        "train_loader = DataLoader(train_data, batch_size=8, shuffle=True, collate_fn=collate_batch)\n",
        "val_loader = DataLoader(val_data, batch_size=8, shuffle=True, collate_fn=collate_batch)"
      ]
    },
    {
      "cell_type": "markdown",
      "metadata": {
        "id": "HTvArKH2lWDb"
      },
      "source": [
        "Initialize the model with speific parameters"
      ]
    },
    {
      "cell_type": "code",
      "execution_count": null,
      "metadata": {
        "id": "9OvI75KWGoHi"
      },
      "outputs": [],
      "source": [
        "vocab_size = len(vocab)\n",
        "embedding_dim = 3\n",
        "num_features = 22\n",
        "num_classes = 7\n",
        "\n",
        "combined_model = CombinedNet(vocab_size, embedding_dim, num_features, num_classes)\n",
        "\n",
        "optimizer = torch.optim.Adam(combined_model.parameters(), lr=.00005)\n",
        "loss_fn = torch.nn.CrossEntropyLoss()"
      ]
    },
    {
      "cell_type": "markdown",
      "metadata": {
        "id": "1p6FgJzilbvL"
      },
      "source": [
        "Complete the training loop for 40 EPOCHS both engineering features and lyrics"
      ]
    },
    {
      "cell_type": "code",
      "execution_count": null,
      "metadata": {
        "colab": {
          "base_uri": "https://localhost:8080/"
        },
        "id": "Be8txw2ZG0ky",
        "outputId": "ba4ff40b-9a32-477e-f6bc-a5b5f2e21209"
      },
      "outputs": [
        {
          "name": "stdout",
          "output_type": "stream",
          "text": [
            "| epoch   1 | train accuracy    0.243 | time: 43.72s\n",
            "| epoch   2 | train accuracy    0.253 | time: 49.11s\n",
            "| epoch   3 | train accuracy    0.255 | time: 42.87s\n",
            "| epoch   4 | train accuracy    0.258 | time: 43.07s\n",
            "| epoch   5 | train accuracy    0.260 | time: 44.59s\n",
            "| epoch   6 | train accuracy    0.263 | time: 42.92s\n",
            "| epoch   7 | train accuracy    0.266 | time: 42.98s\n",
            "| epoch   8 | train accuracy    0.266 | time: 44.00s\n",
            "| epoch   9 | train accuracy    0.270 | time: 44.15s\n",
            "| epoch  10 | train accuracy    0.271 | time: 43.29s\n",
            "| epoch  11 | train accuracy    0.268 | time: 44.25s\n",
            "| epoch  12 | train accuracy    0.278 | time: 43.16s\n",
            "| epoch  13 | train accuracy    0.275 | time: 44.15s\n",
            "| epoch  14 | train accuracy    0.283 | time: 46.28s\n",
            "| epoch  15 | train accuracy    0.284 | time: 42.80s\n",
            "| epoch  16 | train accuracy    0.288 | time: 44.57s\n",
            "| epoch  17 | train accuracy    0.291 | time: 43.91s\n",
            "| epoch  18 | train accuracy    0.302 | time: 43.19s\n",
            "| epoch  19 | train accuracy    0.300 | time: 43.18s\n",
            "| epoch  20 | train accuracy    0.303 | time: 45.02s\n",
            "| epoch  21 | train accuracy    0.305 | time: 43.06s\n",
            "| epoch  22 | train accuracy    0.307 | time: 43.00s\n",
            "| epoch  23 | train accuracy    0.312 | time: 43.86s\n",
            "| epoch  24 | train accuracy    0.310 | time: 44.57s\n",
            "| epoch  25 | train accuracy    0.312 | time: 42.97s\n",
            "| epoch  26 | train accuracy    0.315 | time: 43.30s\n",
            "| epoch  27 | train accuracy    0.322 | time: 44.38s\n",
            "| epoch  28 | train accuracy    0.314 | time: 47.11s\n",
            "| epoch  29 | train accuracy    0.321 | time: 44.45s\n",
            "| epoch  30 | train accuracy    0.321 | time: 44.48s\n",
            "| epoch  31 | train accuracy    0.326 | time: 46.06s\n",
            "| epoch  32 | train accuracy    0.325 | time: 44.29s\n",
            "| epoch  33 | train accuracy    0.324 | time: 43.89s\n",
            "| epoch  34 | train accuracy    0.327 | time: 45.26s\n",
            "| epoch  35 | train accuracy    0.328 | time: 45.75s\n",
            "| epoch  36 | train accuracy    0.325 | time: 44.96s\n",
            "| epoch  37 | train accuracy    0.328 | time: 44.31s\n",
            "| epoch  38 | train accuracy    0.327 | time: 45.22s\n",
            "| epoch  39 | train accuracy    0.332 | time: 44.53s\n",
            "| epoch  40 | train accuracy    0.329 | time: 45.05s\n"
          ]
        }
      ],
      "source": [
        "EPOCHS = 40\n",
        "for epoch in range(1, EPOCHS + 1):\n",
        "    train(combined_model, train_loader, use_lyrics=True, use_engineering=True)"
      ]
    },
    {
      "cell_type": "code",
      "execution_count": null,
      "metadata": {
        "colab": {
          "base_uri": "https://localhost:8080/"
        },
        "id": "UZeeFFtSG2DK",
        "outputId": "00b3e2d5-e33b-4d60-f34b-64d962b5089b"
      },
      "outputs": [
        {
          "data": {
            "text/plain": [
              "0.3013215859030837"
            ]
          },
          "execution_count": 30,
          "metadata": {},
          "output_type": "execute_result"
        }
      ],
      "source": [
        "evaluate(combined_model, val_loader, use_lyrics=True, use_engineering=True)"
      ]
    },
    {
      "cell_type": "markdown",
      "metadata": {
        "id": "YzdStKI_7Bu1"
      },
      "source": [
        "We end up with a 30% validation accuracy, which is higher than our 24.8% base rate."
      ]
    },
    {
      "cell_type": "markdown",
      "metadata": {
        "id": "TMX6WehVHRBl"
      },
      "source": [
        "## 4. Visualize word embeddings\n",
        "\n",
        "Goal: visualize the embeddings learned by my model and analyze these visualizations."
      ]
    },
    {
      "cell_type": "markdown",
      "metadata": {
        "id": "bhFd0O5JeldK"
      },
      "source": [
        "Lets extract the embedding matrix with the model we trained using both the lyrics and the engineering features"
      ]
    },
    {
      "cell_type": "code",
      "execution_count": null,
      "metadata": {
        "id": "Tn8pcwaNdW1y"
      },
      "outputs": [],
      "source": [
        "embedding_matrix = lyrics_model.embedding.cpu().weight.data.numpy()"
      ]
    },
    {
      "cell_type": "code",
      "execution_count": null,
      "metadata": {
        "id": "VFw0OorAdh-M"
      },
      "outputs": [],
      "source": [
        "tokens = vocab.get_itos()"
      ]
    },
    {
      "cell_type": "code",
      "execution_count": null,
      "metadata": {
        "id": "Ht1KNTLWe67c"
      },
      "outputs": [],
      "source": [
        "from sklearn.decomposition import PCA\n",
        "pca = PCA(n_components=2)\n",
        "weights = pca.fit_transform(embedding_matrix)"
      ]
    },
    {
      "cell_type": "code",
      "execution_count": null,
      "metadata": {
        "colab": {
          "base_uri": "https://localhost:8080/",
          "height": 423
        },
        "id": "5TFoxSpGlwZ5",
        "outputId": "c6628a29-375b-47cb-f77c-40de50837d1e"
      },
      "outputs": [
        {
          "data": {
            "application/vnd.google.colaboratory.intrinsic+json": {
              "summary": "{\n  \"name\": \"embedding_df\",\n  \"rows\": 2893,\n  \"fields\": [\n    {\n      \"column\": \"word\",\n      \"properties\": {\n        \"dtype\": \"string\",\n        \"num_unique_values\": 2893,\n        \"samples\": [\n          \"pile\",\n          \"bare\",\n          \"host\"\n        ],\n        \"semantic_type\": \"\",\n        \"description\": \"\"\n      }\n    },\n    {\n      \"column\": \"x0\",\n      \"properties\": {\n        \"dtype\": \"float32\",\n        \"num_unique_values\": 2893,\n        \"samples\": [\n          -1.0885885953903198,\n          1.0145875215530396,\n          -0.10846811532974243\n        ],\n        \"semantic_type\": \"\",\n        \"description\": \"\"\n      }\n    },\n    {\n      \"column\": \"x1\",\n      \"properties\": {\n        \"dtype\": \"float32\",\n        \"num_unique_values\": 2893,\n        \"samples\": [\n          1.3689954280853271,\n          0.5951434969902039,\n          -0.19926446676254272\n        ],\n        \"semantic_type\": \"\",\n        \"description\": \"\"\n      }\n    }\n  ]\n}",
              "type": "dataframe",
              "variable_name": "embedding_df"
            },
            "text/html": [
              "\n",
              "  <div id=\"df-e8d2df46-7aa5-4146-8c4d-612471b06951\" class=\"colab-df-container\">\n",
              "    <div>\n",
              "<style scoped>\n",
              "    .dataframe tbody tr th:only-of-type {\n",
              "        vertical-align: middle;\n",
              "    }\n",
              "\n",
              "    .dataframe tbody tr th {\n",
              "        vertical-align: top;\n",
              "    }\n",
              "\n",
              "    .dataframe thead th {\n",
              "        text-align: right;\n",
              "    }\n",
              "</style>\n",
              "<table border=\"1\" class=\"dataframe\">\n",
              "  <thead>\n",
              "    <tr style=\"text-align: right;\">\n",
              "      <th></th>\n",
              "      <th>word</th>\n",
              "      <th>x0</th>\n",
              "      <th>x1</th>\n",
              "    </tr>\n",
              "  </thead>\n",
              "  <tbody>\n",
              "    <tr>\n",
              "      <th>0</th>\n",
              "      <td>&lt;unk&gt;</td>\n",
              "      <td>-0.977003</td>\n",
              "      <td>-1.389344</td>\n",
              "    </tr>\n",
              "    <tr>\n",
              "      <th>1</th>\n",
              "      <td>know</td>\n",
              "      <td>0.714336</td>\n",
              "      <td>1.447385</td>\n",
              "    </tr>\n",
              "    <tr>\n",
              "      <th>2</th>\n",
              "      <td>like</td>\n",
              "      <td>-0.867101</td>\n",
              "      <td>-0.542019</td>\n",
              "    </tr>\n",
              "    <tr>\n",
              "      <th>3</th>\n",
              "      <td>time</td>\n",
              "      <td>-1.194328</td>\n",
              "      <td>-2.167107</td>\n",
              "    </tr>\n",
              "    <tr>\n",
              "      <th>4</th>\n",
              "      <td>come</td>\n",
              "      <td>-0.376801</td>\n",
              "      <td>-0.720566</td>\n",
              "    </tr>\n",
              "    <tr>\n",
              "      <th>...</th>\n",
              "      <td>...</td>\n",
              "      <td>...</td>\n",
              "      <td>...</td>\n",
              "    </tr>\n",
              "    <tr>\n",
              "      <th>2888</th>\n",
              "      <td>settin</td>\n",
              "      <td>0.907473</td>\n",
              "      <td>0.076848</td>\n",
              "    </tr>\n",
              "    <tr>\n",
              "      <th>2889</th>\n",
              "      <td>soda</td>\n",
              "      <td>0.843981</td>\n",
              "      <td>0.102353</td>\n",
              "    </tr>\n",
              "    <tr>\n",
              "      <th>2890</th>\n",
              "      <td>tighten</td>\n",
              "      <td>-1.307797</td>\n",
              "      <td>-1.214868</td>\n",
              "    </tr>\n",
              "    <tr>\n",
              "      <th>2891</th>\n",
              "      <td>woohoo</td>\n",
              "      <td>0.351801</td>\n",
              "      <td>1.301385</td>\n",
              "    </tr>\n",
              "    <tr>\n",
              "      <th>2892</th>\n",
              "      <td></td>\n",
              "      <td>-0.950418</td>\n",
              "      <td>-0.666203</td>\n",
              "    </tr>\n",
              "  </tbody>\n",
              "</table>\n",
              "<p>2893 rows × 3 columns</p>\n",
              "</div>\n",
              "    <div class=\"colab-df-buttons\">\n",
              "\n",
              "  <div class=\"colab-df-container\">\n",
              "    <button class=\"colab-df-convert\" onclick=\"convertToInteractive('df-e8d2df46-7aa5-4146-8c4d-612471b06951')\"\n",
              "            title=\"Convert this dataframe to an interactive table.\"\n",
              "            style=\"display:none;\">\n",
              "\n",
              "  <svg xmlns=\"http://www.w3.org/2000/svg\" height=\"24px\" viewBox=\"0 -960 960 960\">\n",
              "    <path d=\"M120-120v-720h720v720H120Zm60-500h600v-160H180v160Zm220 220h160v-160H400v160Zm0 220h160v-160H400v160ZM180-400h160v-160H180v160Zm440 0h160v-160H620v160ZM180-180h160v-160H180v160Zm440 0h160v-160H620v160Z\"/>\n",
              "  </svg>\n",
              "    </button>\n",
              "\n",
              "  <style>\n",
              "    .colab-df-container {\n",
              "      display:flex;\n",
              "      gap: 12px;\n",
              "    }\n",
              "\n",
              "    .colab-df-convert {\n",
              "      background-color: #E8F0FE;\n",
              "      border: none;\n",
              "      border-radius: 50%;\n",
              "      cursor: pointer;\n",
              "      display: none;\n",
              "      fill: #1967D2;\n",
              "      height: 32px;\n",
              "      padding: 0 0 0 0;\n",
              "      width: 32px;\n",
              "    }\n",
              "\n",
              "    .colab-df-convert:hover {\n",
              "      background-color: #E2EBFA;\n",
              "      box-shadow: 0px 1px 2px rgba(60, 64, 67, 0.3), 0px 1px 3px 1px rgba(60, 64, 67, 0.15);\n",
              "      fill: #174EA6;\n",
              "    }\n",
              "\n",
              "    .colab-df-buttons div {\n",
              "      margin-bottom: 4px;\n",
              "    }\n",
              "\n",
              "    [theme=dark] .colab-df-convert {\n",
              "      background-color: #3B4455;\n",
              "      fill: #D2E3FC;\n",
              "    }\n",
              "\n",
              "    [theme=dark] .colab-df-convert:hover {\n",
              "      background-color: #434B5C;\n",
              "      box-shadow: 0px 1px 3px 1px rgba(0, 0, 0, 0.15);\n",
              "      filter: drop-shadow(0px 1px 2px rgba(0, 0, 0, 0.3));\n",
              "      fill: #FFFFFF;\n",
              "    }\n",
              "  </style>\n",
              "\n",
              "    <script>\n",
              "      const buttonEl =\n",
              "        document.querySelector('#df-e8d2df46-7aa5-4146-8c4d-612471b06951 button.colab-df-convert');\n",
              "      buttonEl.style.display =\n",
              "        google.colab.kernel.accessAllowed ? 'block' : 'none';\n",
              "\n",
              "      async function convertToInteractive(key) {\n",
              "        const element = document.querySelector('#df-e8d2df46-7aa5-4146-8c4d-612471b06951');\n",
              "        const dataTable =\n",
              "          await google.colab.kernel.invokeFunction('convertToInteractive',\n",
              "                                                    [key], {});\n",
              "        if (!dataTable) return;\n",
              "\n",
              "        const docLinkHtml = 'Like what you see? Visit the ' +\n",
              "          '<a target=\"_blank\" href=https://colab.research.google.com/notebooks/data_table.ipynb>data table notebook</a>'\n",
              "          + ' to learn more about interactive tables.';\n",
              "        element.innerHTML = '';\n",
              "        dataTable['output_type'] = 'display_data';\n",
              "        await google.colab.output.renderOutput(dataTable, element);\n",
              "        const docLink = document.createElement('div');\n",
              "        docLink.innerHTML = docLinkHtml;\n",
              "        element.appendChild(docLink);\n",
              "      }\n",
              "    </script>\n",
              "  </div>\n",
              "\n",
              "\n",
              "<div id=\"df-4a16f286-2c88-4dcd-9d46-72bc519eb966\">\n",
              "  <button class=\"colab-df-quickchart\" onclick=\"quickchart('df-4a16f286-2c88-4dcd-9d46-72bc519eb966')\"\n",
              "            title=\"Suggest charts\"\n",
              "            style=\"display:none;\">\n",
              "\n",
              "<svg xmlns=\"http://www.w3.org/2000/svg\" height=\"24px\"viewBox=\"0 0 24 24\"\n",
              "     width=\"24px\">\n",
              "    <g>\n",
              "        <path d=\"M19 3H5c-1.1 0-2 .9-2 2v14c0 1.1.9 2 2 2h14c1.1 0 2-.9 2-2V5c0-1.1-.9-2-2-2zM9 17H7v-7h2v7zm4 0h-2V7h2v10zm4 0h-2v-4h2v4z\"/>\n",
              "    </g>\n",
              "</svg>\n",
              "  </button>\n",
              "\n",
              "<style>\n",
              "  .colab-df-quickchart {\n",
              "      --bg-color: #E8F0FE;\n",
              "      --fill-color: #1967D2;\n",
              "      --hover-bg-color: #E2EBFA;\n",
              "      --hover-fill-color: #174EA6;\n",
              "      --disabled-fill-color: #AAA;\n",
              "      --disabled-bg-color: #DDD;\n",
              "  }\n",
              "\n",
              "  [theme=dark] .colab-df-quickchart {\n",
              "      --bg-color: #3B4455;\n",
              "      --fill-color: #D2E3FC;\n",
              "      --hover-bg-color: #434B5C;\n",
              "      --hover-fill-color: #FFFFFF;\n",
              "      --disabled-bg-color: #3B4455;\n",
              "      --disabled-fill-color: #666;\n",
              "  }\n",
              "\n",
              "  .colab-df-quickchart {\n",
              "    background-color: var(--bg-color);\n",
              "    border: none;\n",
              "    border-radius: 50%;\n",
              "    cursor: pointer;\n",
              "    display: none;\n",
              "    fill: var(--fill-color);\n",
              "    height: 32px;\n",
              "    padding: 0;\n",
              "    width: 32px;\n",
              "  }\n",
              "\n",
              "  .colab-df-quickchart:hover {\n",
              "    background-color: var(--hover-bg-color);\n",
              "    box-shadow: 0 1px 2px rgba(60, 64, 67, 0.3), 0 1px 3px 1px rgba(60, 64, 67, 0.15);\n",
              "    fill: var(--button-hover-fill-color);\n",
              "  }\n",
              "\n",
              "  .colab-df-quickchart-complete:disabled,\n",
              "  .colab-df-quickchart-complete:disabled:hover {\n",
              "    background-color: var(--disabled-bg-color);\n",
              "    fill: var(--disabled-fill-color);\n",
              "    box-shadow: none;\n",
              "  }\n",
              "\n",
              "  .colab-df-spinner {\n",
              "    border: 2px solid var(--fill-color);\n",
              "    border-color: transparent;\n",
              "    border-bottom-color: var(--fill-color);\n",
              "    animation:\n",
              "      spin 1s steps(1) infinite;\n",
              "  }\n",
              "\n",
              "  @keyframes spin {\n",
              "    0% {\n",
              "      border-color: transparent;\n",
              "      border-bottom-color: var(--fill-color);\n",
              "      border-left-color: var(--fill-color);\n",
              "    }\n",
              "    20% {\n",
              "      border-color: transparent;\n",
              "      border-left-color: var(--fill-color);\n",
              "      border-top-color: var(--fill-color);\n",
              "    }\n",
              "    30% {\n",
              "      border-color: transparent;\n",
              "      border-left-color: var(--fill-color);\n",
              "      border-top-color: var(--fill-color);\n",
              "      border-right-color: var(--fill-color);\n",
              "    }\n",
              "    40% {\n",
              "      border-color: transparent;\n",
              "      border-right-color: var(--fill-color);\n",
              "      border-top-color: var(--fill-color);\n",
              "    }\n",
              "    60% {\n",
              "      border-color: transparent;\n",
              "      border-right-color: var(--fill-color);\n",
              "    }\n",
              "    80% {\n",
              "      border-color: transparent;\n",
              "      border-right-color: var(--fill-color);\n",
              "      border-bottom-color: var(--fill-color);\n",
              "    }\n",
              "    90% {\n",
              "      border-color: transparent;\n",
              "      border-bottom-color: var(--fill-color);\n",
              "    }\n",
              "  }\n",
              "</style>\n",
              "\n",
              "  <script>\n",
              "    async function quickchart(key) {\n",
              "      const quickchartButtonEl =\n",
              "        document.querySelector('#' + key + ' button');\n",
              "      quickchartButtonEl.disabled = true;  // To prevent multiple clicks.\n",
              "      quickchartButtonEl.classList.add('colab-df-spinner');\n",
              "      try {\n",
              "        const charts = await google.colab.kernel.invokeFunction(\n",
              "            'suggestCharts', [key], {});\n",
              "      } catch (error) {\n",
              "        console.error('Error during call to suggestCharts:', error);\n",
              "      }\n",
              "      quickchartButtonEl.classList.remove('colab-df-spinner');\n",
              "      quickchartButtonEl.classList.add('colab-df-quickchart-complete');\n",
              "    }\n",
              "    (() => {\n",
              "      let quickchartButtonEl =\n",
              "        document.querySelector('#df-4a16f286-2c88-4dcd-9d46-72bc519eb966 button');\n",
              "      quickchartButtonEl.style.display =\n",
              "        google.colab.kernel.accessAllowed ? 'block' : 'none';\n",
              "    })();\n",
              "  </script>\n",
              "</div>\n",
              "    </div>\n",
              "  </div>\n"
            ],
            "text/plain": [
              "         word        x0        x1\n",
              "0       <unk> -0.977003 -1.389344\n",
              "1        know  0.714336  1.447385\n",
              "2        like -0.867101 -0.542019\n",
              "3        time -1.194328 -2.167107\n",
              "4        come -0.376801 -0.720566\n",
              "...       ...       ...       ...\n",
              "2888   settin  0.907473  0.076848\n",
              "2889     soda  0.843981  0.102353\n",
              "2890  tighten -1.307797 -1.214868\n",
              "2891   woohoo  0.351801  1.301385\n",
              "2892          -0.950418 -0.666203\n",
              "\n",
              "[2893 rows x 3 columns]"
            ]
          },
          "execution_count": 119,
          "metadata": {},
          "output_type": "execute_result"
        }
      ],
      "source": [
        "tokens = vocab.get_itos()\n",
        "tokens.append(\" \")\n",
        "embedding_df = pd.DataFrame({\n",
        "    'word' : tokens,\n",
        "    'x0'   : weights[:,0],\n",
        "    'x1'   : weights[:,1]\n",
        "})\n",
        "\n",
        "embedding_df"
      ]
    },
    {
      "cell_type": "code",
      "execution_count": null,
      "metadata": {
        "cellView": "form",
        "colab": {
          "base_uri": "https://localhost:8080/",
          "height": 449
        },
        "id": "PCjcrMqSDXpF",
        "outputId": "3d29098d-87ad-4738-a2a4-a29ba4da86b2"
      },
      "outputs": [
        {
          "data": {
            "image/png": "[encoded data removed]",
            "text/plain": [
              "<Figure size 640x480 with 1 Axes>"
            ]
          },
          "metadata": {},
          "output_type": "display_data"
        }
      ],
      "source": [
        "# @title x0 vs x1\n",
        "\n",
        "from matplotlib import pyplot as plt\n",
        "embedding_df.plot(kind='scatter', x='x0', y='x1', s=32, alpha=.8)\n",
        "plt.gca().spines[['top', 'right',]].set_visible(False)"
      ]
    },
    {
      "cell_type": "markdown",
      "metadata": {
        "id": "j-uA1gXTmNXq"
      },
      "source": [
        "Visualize the embeddings in a plot."
      ]
    },
    {
      "cell_type": "markdown",
      "metadata": {
        "id": "y2KyHhJ8mSNZ"
      },
      "source": [
        "It is hard to see a pattern in this plot"
      ]
    },
    {
      "cell_type": "markdown",
      "metadata": {
        "id": "lgpcHdg_mczR"
      },
      "source": [
        "Lets see gendered distinctions in the word embeddings. visualize with a slightly altered list of gendered words from [Man is to Computer Programmer as Woman is to Homemaker?\n",
        "Debiasing Word Embeddings](https://arxiv.org/pdf/1607.06520) combined with additional gendered words found in the vocabulary."
      ]
    },
    {
      "cell_type": "code",
      "execution_count": null,
      "metadata": {
        "colab": {
          "base_uri": "https://localhost:8080/"
        },
        "id": "si93DS3Imjc7",
        "outputId": "9496e5a0-6072-47c0-c51d-d95176b23089"
      },
      "outputs": [
        {
          "name": "stdout",
          "output_type": "stream",
          "text": [
            "39\n",
            "39\n"
          ]
        }
      ],
      "source": [
        "import numpy as np\n",
        "\n",
        "feminine = [\"she\", \"her\", \"woman\"]\n",
        "masculine = [\"he\", \"him\", \"man\"]\n",
        "\n",
        "\n",
        "highlight_1 = [\"heavy\", \"commit\", \"game\", \"tactical\", \"firepower\", \"reel\", \"hoped\", \"command\", \"caused\", \"scrimmage\",\"shoot\",\"grind\", \"grow\",\"lead\"\n",
        "               \"drafted\", \"builder\", \"hay\", \"yard\", \"brilliant\", \"hard\", \"mean\", \"kill\", \"fight\", \"genius\", \"cocky\", \"journeyman\", \"ties\",\n",
        "               \"guru\", \"sharply\", \"rule\", \"brass\", \"governor\", \"burly\", \"slow\", \"strong\", \"fast\",\"powerful\", \"muscles\", \"bleed\", \"push\"]\n",
        "highlight_2 = [\"tote\", \"treats\", \"browsing\", \"baby\", \"crafts\", \"love\", \"sweet\", \"kiss\", \"light\", \"trimester\", \"tanning\", \"model\",\n",
        "                \"beautiful\", \"cake\", \"victims\", \"sewing\", \"dress\", \"dance\", \"pageant\", \"divorce\", \"thighs\", \"bitch\", \"dancers\", \"crazy\",\n",
        "               \"devil\",\"heart\", \"hold\", \"lust\", \"sassy\", \"breasts\", \"body\",\"mouth\",\"skin\" \"cry\", \"lie\", \"darling\", \"dancer\", \"pearls\", \"vases\", \"actress\"]\n",
        "print(len(highlight_1))\n",
        "print(len(highlight_2))\n",
        "\n",
        "def gender_mapper(x):\n",
        "    if x in feminine:\n",
        "        return 1\n",
        "    elif x in masculine:\n",
        "        return 4\n",
        "    elif x in highlight_1:\n",
        "        return 3\n",
        "    elif x in highlight_2:\n",
        "        return 2\n",
        "    else:\n",
        "        return 0\n",
        "\n",
        "embedding_df[\"highlight\"] = embedding_df[\"word\"].apply(gender_mapper)\n",
        "embedding_df[\"size\"]      = np.array(1.0 + 50*(embedding_df[\"highlight\"] > 0))\n",
        "\n",
        "sub_df = embedding_df[embedding_df[\"highlight\"] > 0]\n"
      ]
    },
    {
      "cell_type": "code",
      "execution_count": null,
      "metadata": {
        "colab": {
          "base_uri": "https://localhost:8080/",
          "height": 542
        },
        "id": "BbvvUtlSmm2Y",
        "outputId": "63f6159d-bc9a-47c8-a8b5-e43e21b4fa87"
      },
      "outputs": [
        {
          "data": {
            "text/html": [
              "<html>\n",
              "<head><meta charset=\"utf-8\" /></head>\n",
              "<body>\n",
              "    <div>            <script src=\"https://cdnjs.cloudflare.com/ajax/libs/mathjax/2.7.5/MathJax.js?config=TeX-AMS-MML_SVG\"></script><script type=\"text/javascript\">if (window.MathJax && window.MathJax.Hub && window.MathJax.Hub.Config) {window.MathJax.Hub.Config({SVG: {font: \"STIX-Web\"}});}</script>                <script type=\"text/javascript\">window.PlotlyConfig = {MathJaxConfig: 'local'};</script>\n",
              "        <script charset=\"utf-8\" src=\"https://cdn.plot.ly/plotly-2.24.1.min.js\"></script>                <div id=\"49110403-ac85-4534-9e9f-05beba4ffe4d\" class=\"plotly-graph-div\" style=\"height:525px; width:100%;\"></div>            <script type=\"text/javascript\">                                    window.PLOTLYENV=window.PLOTLYENV || {};                                    if (document.getElementById(\"49110403-ac85-4534-9e9f-05beba4ffe4d\")) {                    Plotly.newPlot(                        \"49110403-ac85-4534-9e9f-05beba4ffe4d\",                        [{\"hovertemplate\":\"\\u003cb\\u003e%{hovertext}\\u003c\\u002fb\\u003e\\u003cbr\\u003e\\u003cbr\\u003ex0=%{x}\\u003cbr\\u003ex1=%{y}\\u003cbr\\u003esize=%{marker.size}\\u003cbr\\u003eword=%{text}\\u003cbr\\u003ehighlight=%{marker.color}\\u003cextra\\u003e\\u003c\\u002fextra\\u003e\",\"hovertext\":[\"heart\",\"baby\",\"hold\",\"love\",\"light\",\"sweet\",\"hard\",\"kiss\",\"bitch\",\"fight\",\"mean\",\"kill\",\"woman\",\"game\",\"grow\",\"lie\",\"shoot\",\"dance\",\"grind\",\"strong\",\"body\",\"darling\",\"crazy\",\"devil\",\"mouth\",\"fast\",\"slow\",\"push\",\"bleed\",\"rule\",\"beautiful\",\"heavy\",\"dress\",\"cake\",\"command\",\"dancer\",\"reel\",\"model\",\"commit\",\"victims\",\"man\"],\"legendgroup\":\"\",\"marker\":{\"color\":[2,2,2,2,2,2,3,2,2,3,3,3,1,3,3,2,3,2,3,3,2,2,2,2,2,3,3,3,3,3,2,3,2,2,3,2,3,2,3,2,4],\"coloraxis\":\"coloraxis\",\"size\":[51.0,51.0,51.0,51.0,51.0,51.0,51.0,51.0,51.0,51.0,51.0,51.0,51.0,51.0,51.0,51.0,51.0,51.0,51.0,51.0,51.0,51.0,51.0,51.0,51.0,51.0,51.0,51.0,51.0,51.0,51.0,51.0,51.0,51.0,51.0,51.0,51.0,51.0,51.0,51.0,51.0],\"sizemode\":\"area\",\"sizeref\":0.51,\"symbol\":\"circle\"},\"mode\":\"markers+text\",\"name\":\"\",\"orientation\":\"v\",\"showlegend\":false,\"text\":[\"heart\",\"baby\",\"hold\",\"love\",\"light\",\"sweet\",\"hard\",\"kiss\",\"bitch\",\"fight\",\"mean\",\"kill\",\"woman\",\"game\",\"grow\",\"lie\",\"shoot\",\"dance\",\"grind\",\"strong\",\"body\",\"darling\",\"crazy\",\"devil\",\"mouth\",\"fast\",\"slow\",\"push\",\"bleed\",\"rule\",\"beautiful\",\"heavy\",\"dress\",\"cake\",\"command\",\"dancer\",\"reel\",\"model\",\"commit\",\"victims\",\"man\"],\"x\":[-1.1356672048568726,0.08456562459468842,-0.23710758984088898,0.9787029027938843,0.07366541773080826,1.4927488565444946,0.11842240393161774,-0.2330133318901062,-1.3081742525100708,0.44096091389656067,-0.047426506876945496,0.18886752426624298,1.4590826034545898,1.928492784500122,0.19009710848331451,-0.7700555324554443,0.5382386445999146,-0.13294655084609985,0.33763405680656433,-0.40939173102378845,-0.6848534345626831,0.8106750845909119,0.3267885744571686,0.4024534225463867,0.139188751578331,-1.1360206604003906,1.4111372232437134,-0.5172159671783447,-0.9910175204277039,1.6999839544296265,-0.5442883372306824,-0.102225162088871,0.0485500693321228,0.09872956573963165,-0.8980363607406616,-1.3084359169006348,-0.44208306074142456,1.3634260892868042,0.34582850337028503,1.5872328281402588,0.6665137410163879],\"xaxis\":\"x\",\"y\":[1.3467758893966675,-0.04314060136675835,0.8115114569664001,3.596170663833618,1.2160502672195435,1.3660991191864014,-0.018359381705522537,-0.5710617899894714,-0.5983620882034302,1.4870165586471558,1.6858185529708862,-1.4065215587615967,-1.610213041305542,1.3588464260101318,0.16106322407722473,-0.30664414167404175,-1.3722797632217407,0.5215469002723694,-0.17051734030246735,-2.067227602005005,0.32902729511260986,3.243159770965576,0.9318139553070068,-0.07015549391508102,-0.5537500977516174,-0.4612163007259369,-0.8608130216598511,0.48922300338745117,0.2681743800640106,0.4091123342514038,0.706488847732544,1.9402772188186646,0.3931235671043396,-1.163627028465271,0.3823794722557068,1.3569037914276123,0.6060063242912292,-1.3217027187347412,-0.5526857376098633,-1.0233491659164429,-0.5710012316703796],\"yaxis\":\"y\",\"type\":\"scatter\",\"textposition\":\"top center\"}],                        {\"template\":{\"data\":{\"histogram2dcontour\":[{\"type\":\"histogram2dcontour\",\"colorbar\":{\"outlinewidth\":0,\"ticks\":\"\"},\"colorscale\":[[0.0,\"#0d0887\"],[0.1111111111111111,\"#46039f\"],[0.2222222222222222,\"#7201a8\"],[0.3333333333333333,\"#9c179e\"],[0.4444444444444444,\"#bd3786\"],[0.5555555555555556,\"#d8576b\"],[0.6666666666666666,\"#ed7953\"],[0.7777777777777778,\"#fb9f3a\"],[0.8888888888888888,\"#fdca26\"],[1.0,\"#f0f921\"]]}],\"choropleth\":[{\"type\":\"choropleth\",\"colorbar\":{\"outlinewidth\":0,\"ticks\":\"\"}}],\"histogram2d\":[{\"type\":\"histogram2d\",\"colorbar\":{\"outlinewidth\":0,\"ticks\":\"\"},\"colorscale\":[[0.0,\"#0d0887\"],[0.1111111111111111,\"#46039f\"],[0.2222222222222222,\"#7201a8\"],[0.3333333333333333,\"#9c179e\"],[0.4444444444444444,\"#bd3786\"],[0.5555555555555556,\"#d8576b\"],[0.6666666666666666,\"#ed7953\"],[0.7777777777777778,\"#fb9f3a\"],[0.8888888888888888,\"#fdca26\"],[1.0,\"#f0f921\"]]}],\"heatmap\":[{\"type\":\"heatmap\",\"colorbar\":{\"outlinewidth\":0,\"ticks\":\"\"},\"colorscale\":[[0.0,\"#0d0887\"],[0.1111111111111111,\"#46039f\"],[0.2222222222222222,\"#7201a8\"],[0.3333333333333333,\"#9c179e\"],[0.4444444444444444,\"#bd3786\"],[0.5555555555555556,\"#d8576b\"],[0.6666666666666666,\"#ed7953\"],[0.7777777777777778,\"#fb9f3a\"],[0.8888888888888888,\"#fdca26\"],[1.0,\"#f0f921\"]]}],\"heatmapgl\":[{\"type\":\"heatmapgl\",\"colorbar\":{\"outlinewidth\":0,\"ticks\":\"\"},\"colorscale\":[[0.0,\"#0d0887\"],[0.1111111111111111,\"#46039f\"],[0.2222222222222222,\"#7201a8\"],[0.3333333333333333,\"#9c179e\"],[0.4444444444444444,\"#bd3786\"],[0.5555555555555556,\"#d8576b\"],[0.6666666666666666,\"#ed7953\"],[0.7777777777777778,\"#fb9f3a\"],[0.8888888888888888,\"#fdca26\"],[1.0,\"#f0f921\"]]}],\"contourcarpet\":[{\"type\":\"contourcarpet\",\"colorbar\":{\"outlinewidth\":0,\"ticks\":\"\"}}],\"contour\":[{\"type\":\"contour\",\"colorbar\":{\"outlinewidth\":0,\"ticks\":\"\"},\"colorscale\":[[0.0,\"#0d0887\"],[0.1111111111111111,\"#46039f\"],[0.2222222222222222,\"#7201a8\"],[0.3333333333333333,\"#9c179e\"],[0.4444444444444444,\"#bd3786\"],[0.5555555555555556,\"#d8576b\"],[0.6666666666666666,\"#ed7953\"],[0.7777777777777778,\"#fb9f3a\"],[0.8888888888888888,\"#fdca26\"],[1.0,\"#f0f921\"]]}],\"surface\":[{\"type\":\"surface\",\"colorbar\":{\"outlinewidth\":0,\"ticks\":\"\"},\"colorscale\":[[0.0,\"#0d0887\"],[0.1111111111111111,\"#46039f\"],[0.2222222222222222,\"#7201a8\"],[0.3333333333333333,\"#9c179e\"],[0.4444444444444444,\"#bd3786\"],[0.5555555555555556,\"#d8576b\"],[0.6666666666666666,\"#ed7953\"],[0.7777777777777778,\"#fb9f3a\"],[0.8888888888888888,\"#fdca26\"],[1.0,\"#f0f921\"]]}],\"mesh3d\":[{\"type\":\"mesh3d\",\"colorbar\":{\"outlinewidth\":0,\"ticks\":\"\"}}],\"scatter\":[{\"fillpattern\":{\"fillmode\":\"overlay\",\"size\":10,\"solidity\":0.2},\"type\":\"scatter\"}],\"parcoords\":[{\"type\":\"parcoords\",\"line\":{\"colorbar\":{\"outlinewidth\":0,\"ticks\":\"\"}}}],\"scatterpolargl\":[{\"type\":\"scatterpolargl\",\"marker\":{\"colorbar\":{\"outlinewidth\":0,\"ticks\":\"\"}}}],\"bar\":[{\"error_x\":{\"color\":\"#2a3f5f\"},\"error_y\":{\"color\":\"#2a3f5f\"},\"marker\":{\"line\":{\"color\":\"#E5ECF6\",\"width\":0.5},\"pattern\":{\"fillmode\":\"overlay\",\"size\":10,\"solidity\":0.2}},\"type\":\"bar\"}],\"scattergeo\":[{\"type\":\"scattergeo\",\"marker\":{\"colorbar\":{\"outlinewidth\":0,\"ticks\":\"\"}}}],\"scatterpolar\":[{\"type\":\"scatterpolar\",\"marker\":{\"colorbar\":{\"outlinewidth\":0,\"ticks\":\"\"}}}],\"histogram\":[{\"marker\":{\"pattern\":{\"fillmode\":\"overlay\",\"size\":10,\"solidity\":0.2}},\"type\":\"histogram\"}],\"scattergl\":[{\"type\":\"scattergl\",\"marker\":{\"colorbar\":{\"outlinewidth\":0,\"ticks\":\"\"}}}],\"scatter3d\":[{\"type\":\"scatter3d\",\"line\":{\"colorbar\":{\"outlinewidth\":0,\"ticks\":\"\"}},\"marker\":{\"colorbar\":{\"outlinewidth\":0,\"ticks\":\"\"}}}],\"scattermapbox\":[{\"type\":\"scattermapbox\",\"marker\":{\"colorbar\":{\"outlinewidth\":0,\"ticks\":\"\"}}}],\"scatterternary\":[{\"type\":\"scatterternary\",\"marker\":{\"colorbar\":{\"outlinewidth\":0,\"ticks\":\"\"}}}],\"scattercarpet\":[{\"type\":\"scattercarpet\",\"marker\":{\"colorbar\":{\"outlinewidth\":0,\"ticks\":\"\"}}}],\"carpet\":[{\"aaxis\":{\"endlinecolor\":\"#2a3f5f\",\"gridcolor\":\"white\",\"linecolor\":\"white\",\"minorgridcolor\":\"white\",\"startlinecolor\":\"#2a3f5f\"},\"baxis\":{\"endlinecolor\":\"#2a3f5f\",\"gridcolor\":\"white\",\"linecolor\":\"white\",\"minorgridcolor\":\"white\",\"startlinecolor\":\"#2a3f5f\"},\"type\":\"carpet\"}],\"table\":[{\"cells\":{\"fill\":{\"color\":\"#EBF0F8\"},\"line\":{\"color\":\"white\"}},\"header\":{\"fill\":{\"color\":\"#C8D4E3\"},\"line\":{\"color\":\"white\"}},\"type\":\"table\"}],\"barpolar\":[{\"marker\":{\"line\":{\"color\":\"#E5ECF6\",\"width\":0.5},\"pattern\":{\"fillmode\":\"overlay\",\"size\":10,\"solidity\":0.2}},\"type\":\"barpolar\"}],\"pie\":[{\"automargin\":true,\"type\":\"pie\"}]},\"layout\":{\"autotypenumbers\":\"strict\",\"colorway\":[\"#636efa\",\"#EF553B\",\"#00cc96\",\"#ab63fa\",\"#FFA15A\",\"#19d3f3\",\"#FF6692\",\"#B6E880\",\"#FF97FF\",\"#FECB52\"],\"font\":{\"color\":\"#2a3f5f\"},\"hovermode\":\"closest\",\"hoverlabel\":{\"align\":\"left\"},\"paper_bgcolor\":\"white\",\"plot_bgcolor\":\"#E5ECF6\",\"polar\":{\"bgcolor\":\"#E5ECF6\",\"angularaxis\":{\"gridcolor\":\"white\",\"linecolor\":\"white\",\"ticks\":\"\"},\"radialaxis\":{\"gridcolor\":\"white\",\"linecolor\":\"white\",\"ticks\":\"\"}},\"ternary\":{\"bgcolor\":\"#E5ECF6\",\"aaxis\":{\"gridcolor\":\"white\",\"linecolor\":\"white\",\"ticks\":\"\"},\"baxis\":{\"gridcolor\":\"white\",\"linecolor\":\"white\",\"ticks\":\"\"},\"caxis\":{\"gridcolor\":\"white\",\"linecolor\":\"white\",\"ticks\":\"\"}},\"coloraxis\":{\"colorbar\":{\"outlinewidth\":0,\"ticks\":\"\"}},\"colorscale\":{\"sequential\":[[0.0,\"#0d0887\"],[0.1111111111111111,\"#46039f\"],[0.2222222222222222,\"#7201a8\"],[0.3333333333333333,\"#9c179e\"],[0.4444444444444444,\"#bd3786\"],[0.5555555555555556,\"#d8576b\"],[0.6666666666666666,\"#ed7953\"],[0.7777777777777778,\"#fb9f3a\"],[0.8888888888888888,\"#fdca26\"],[1.0,\"#f0f921\"]],\"sequentialminus\":[[0.0,\"#0d0887\"],[0.1111111111111111,\"#46039f\"],[0.2222222222222222,\"#7201a8\"],[0.3333333333333333,\"#9c179e\"],[0.4444444444444444,\"#bd3786\"],[0.5555555555555556,\"#d8576b\"],[0.6666666666666666,\"#ed7953\"],[0.7777777777777778,\"#fb9f3a\"],[0.8888888888888888,\"#fdca26\"],[1.0,\"#f0f921\"]],\"diverging\":[[0,\"#8e0152\"],[0.1,\"#c51b7d\"],[0.2,\"#de77ae\"],[0.3,\"#f1b6da\"],[0.4,\"#fde0ef\"],[0.5,\"#f7f7f7\"],[0.6,\"#e6f5d0\"],[0.7,\"#b8e186\"],[0.8,\"#7fbc41\"],[0.9,\"#4d9221\"],[1,\"#276419\"]]},\"xaxis\":{\"gridcolor\":\"white\",\"linecolor\":\"white\",\"ticks\":\"\",\"title\":{\"standoff\":15},\"zerolinecolor\":\"white\",\"automargin\":true,\"zerolinewidth\":2},\"yaxis\":{\"gridcolor\":\"white\",\"linecolor\":\"white\",\"ticks\":\"\",\"title\":{\"standoff\":15},\"zerolinecolor\":\"white\",\"automargin\":true,\"zerolinewidth\":2},\"scene\":{\"xaxis\":{\"backgroundcolor\":\"#E5ECF6\",\"gridcolor\":\"white\",\"linecolor\":\"white\",\"showbackground\":true,\"ticks\":\"\",\"zerolinecolor\":\"white\",\"gridwidth\":2},\"yaxis\":{\"backgroundcolor\":\"#E5ECF6\",\"gridcolor\":\"white\",\"linecolor\":\"white\",\"showbackground\":true,\"ticks\":\"\",\"zerolinecolor\":\"white\",\"gridwidth\":2},\"zaxis\":{\"backgroundcolor\":\"#E5ECF6\",\"gridcolor\":\"white\",\"linecolor\":\"white\",\"showbackground\":true,\"ticks\":\"\",\"zerolinecolor\":\"white\",\"gridwidth\":2}},\"shapedefaults\":{\"line\":{\"color\":\"#2a3f5f\"}},\"annotationdefaults\":{\"arrowcolor\":\"#2a3f5f\",\"arrowhead\":0,\"arrowwidth\":1},\"geo\":{\"bgcolor\":\"white\",\"landcolor\":\"#E5ECF6\",\"subunitcolor\":\"white\",\"showland\":true,\"showlakes\":true,\"lakecolor\":\"white\"},\"title\":{\"x\":0.05},\"mapbox\":{\"style\":\"light\"}}},\"xaxis\":{\"anchor\":\"y\",\"domain\":[0.0,1.0],\"title\":{\"text\":\"x0\"}},\"yaxis\":{\"anchor\":\"x\",\"domain\":[0.0,1.0],\"title\":{\"text\":\"x1\"}},\"coloraxis\":{\"colorbar\":{\"title\":{\"text\":\"highlight\"}},\"colorscale\":[[0.0,\"#0d0887\"],[0.1111111111111111,\"#46039f\"],[0.2222222222222222,\"#7201a8\"],[0.3333333333333333,\"#9c179e\"],[0.4444444444444444,\"#bd3786\"],[0.5555555555555556,\"#d8576b\"],[0.6666666666666666,\"#ed7953\"],[0.7777777777777778,\"#fb9f3a\"],[0.8888888888888888,\"#fdca26\"],[1.0,\"#f0f921\"]]},\"legend\":{\"tracegroupgap\":0,\"itemsizing\":\"constant\"},\"margin\":{\"t\":60}},                        {\"responsive\": true}                    ).then(function(){\n",
              "                            \n",
              "var gd = document.getElementById('49110403-ac85-4534-9e9f-05beba4ffe4d');\n",
              "var x = new MutationObserver(function (mutations, observer) {{\n",
              "        var display = window.getComputedStyle(gd).display;\n",
              "        if (!display || display === 'none') {{\n",
              "            console.log([gd, 'removed!']);\n",
              "            Plotly.purge(gd);\n",
              "            observer.disconnect();\n",
              "        }}\n",
              "}});\n",
              "\n",
              "// Listen for the removal of the full notebook cells\n",
              "var notebookContainer = gd.closest('#notebook-container');\n",
              "if (notebookContainer) {{\n",
              "    x.observe(notebookContainer, {childList: true});\n",
              "}}\n",
              "\n",
              "// Listen for the clearing of the current output cell\n",
              "var outputEl = gd.closest('.output');\n",
              "if (outputEl) {{\n",
              "    x.observe(outputEl, {childList: true});\n",
              "}}\n",
              "\n",
              "                        })                };                            </script>        </div>\n",
              "</body>\n",
              "</html>"
            ]
          },
          "metadata": {},
          "output_type": "display_data"
        }
      ],
      "source": [
        "import plotly.express as px\n",
        "\n",
        "fig = px.scatter(sub_df,\n",
        "                 x = \"x0\",\n",
        "                 y = \"x1\",\n",
        "                 color = \"highlight\",\n",
        "                 size = list(sub_df[\"size\"]),\n",
        "                 size_max = 10,\n",
        "                 hover_name = \"word\",\n",
        "                 text = \"word\")\n",
        "\n",
        "fig.update_traces(textposition='top center')\n",
        "\n",
        "fig.show()"
      ]
    },
    {
      "cell_type": "markdown",
      "metadata": {
        "id": "QS9adJS4oXZq"
      },
      "source": [
        "Here we can see visualized that man is closer to words like commit, grind, fight, and devil whereas woman is closer to model, victims, slow, and sweet. Therefore we can conclude that the learned word embeddings encode gender bias from the data they are trained on."
      ]
    },
    {
      "cell_type": "markdown",
      "metadata": {
        "id": "Dc01gU_-72Eh"
      },
      "source": [
        "## Conclusion\n",
        "\n",
        "All three neural networks are able to learn and create a classification rate that is higher than the base rate of 24.8%. The first neural network that uses only lyrics has a classification accuracy on the validation data of 35%. The second neural network that uses only engineering features has a classification accuracy on the validation data of 32%. And finally, the third neural network that uses both lyrics and engineering features has a classification accuracy on the validation data of 30%. It is possible that these differences come from the layers chosen in the models or the learning rates. But overall, we can conclude based on my results that it is more useful to use just the lyrics as opposed to using the engineering features to classify songs into genres.\n",
        "\n",
        "Overall, I learned from this blog post how train neural networks, how to tokenize text and use that as part of a model, and how to evaluate word embeddings learned from training. From my results I found that word embeddings can sometimes contain gender bias that reflects the data that they are trained on. Therefore, it is important to investigate what decisions are being made based on these word embeddings. I was able to understand more about natural language processing as a field and understand how to build layers for neural networks and choose learning rates that increase accuracy. This blog post tied to together a lot of my understanding in the class: the implementation of neural networks, the application of machine learning, and the analyzation of fairness within these systems."
      ]
    }
  ],
  "metadata": {
    "colab": {
      "provenance": []
    },
    "kernelspec": {
      "display_name": "Python 3",
      "name": "python3"
    },
    "language_info": {
      "name": "python"
    }
  },
  "nbformat": 4,
  "nbformat_minor": 0
}
