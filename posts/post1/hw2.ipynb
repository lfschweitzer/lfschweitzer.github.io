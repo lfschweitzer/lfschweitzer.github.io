{
 "cells": [
  {
   "cell_type": "markdown",
   "metadata": {},
   "source": [
    "# Explore the Data"
   ]
  },
  {
   "cell_type": "markdown",
   "metadata": {},
   "source": [
    "First I downloaded the training data"
   ]
  },
  {
   "cell_type": "code",
   "execution_count": 144,
   "metadata": {},
   "outputs": [],
   "source": [
    "import pandas as pd\n",
    "url = \"https://raw.githubusercontent.com/PhilChodrow/ml-notes/main/data/credit-risk/train.csv\"\n",
    "df_train = pd.read_csv(url)"
   ]
  },
  {
   "cell_type": "code",
   "execution_count": 45,
   "metadata": {},
   "outputs": [
    {
     "data": {
      "text/html": [
       "<div>\n",
       "<style scoped>\n",
       "    .dataframe tbody tr th:only-of-type {\n",
       "        vertical-align: middle;\n",
       "    }\n",
       "\n",
       "    .dataframe tbody tr th {\n",
       "        vertical-align: top;\n",
       "    }\n",
       "\n",
       "    .dataframe thead th {\n",
       "        text-align: right;\n",
       "    }\n",
       "</style>\n",
       "<table border=\"1\" class=\"dataframe\">\n",
       "  <thead>\n",
       "    <tr style=\"text-align: right;\">\n",
       "      <th></th>\n",
       "      <th>person_age</th>\n",
       "      <th>person_income</th>\n",
       "      <th>person_home_ownership</th>\n",
       "      <th>person_emp_length</th>\n",
       "      <th>loan_intent</th>\n",
       "      <th>loan_grade</th>\n",
       "      <th>loan_amnt</th>\n",
       "      <th>loan_int_rate</th>\n",
       "      <th>loan_status</th>\n",
       "      <th>loan_percent_income</th>\n",
       "      <th>cb_person_default_on_file</th>\n",
       "      <th>cb_person_cred_hist_length</th>\n",
       "    </tr>\n",
       "  </thead>\n",
       "  <tbody>\n",
       "    <tr>\n",
       "      <th>0</th>\n",
       "      <td>25</td>\n",
       "      <td>43200</td>\n",
       "      <td>RENT</td>\n",
       "      <td>NaN</td>\n",
       "      <td>VENTURE</td>\n",
       "      <td>B</td>\n",
       "      <td>1200</td>\n",
       "      <td>9.91</td>\n",
       "      <td>0</td>\n",
       "      <td>0.03</td>\n",
       "      <td>N</td>\n",
       "      <td>4</td>\n",
       "    </tr>\n",
       "    <tr>\n",
       "      <th>1</th>\n",
       "      <td>27</td>\n",
       "      <td>98000</td>\n",
       "      <td>RENT</td>\n",
       "      <td>3.0</td>\n",
       "      <td>EDUCATION</td>\n",
       "      <td>C</td>\n",
       "      <td>11750</td>\n",
       "      <td>13.47</td>\n",
       "      <td>0</td>\n",
       "      <td>0.12</td>\n",
       "      <td>Y</td>\n",
       "      <td>6</td>\n",
       "    </tr>\n",
       "    <tr>\n",
       "      <th>2</th>\n",
       "      <td>22</td>\n",
       "      <td>36996</td>\n",
       "      <td>RENT</td>\n",
       "      <td>5.0</td>\n",
       "      <td>EDUCATION</td>\n",
       "      <td>A</td>\n",
       "      <td>10000</td>\n",
       "      <td>7.51</td>\n",
       "      <td>0</td>\n",
       "      <td>0.27</td>\n",
       "      <td>N</td>\n",
       "      <td>4</td>\n",
       "    </tr>\n",
       "    <tr>\n",
       "      <th>3</th>\n",
       "      <td>24</td>\n",
       "      <td>26000</td>\n",
       "      <td>RENT</td>\n",
       "      <td>2.0</td>\n",
       "      <td>MEDICAL</td>\n",
       "      <td>C</td>\n",
       "      <td>1325</td>\n",
       "      <td>12.87</td>\n",
       "      <td>1</td>\n",
       "      <td>0.05</td>\n",
       "      <td>N</td>\n",
       "      <td>4</td>\n",
       "    </tr>\n",
       "    <tr>\n",
       "      <th>4</th>\n",
       "      <td>29</td>\n",
       "      <td>53004</td>\n",
       "      <td>MORTGAGE</td>\n",
       "      <td>2.0</td>\n",
       "      <td>HOMEIMPROVEMENT</td>\n",
       "      <td>A</td>\n",
       "      <td>15000</td>\n",
       "      <td>9.63</td>\n",
       "      <td>0</td>\n",
       "      <td>0.28</td>\n",
       "      <td>N</td>\n",
       "      <td>10</td>\n",
       "    </tr>\n",
       "    <tr>\n",
       "      <th>...</th>\n",
       "      <td>...</td>\n",
       "      <td>...</td>\n",
       "      <td>...</td>\n",
       "      <td>...</td>\n",
       "      <td>...</td>\n",
       "      <td>...</td>\n",
       "      <td>...</td>\n",
       "      <td>...</td>\n",
       "      <td>...</td>\n",
       "      <td>...</td>\n",
       "      <td>...</td>\n",
       "      <td>...</td>\n",
       "    </tr>\n",
       "    <tr>\n",
       "      <th>26059</th>\n",
       "      <td>36</td>\n",
       "      <td>150000</td>\n",
       "      <td>MORTGAGE</td>\n",
       "      <td>8.0</td>\n",
       "      <td>EDUCATION</td>\n",
       "      <td>A</td>\n",
       "      <td>3000</td>\n",
       "      <td>7.29</td>\n",
       "      <td>0</td>\n",
       "      <td>0.02</td>\n",
       "      <td>N</td>\n",
       "      <td>17</td>\n",
       "    </tr>\n",
       "    <tr>\n",
       "      <th>26060</th>\n",
       "      <td>23</td>\n",
       "      <td>48000</td>\n",
       "      <td>RENT</td>\n",
       "      <td>1.0</td>\n",
       "      <td>VENTURE</td>\n",
       "      <td>A</td>\n",
       "      <td>4325</td>\n",
       "      <td>5.42</td>\n",
       "      <td>0</td>\n",
       "      <td>0.09</td>\n",
       "      <td>N</td>\n",
       "      <td>4</td>\n",
       "    </tr>\n",
       "    <tr>\n",
       "      <th>26061</th>\n",
       "      <td>22</td>\n",
       "      <td>60000</td>\n",
       "      <td>RENT</td>\n",
       "      <td>0.0</td>\n",
       "      <td>MEDICAL</td>\n",
       "      <td>B</td>\n",
       "      <td>15000</td>\n",
       "      <td>11.71</td>\n",
       "      <td>0</td>\n",
       "      <td>0.25</td>\n",
       "      <td>N</td>\n",
       "      <td>4</td>\n",
       "    </tr>\n",
       "    <tr>\n",
       "      <th>26062</th>\n",
       "      <td>30</td>\n",
       "      <td>144000</td>\n",
       "      <td>MORTGAGE</td>\n",
       "      <td>12.0</td>\n",
       "      <td>PERSONAL</td>\n",
       "      <td>C</td>\n",
       "      <td>35000</td>\n",
       "      <td>12.68</td>\n",
       "      <td>0</td>\n",
       "      <td>0.24</td>\n",
       "      <td>N</td>\n",
       "      <td>8</td>\n",
       "    </tr>\n",
       "    <tr>\n",
       "      <th>26063</th>\n",
       "      <td>25</td>\n",
       "      <td>60000</td>\n",
       "      <td>RENT</td>\n",
       "      <td>5.0</td>\n",
       "      <td>EDUCATION</td>\n",
       "      <td>A</td>\n",
       "      <td>21450</td>\n",
       "      <td>7.29</td>\n",
       "      <td>1</td>\n",
       "      <td>0.36</td>\n",
       "      <td>N</td>\n",
       "      <td>4</td>\n",
       "    </tr>\n",
       "  </tbody>\n",
       "</table>\n",
       "<p>26064 rows × 12 columns</p>\n",
       "</div>"
      ],
      "text/plain": [
       "       person_age  person_income person_home_ownership  person_emp_length  \\\n",
       "0              25          43200                  RENT                NaN   \n",
       "1              27          98000                  RENT                3.0   \n",
       "2              22          36996                  RENT                5.0   \n",
       "3              24          26000                  RENT                2.0   \n",
       "4              29          53004              MORTGAGE                2.0   \n",
       "...           ...            ...                   ...                ...   \n",
       "26059          36         150000              MORTGAGE                8.0   \n",
       "26060          23          48000                  RENT                1.0   \n",
       "26061          22          60000                  RENT                0.0   \n",
       "26062          30         144000              MORTGAGE               12.0   \n",
       "26063          25          60000                  RENT                5.0   \n",
       "\n",
       "           loan_intent loan_grade  loan_amnt  loan_int_rate  loan_status  \\\n",
       "0              VENTURE          B       1200           9.91            0   \n",
       "1            EDUCATION          C      11750          13.47            0   \n",
       "2            EDUCATION          A      10000           7.51            0   \n",
       "3              MEDICAL          C       1325          12.87            1   \n",
       "4      HOMEIMPROVEMENT          A      15000           9.63            0   \n",
       "...                ...        ...        ...            ...          ...   \n",
       "26059        EDUCATION          A       3000           7.29            0   \n",
       "26060          VENTURE          A       4325           5.42            0   \n",
       "26061          MEDICAL          B      15000          11.71            0   \n",
       "26062         PERSONAL          C      35000          12.68            0   \n",
       "26063        EDUCATION          A      21450           7.29            1   \n",
       "\n",
       "       loan_percent_income cb_person_default_on_file  \\\n",
       "0                     0.03                         N   \n",
       "1                     0.12                         Y   \n",
       "2                     0.27                         N   \n",
       "3                     0.05                         N   \n",
       "4                     0.28                         N   \n",
       "...                    ...                       ...   \n",
       "26059                 0.02                         N   \n",
       "26060                 0.09                         N   \n",
       "26061                 0.25                         N   \n",
       "26062                 0.24                         N   \n",
       "26063                 0.36                         N   \n",
       "\n",
       "       cb_person_cred_hist_length  \n",
       "0                               4  \n",
       "1                               6  \n",
       "2                               4  \n",
       "3                               4  \n",
       "4                              10  \n",
       "...                           ...  \n",
       "26059                          17  \n",
       "26060                           4  \n",
       "26061                           4  \n",
       "26062                           8  \n",
       "26063                           4  \n",
       "\n",
       "[26064 rows x 12 columns]"
      ]
     },
     "execution_count": 45,
     "metadata": {},
     "output_type": "execute_result"
    }
   ],
   "source": [
    "df_train"
   ]
  },
  {
   "cell_type": "code",
   "execution_count": 17,
   "metadata": {},
   "outputs": [
    {
     "name": "stdout",
     "output_type": "stream",
     "text": [
      "             person_age  person_emp_length\n",
      "loan_status                               \n",
      "0             27.816506           4.954096\n",
      "1             27.439076           4.159375\n"
     ]
    }
   ],
   "source": [
    "table = df_train.groupby(['loan_status']).aggregate({'person_age': 'mean', 'person_emp_length': 'mean'})\n",
    "print(table)"
   ]
  },
  {
   "cell_type": "markdown",
   "metadata": {},
   "source": [
    "We see here mean age and employment rate for each loan status. This table shows us that there is not significant variation on loan status based on age or employment length. This is an important finding as it indicates that these two features are probably not the most useful indicators of loan status."
   ]
  },
  {
   "cell_type": "code",
   "execution_count": 58,
   "metadata": {},
   "outputs": [
    {
     "data": {
      "text/plain": [
       "<seaborn.axisgrid.FacetGrid at 0x155c1a730>"
      ]
     },
     "execution_count": 58,
     "metadata": {},
     "output_type": "execute_result"
    },
    {
     "data": {
      "image/png": "[encoded data removed]",
      "text/plain": [
       "<Figure size 666.986x500 with 1 Axes>"
      ]
     },
     "metadata": {},
     "output_type": "display_data"
    }
   ],
   "source": [
    "import seaborn as sns\n",
    "\n",
    "sns.catplot(data=df_train, x=\"loan_status\", y=\"loan_amnt\", hue=\"person_home_ownership\", kind=\"box\")"
   ]
  },
  {
   "cell_type": "markdown",
   "metadata": {},
   "source": [
    "Here we see loan status graphed against loan amount, with a color/bar separation based on home ownership type: rent, mortgage, own, or other. This graph shows us a couple of things. Firstly, that defaulted loans are on average of a higher loan amount. This is clearest when you compare each home ownership category loan status rate/ loan amount. It also shows a general trend of the other category and mortgage having teh highest loan amounts while rent and own and slightly lower."
   ]
  },
  {
   "cell_type": "code",
   "execution_count": 19,
   "metadata": {},
   "outputs": [
    {
     "data": {
      "text/plain": [
       "<seaborn.axisgrid.FacetGrid at 0x17686d0a0>"
      ]
     },
     "execution_count": 19,
     "metadata": {},
     "output_type": "execute_result"
    },
    {
     "data": {
      "image/png": "[encoded data removed]",
      "text/plain": [
       "<Figure size 700.75x500 with 1 Axes>"
      ]
     },
     "metadata": {},
     "output_type": "display_data"
    }
   ],
   "source": [
    "sns.catplot(data=df_train, x=\"loan_status\", y=\"loan_percent_income\", hue=\"loan_intent\", kind=\"bar\")"
   ]
  },
  {
   "cell_type": "markdown",
   "metadata": {},
   "source": [
    "This figure shows loan status graphed against loan percent income. The color of each bar indicates the loan intent: venture, education, medical, home improvement, personal, or debt consolidation. This graph shows a stark disparity in loan percent income for loan status, with defaulted loans having overall significantly higher loan percentage incomes. The difference in loan percent income on loan intent categories is almost negligible for repaid loans and becomes more significant in defaulted loans (in the order venture, medical, personal, medical and debt consolidation, then home improvement)."
   ]
  },
  {
   "cell_type": "markdown",
   "metadata": {},
   "source": [
    "# Train Logistic Regression "
   ]
  },
  {
   "cell_type": "markdown",
   "metadata": {},
   "source": [
    "First, I prepared the data by dropping loan grate and status on the training set and dropping na columns and fitting qualitative columns."
   ]
  },
  {
   "cell_type": "code",
   "execution_count": 145,
   "metadata": {},
   "outputs": [],
   "source": [
    "from sklearn.preprocessing import LabelEncoder\n",
    "le = LabelEncoder()\n",
    "le.fit(df_train[\"loan_status\"])\n",
    "\n",
    "def prepare_data(df_train):\n",
    "  loan_intent_original = df_train[\"loan_intent\"].copy()\n",
    "\n",
    "  df_train = df_train.drop([\"loan_grade\"], axis = 1)\n",
    "  df_train = df_train.dropna()\n",
    "  df_train[\"cb_person_default_on_file\"] = le.fit_transform(df_train[\"cb_person_default_on_file\"])\n",
    "  df_train[\"loan_intent\"] = le.fit_transform(df_train[\"loan_intent\"])  \n",
    "  df_train = pd.get_dummies(df_train)\n",
    "  return df_train, loan_intent_original\n",
    "\n",
    "df_train, loan_intent_original = prepare_data(df_train)\n",
    "y_train = df_train[\"loan_status\"].to_numpy()\n",
    "X_train = df_train.drop([\"loan_status\"], axis = 1)\n"
   ]
  },
  {
   "cell_type": "code",
   "execution_count": 84,
   "metadata": {},
   "outputs": [
    {
     "data": {
      "text/html": [
       "<div>\n",
       "<style scoped>\n",
       "    .dataframe tbody tr th:only-of-type {\n",
       "        vertical-align: middle;\n",
       "    }\n",
       "\n",
       "    .dataframe tbody tr th {\n",
       "        vertical-align: top;\n",
       "    }\n",
       "\n",
       "    .dataframe thead th {\n",
       "        text-align: right;\n",
       "    }\n",
       "</style>\n",
       "<table border=\"1\" class=\"dataframe\">\n",
       "  <thead>\n",
       "    <tr style=\"text-align: right;\">\n",
       "      <th></th>\n",
       "      <th>person_age</th>\n",
       "      <th>person_income</th>\n",
       "      <th>person_emp_length</th>\n",
       "      <th>loan_intent</th>\n",
       "      <th>loan_amnt</th>\n",
       "      <th>loan_int_rate</th>\n",
       "      <th>loan_status</th>\n",
       "      <th>loan_percent_income</th>\n",
       "      <th>cb_person_default_on_file</th>\n",
       "      <th>cb_person_cred_hist_length</th>\n",
       "      <th>person_home_ownership_MORTGAGE</th>\n",
       "      <th>person_home_ownership_OTHER</th>\n",
       "      <th>person_home_ownership_OWN</th>\n",
       "      <th>person_home_ownership_RENT</th>\n",
       "    </tr>\n",
       "  </thead>\n",
       "  <tbody>\n",
       "    <tr>\n",
       "      <th>1</th>\n",
       "      <td>27</td>\n",
       "      <td>98000</td>\n",
       "      <td>3.0</td>\n",
       "      <td>1</td>\n",
       "      <td>11750</td>\n",
       "      <td>13.47</td>\n",
       "      <td>0</td>\n",
       "      <td>0.12</td>\n",
       "      <td>1</td>\n",
       "      <td>6</td>\n",
       "      <td>False</td>\n",
       "      <td>False</td>\n",
       "      <td>False</td>\n",
       "      <td>True</td>\n",
       "    </tr>\n",
       "    <tr>\n",
       "      <th>2</th>\n",
       "      <td>22</td>\n",
       "      <td>36996</td>\n",
       "      <td>5.0</td>\n",
       "      <td>1</td>\n",
       "      <td>10000</td>\n",
       "      <td>7.51</td>\n",
       "      <td>0</td>\n",
       "      <td>0.27</td>\n",
       "      <td>0</td>\n",
       "      <td>4</td>\n",
       "      <td>False</td>\n",
       "      <td>False</td>\n",
       "      <td>False</td>\n",
       "      <td>True</td>\n",
       "    </tr>\n",
       "    <tr>\n",
       "      <th>3</th>\n",
       "      <td>24</td>\n",
       "      <td>26000</td>\n",
       "      <td>2.0</td>\n",
       "      <td>3</td>\n",
       "      <td>1325</td>\n",
       "      <td>12.87</td>\n",
       "      <td>1</td>\n",
       "      <td>0.05</td>\n",
       "      <td>0</td>\n",
       "      <td>4</td>\n",
       "      <td>False</td>\n",
       "      <td>False</td>\n",
       "      <td>False</td>\n",
       "      <td>True</td>\n",
       "    </tr>\n",
       "    <tr>\n",
       "      <th>4</th>\n",
       "      <td>29</td>\n",
       "      <td>53004</td>\n",
       "      <td>2.0</td>\n",
       "      <td>2</td>\n",
       "      <td>15000</td>\n",
       "      <td>9.63</td>\n",
       "      <td>0</td>\n",
       "      <td>0.28</td>\n",
       "      <td>0</td>\n",
       "      <td>10</td>\n",
       "      <td>True</td>\n",
       "      <td>False</td>\n",
       "      <td>False</td>\n",
       "      <td>False</td>\n",
       "    </tr>\n",
       "    <tr>\n",
       "      <th>6</th>\n",
       "      <td>21</td>\n",
       "      <td>21700</td>\n",
       "      <td>2.0</td>\n",
       "      <td>2</td>\n",
       "      <td>5500</td>\n",
       "      <td>14.91</td>\n",
       "      <td>1</td>\n",
       "      <td>0.25</td>\n",
       "      <td>0</td>\n",
       "      <td>2</td>\n",
       "      <td>False</td>\n",
       "      <td>False</td>\n",
       "      <td>False</td>\n",
       "      <td>True</td>\n",
       "    </tr>\n",
       "    <tr>\n",
       "      <th>...</th>\n",
       "      <td>...</td>\n",
       "      <td>...</td>\n",
       "      <td>...</td>\n",
       "      <td>...</td>\n",
       "      <td>...</td>\n",
       "      <td>...</td>\n",
       "      <td>...</td>\n",
       "      <td>...</td>\n",
       "      <td>...</td>\n",
       "      <td>...</td>\n",
       "      <td>...</td>\n",
       "      <td>...</td>\n",
       "      <td>...</td>\n",
       "      <td>...</td>\n",
       "    </tr>\n",
       "    <tr>\n",
       "      <th>26059</th>\n",
       "      <td>36</td>\n",
       "      <td>150000</td>\n",
       "      <td>8.0</td>\n",
       "      <td>1</td>\n",
       "      <td>3000</td>\n",
       "      <td>7.29</td>\n",
       "      <td>0</td>\n",
       "      <td>0.02</td>\n",
       "      <td>0</td>\n",
       "      <td>17</td>\n",
       "      <td>True</td>\n",
       "      <td>False</td>\n",
       "      <td>False</td>\n",
       "      <td>False</td>\n",
       "    </tr>\n",
       "    <tr>\n",
       "      <th>26060</th>\n",
       "      <td>23</td>\n",
       "      <td>48000</td>\n",
       "      <td>1.0</td>\n",
       "      <td>5</td>\n",
       "      <td>4325</td>\n",
       "      <td>5.42</td>\n",
       "      <td>0</td>\n",
       "      <td>0.09</td>\n",
       "      <td>0</td>\n",
       "      <td>4</td>\n",
       "      <td>False</td>\n",
       "      <td>False</td>\n",
       "      <td>False</td>\n",
       "      <td>True</td>\n",
       "    </tr>\n",
       "    <tr>\n",
       "      <th>26061</th>\n",
       "      <td>22</td>\n",
       "      <td>60000</td>\n",
       "      <td>0.0</td>\n",
       "      <td>3</td>\n",
       "      <td>15000</td>\n",
       "      <td>11.71</td>\n",
       "      <td>0</td>\n",
       "      <td>0.25</td>\n",
       "      <td>0</td>\n",
       "      <td>4</td>\n",
       "      <td>False</td>\n",
       "      <td>False</td>\n",
       "      <td>False</td>\n",
       "      <td>True</td>\n",
       "    </tr>\n",
       "    <tr>\n",
       "      <th>26062</th>\n",
       "      <td>30</td>\n",
       "      <td>144000</td>\n",
       "      <td>12.0</td>\n",
       "      <td>4</td>\n",
       "      <td>35000</td>\n",
       "      <td>12.68</td>\n",
       "      <td>0</td>\n",
       "      <td>0.24</td>\n",
       "      <td>0</td>\n",
       "      <td>8</td>\n",
       "      <td>True</td>\n",
       "      <td>False</td>\n",
       "      <td>False</td>\n",
       "      <td>False</td>\n",
       "    </tr>\n",
       "    <tr>\n",
       "      <th>26063</th>\n",
       "      <td>25</td>\n",
       "      <td>60000</td>\n",
       "      <td>5.0</td>\n",
       "      <td>1</td>\n",
       "      <td>21450</td>\n",
       "      <td>7.29</td>\n",
       "      <td>1</td>\n",
       "      <td>0.36</td>\n",
       "      <td>0</td>\n",
       "      <td>4</td>\n",
       "      <td>False</td>\n",
       "      <td>False</td>\n",
       "      <td>False</td>\n",
       "      <td>True</td>\n",
       "    </tr>\n",
       "  </tbody>\n",
       "</table>\n",
       "<p>22907 rows × 14 columns</p>\n",
       "</div>"
      ],
      "text/plain": [
       "       person_age  person_income  person_emp_length  loan_intent  loan_amnt  \\\n",
       "1              27          98000                3.0            1      11750   \n",
       "2              22          36996                5.0            1      10000   \n",
       "3              24          26000                2.0            3       1325   \n",
       "4              29          53004                2.0            2      15000   \n",
       "6              21          21700                2.0            2       5500   \n",
       "...           ...            ...                ...          ...        ...   \n",
       "26059          36         150000                8.0            1       3000   \n",
       "26060          23          48000                1.0            5       4325   \n",
       "26061          22          60000                0.0            3      15000   \n",
       "26062          30         144000               12.0            4      35000   \n",
       "26063          25          60000                5.0            1      21450   \n",
       "\n",
       "       loan_int_rate  loan_status  loan_percent_income  \\\n",
       "1              13.47            0                 0.12   \n",
       "2               7.51            0                 0.27   \n",
       "3              12.87            1                 0.05   \n",
       "4               9.63            0                 0.28   \n",
       "6              14.91            1                 0.25   \n",
       "...              ...          ...                  ...   \n",
       "26059           7.29            0                 0.02   \n",
       "26060           5.42            0                 0.09   \n",
       "26061          11.71            0                 0.25   \n",
       "26062          12.68            0                 0.24   \n",
       "26063           7.29            1                 0.36   \n",
       "\n",
       "       cb_person_default_on_file  cb_person_cred_hist_length  \\\n",
       "1                              1                           6   \n",
       "2                              0                           4   \n",
       "3                              0                           4   \n",
       "4                              0                          10   \n",
       "6                              0                           2   \n",
       "...                          ...                         ...   \n",
       "26059                          0                          17   \n",
       "26060                          0                           4   \n",
       "26061                          0                           4   \n",
       "26062                          0                           8   \n",
       "26063                          0                           4   \n",
       "\n",
       "       person_home_ownership_MORTGAGE  person_home_ownership_OTHER  \\\n",
       "1                               False                        False   \n",
       "2                               False                        False   \n",
       "3                               False                        False   \n",
       "4                                True                        False   \n",
       "6                               False                        False   \n",
       "...                               ...                          ...   \n",
       "26059                            True                        False   \n",
       "26060                           False                        False   \n",
       "26061                           False                        False   \n",
       "26062                            True                        False   \n",
       "26063                           False                        False   \n",
       "\n",
       "       person_home_ownership_OWN  person_home_ownership_RENT  \n",
       "1                          False                        True  \n",
       "2                          False                        True  \n",
       "3                          False                        True  \n",
       "4                          False                       False  \n",
       "6                          False                        True  \n",
       "...                          ...                         ...  \n",
       "26059                      False                       False  \n",
       "26060                      False                        True  \n",
       "26061                      False                        True  \n",
       "26062                      False                       False  \n",
       "26063                      False                        True  \n",
       "\n",
       "[22907 rows x 14 columns]"
      ]
     },
     "execution_count": 84,
     "metadata": {},
     "output_type": "execute_result"
    }
   ],
   "source": [
    "df_train"
   ]
  },
  {
   "cell_type": "markdown",
   "metadata": {},
   "source": [
    "I iterated through sets of three features in the training set to find the best three features to train my logistic regression (using cross validation). I considered all home ownership columns as one feature as I had to split them during data prep. "
   ]
  },
  {
   "cell_type": "code",
   "execution_count": 3,
   "metadata": {},
   "outputs": [
    {
     "name": "stderr",
     "output_type": "stream",
     "text": [
      "/Users/lindseyschweitzer/anaconda3/envs/ml-0451/lib/python3.9/site-packages/sklearn/linear_model/_logistic.py:460: ConvergenceWarning: lbfgs failed to converge (status=1):\n",
      "STOP: TOTAL NO. of ITERATIONS REACHED LIMIT.\n",
      "\n",
      "Increase the number of iterations (max_iter) or scale the data as shown in:\n",
      "    https://scikit-learn.org/stable/modules/preprocessing.html\n",
      "Please also refer to the documentation for alternative solver options:\n",
      "    https://scikit-learn.org/stable/modules/linear_model.html#logistic-regression\n",
      "  n_iter_i = _check_optimize_result(\n",
      "/Users/lindseyschweitzer/anaconda3/envs/ml-0451/lib/python3.9/site-packages/sklearn/linear_model/_logistic.py:460: ConvergenceWarning: lbfgs failed to converge (status=1):\n",
      "STOP: TOTAL NO. of ITERATIONS REACHED LIMIT.\n",
      "\n",
      "Increase the number of iterations (max_iter) or scale the data as shown in:\n",
      "    https://scikit-learn.org/stable/modules/preprocessing.html\n",
      "Please also refer to the documentation for alternative solver options:\n",
      "    https://scikit-learn.org/stable/modules/linear_model.html#logistic-regression\n",
      "  n_iter_i = _check_optimize_result(\n",
      "/Users/lindseyschweitzer/anaconda3/envs/ml-0451/lib/python3.9/site-packages/sklearn/linear_model/_logistic.py:460: ConvergenceWarning: lbfgs failed to converge (status=1):\n",
      "STOP: TOTAL NO. of ITERATIONS REACHED LIMIT.\n",
      "\n",
      "Increase the number of iterations (max_iter) or scale the data as shown in:\n",
      "    https://scikit-learn.org/stable/modules/preprocessing.html\n",
      "Please also refer to the documentation for alternative solver options:\n",
      "    https://scikit-learn.org/stable/modules/linear_model.html#logistic-regression\n",
      "  n_iter_i = _check_optimize_result(\n",
      "/Users/lindseyschweitzer/anaconda3/envs/ml-0451/lib/python3.9/site-packages/sklearn/linear_model/_logistic.py:460: ConvergenceWarning: lbfgs failed to converge (status=1):\n",
      "STOP: TOTAL NO. of ITERATIONS REACHED LIMIT.\n",
      "\n",
      "Increase the number of iterations (max_iter) or scale the data as shown in:\n",
      "    https://scikit-learn.org/stable/modules/preprocessing.html\n",
      "Please also refer to the documentation for alternative solver options:\n",
      "    https://scikit-learn.org/stable/modules/linear_model.html#logistic-regression\n",
      "  n_iter_i = _check_optimize_result(\n",
      "/Users/lindseyschweitzer/anaconda3/envs/ml-0451/lib/python3.9/site-packages/sklearn/linear_model/_logistic.py:460: ConvergenceWarning: lbfgs failed to converge (status=1):\n",
      "STOP: TOTAL NO. of ITERATIONS REACHED LIMIT.\n",
      "\n",
      "Increase the number of iterations (max_iter) or scale the data as shown in:\n",
      "    https://scikit-learn.org/stable/modules/preprocessing.html\n",
      "Please also refer to the documentation for alternative solver options:\n",
      "    https://scikit-learn.org/stable/modules/linear_model.html#logistic-regression\n",
      "  n_iter_i = _check_optimize_result(\n",
      "/Users/lindseyschweitzer/anaconda3/envs/ml-0451/lib/python3.9/site-packages/sklearn/linear_model/_logistic.py:460: ConvergenceWarning: lbfgs failed to converge (status=1):\n",
      "STOP: TOTAL NO. of ITERATIONS REACHED LIMIT.\n",
      "\n",
      "Increase the number of iterations (max_iter) or scale the data as shown in:\n",
      "    https://scikit-learn.org/stable/modules/preprocessing.html\n",
      "Please also refer to the documentation for alternative solver options:\n",
      "    https://scikit-learn.org/stable/modules/linear_model.html#logistic-regression\n",
      "  n_iter_i = _check_optimize_result(\n",
      "/Users/lindseyschweitzer/anaconda3/envs/ml-0451/lib/python3.9/site-packages/sklearn/linear_model/_logistic.py:460: ConvergenceWarning: lbfgs failed to converge (status=1):\n",
      "STOP: TOTAL NO. of ITERATIONS REACHED LIMIT.\n",
      "\n",
      "Increase the number of iterations (max_iter) or scale the data as shown in:\n",
      "    https://scikit-learn.org/stable/modules/preprocessing.html\n",
      "Please also refer to the documentation for alternative solver options:\n",
      "    https://scikit-learn.org/stable/modules/linear_model.html#logistic-regression\n",
      "  n_iter_i = _check_optimize_result(\n",
      "/Users/lindseyschweitzer/anaconda3/envs/ml-0451/lib/python3.9/site-packages/sklearn/linear_model/_logistic.py:460: ConvergenceWarning: lbfgs failed to converge (status=1):\n",
      "STOP: TOTAL NO. of ITERATIONS REACHED LIMIT.\n",
      "\n",
      "Increase the number of iterations (max_iter) or scale the data as shown in:\n",
      "    https://scikit-learn.org/stable/modules/preprocessing.html\n",
      "Please also refer to the documentation for alternative solver options:\n",
      "    https://scikit-learn.org/stable/modules/linear_model.html#logistic-regression\n",
      "  n_iter_i = _check_optimize_result(\n",
      "/Users/lindseyschweitzer/anaconda3/envs/ml-0451/lib/python3.9/site-packages/sklearn/linear_model/_logistic.py:460: ConvergenceWarning: lbfgs failed to converge (status=1):\n",
      "STOP: TOTAL NO. of ITERATIONS REACHED LIMIT.\n",
      "\n",
      "Increase the number of iterations (max_iter) or scale the data as shown in:\n",
      "    https://scikit-learn.org/stable/modules/preprocessing.html\n",
      "Please also refer to the documentation for alternative solver options:\n",
      "    https://scikit-learn.org/stable/modules/linear_model.html#logistic-regression\n",
      "  n_iter_i = _check_optimize_result(\n",
      "/Users/lindseyschweitzer/anaconda3/envs/ml-0451/lib/python3.9/site-packages/sklearn/linear_model/_logistic.py:460: ConvergenceWarning: lbfgs failed to converge (status=1):\n",
      "STOP: TOTAL NO. of ITERATIONS REACHED LIMIT.\n",
      "\n",
      "Increase the number of iterations (max_iter) or scale the data as shown in:\n",
      "    https://scikit-learn.org/stable/modules/preprocessing.html\n",
      "Please also refer to the documentation for alternative solver options:\n",
      "    https://scikit-learn.org/stable/modules/linear_model.html#logistic-regression\n",
      "  n_iter_i = _check_optimize_result(\n",
      "/Users/lindseyschweitzer/anaconda3/envs/ml-0451/lib/python3.9/site-packages/sklearn/linear_model/_logistic.py:460: ConvergenceWarning: lbfgs failed to converge (status=1):\n",
      "STOP: TOTAL NO. of ITERATIONS REACHED LIMIT.\n",
      "\n",
      "Increase the number of iterations (max_iter) or scale the data as shown in:\n",
      "    https://scikit-learn.org/stable/modules/preprocessing.html\n",
      "Please also refer to the documentation for alternative solver options:\n",
      "    https://scikit-learn.org/stable/modules/linear_model.html#logistic-regression\n",
      "  n_iter_i = _check_optimize_result(\n",
      "/Users/lindseyschweitzer/anaconda3/envs/ml-0451/lib/python3.9/site-packages/sklearn/linear_model/_logistic.py:460: ConvergenceWarning: lbfgs failed to converge (status=1):\n",
      "STOP: TOTAL NO. of ITERATIONS REACHED LIMIT.\n",
      "\n",
      "Increase the number of iterations (max_iter) or scale the data as shown in:\n",
      "    https://scikit-learn.org/stable/modules/preprocessing.html\n",
      "Please also refer to the documentation for alternative solver options:\n",
      "    https://scikit-learn.org/stable/modules/linear_model.html#logistic-regression\n",
      "  n_iter_i = _check_optimize_result(\n",
      "/Users/lindseyschweitzer/anaconda3/envs/ml-0451/lib/python3.9/site-packages/sklearn/linear_model/_logistic.py:460: ConvergenceWarning: lbfgs failed to converge (status=1):\n",
      "STOP: TOTAL NO. of ITERATIONS REACHED LIMIT.\n",
      "\n",
      "Increase the number of iterations (max_iter) or scale the data as shown in:\n",
      "    https://scikit-learn.org/stable/modules/preprocessing.html\n",
      "Please also refer to the documentation for alternative solver options:\n",
      "    https://scikit-learn.org/stable/modules/linear_model.html#logistic-regression\n",
      "  n_iter_i = _check_optimize_result(\n",
      "/Users/lindseyschweitzer/anaconda3/envs/ml-0451/lib/python3.9/site-packages/sklearn/linear_model/_logistic.py:460: ConvergenceWarning: lbfgs failed to converge (status=1):\n",
      "STOP: TOTAL NO. of ITERATIONS REACHED LIMIT.\n",
      "\n",
      "Increase the number of iterations (max_iter) or scale the data as shown in:\n",
      "    https://scikit-learn.org/stable/modules/preprocessing.html\n",
      "Please also refer to the documentation for alternative solver options:\n",
      "    https://scikit-learn.org/stable/modules/linear_model.html#logistic-regression\n",
      "  n_iter_i = _check_optimize_result(\n",
      "/Users/lindseyschweitzer/anaconda3/envs/ml-0451/lib/python3.9/site-packages/sklearn/linear_model/_logistic.py:460: ConvergenceWarning: lbfgs failed to converge (status=1):\n",
      "STOP: TOTAL NO. of ITERATIONS REACHED LIMIT.\n",
      "\n",
      "Increase the number of iterations (max_iter) or scale the data as shown in:\n",
      "    https://scikit-learn.org/stable/modules/preprocessing.html\n",
      "Please also refer to the documentation for alternative solver options:\n",
      "    https://scikit-learn.org/stable/modules/linear_model.html#logistic-regression\n",
      "  n_iter_i = _check_optimize_result(\n",
      "/Users/lindseyschweitzer/anaconda3/envs/ml-0451/lib/python3.9/site-packages/sklearn/linear_model/_logistic.py:460: ConvergenceWarning: lbfgs failed to converge (status=1):\n",
      "STOP: TOTAL NO. of ITERATIONS REACHED LIMIT.\n",
      "\n",
      "Increase the number of iterations (max_iter) or scale the data as shown in:\n",
      "    https://scikit-learn.org/stable/modules/preprocessing.html\n",
      "Please also refer to the documentation for alternative solver options:\n",
      "    https://scikit-learn.org/stable/modules/linear_model.html#logistic-regression\n",
      "  n_iter_i = _check_optimize_result(\n",
      "/Users/lindseyschweitzer/anaconda3/envs/ml-0451/lib/python3.9/site-packages/sklearn/linear_model/_logistic.py:460: ConvergenceWarning: lbfgs failed to converge (status=1):\n",
      "STOP: TOTAL NO. of ITERATIONS REACHED LIMIT.\n",
      "\n",
      "Increase the number of iterations (max_iter) or scale the data as shown in:\n",
      "    https://scikit-learn.org/stable/modules/preprocessing.html\n",
      "Please also refer to the documentation for alternative solver options:\n",
      "    https://scikit-learn.org/stable/modules/linear_model.html#logistic-regression\n",
      "  n_iter_i = _check_optimize_result(\n",
      "/Users/lindseyschweitzer/anaconda3/envs/ml-0451/lib/python3.9/site-packages/sklearn/linear_model/_logistic.py:460: ConvergenceWarning: lbfgs failed to converge (status=1):\n",
      "STOP: TOTAL NO. of ITERATIONS REACHED LIMIT.\n",
      "\n",
      "Increase the number of iterations (max_iter) or scale the data as shown in:\n",
      "    https://scikit-learn.org/stable/modules/preprocessing.html\n",
      "Please also refer to the documentation for alternative solver options:\n",
      "    https://scikit-learn.org/stable/modules/linear_model.html#logistic-regression\n",
      "  n_iter_i = _check_optimize_result(\n",
      "/Users/lindseyschweitzer/anaconda3/envs/ml-0451/lib/python3.9/site-packages/sklearn/linear_model/_logistic.py:460: ConvergenceWarning: lbfgs failed to converge (status=1):\n",
      "STOP: TOTAL NO. of ITERATIONS REACHED LIMIT.\n",
      "\n",
      "Increase the number of iterations (max_iter) or scale the data as shown in:\n",
      "    https://scikit-learn.org/stable/modules/preprocessing.html\n",
      "Please also refer to the documentation for alternative solver options:\n",
      "    https://scikit-learn.org/stable/modules/linear_model.html#logistic-regression\n",
      "  n_iter_i = _check_optimize_result(\n",
      "/Users/lindseyschweitzer/anaconda3/envs/ml-0451/lib/python3.9/site-packages/sklearn/linear_model/_logistic.py:460: ConvergenceWarning: lbfgs failed to converge (status=1):\n",
      "STOP: TOTAL NO. of ITERATIONS REACHED LIMIT.\n",
      "\n",
      "Increase the number of iterations (max_iter) or scale the data as shown in:\n",
      "    https://scikit-learn.org/stable/modules/preprocessing.html\n",
      "Please also refer to the documentation for alternative solver options:\n",
      "    https://scikit-learn.org/stable/modules/linear_model.html#logistic-regression\n",
      "  n_iter_i = _check_optimize_result(\n",
      "/Users/lindseyschweitzer/anaconda3/envs/ml-0451/lib/python3.9/site-packages/sklearn/linear_model/_logistic.py:460: ConvergenceWarning: lbfgs failed to converge (status=1):\n",
      "STOP: TOTAL NO. of ITERATIONS REACHED LIMIT.\n",
      "\n",
      "Increase the number of iterations (max_iter) or scale the data as shown in:\n",
      "    https://scikit-learn.org/stable/modules/preprocessing.html\n",
      "Please also refer to the documentation for alternative solver options:\n",
      "    https://scikit-learn.org/stable/modules/linear_model.html#logistic-regression\n",
      "  n_iter_i = _check_optimize_result(\n",
      "/Users/lindseyschweitzer/anaconda3/envs/ml-0451/lib/python3.9/site-packages/sklearn/linear_model/_logistic.py:460: ConvergenceWarning: lbfgs failed to converge (status=1):\n",
      "STOP: TOTAL NO. of ITERATIONS REACHED LIMIT.\n",
      "\n",
      "Increase the number of iterations (max_iter) or scale the data as shown in:\n",
      "    https://scikit-learn.org/stable/modules/preprocessing.html\n",
      "Please also refer to the documentation for alternative solver options:\n",
      "    https://scikit-learn.org/stable/modules/linear_model.html#logistic-regression\n",
      "  n_iter_i = _check_optimize_result(\n",
      "/Users/lindseyschweitzer/anaconda3/envs/ml-0451/lib/python3.9/site-packages/sklearn/linear_model/_logistic.py:460: ConvergenceWarning: lbfgs failed to converge (status=1):\n",
      "STOP: TOTAL NO. of ITERATIONS REACHED LIMIT.\n",
      "\n",
      "Increase the number of iterations (max_iter) or scale the data as shown in:\n",
      "    https://scikit-learn.org/stable/modules/preprocessing.html\n",
      "Please also refer to the documentation for alternative solver options:\n",
      "    https://scikit-learn.org/stable/modules/linear_model.html#logistic-regression\n",
      "  n_iter_i = _check_optimize_result(\n"
     ]
    },
    {
     "name": "stdout",
     "output_type": "stream",
     "text": [
      "0.8489539327556717\n",
      "['person_age', 'loan_percent_income', 'person_home_ownership_MORTGAGE', 'person_home_ownership_MORTGAGE', 'person_home_ownership_OTHER', 'person_home_ownership_OWN', 'person_home_ownership_RENT']\n",
      "[[-4.40967254e-03  8.25436217e+00 -2.68412756e-01 -2.68412756e-01\n",
      "   8.87470311e-02 -1.62256717e+00  4.83031411e-01]]\n"
     ]
    },
    {
     "name": "stderr",
     "output_type": "stream",
     "text": [
      "/Users/lindseyschweitzer/anaconda3/envs/ml-0451/lib/python3.9/site-packages/sklearn/linear_model/_logistic.py:460: ConvergenceWarning: lbfgs failed to converge (status=1):\n",
      "STOP: TOTAL NO. of ITERATIONS REACHED LIMIT.\n",
      "\n",
      "Increase the number of iterations (max_iter) or scale the data as shown in:\n",
      "    https://scikit-learn.org/stable/modules/preprocessing.html\n",
      "Please also refer to the documentation for alternative solver options:\n",
      "    https://scikit-learn.org/stable/modules/linear_model.html#logistic-regression\n",
      "  n_iter_i = _check_optimize_result(\n"
     ]
    }
   ],
   "source": [
    "from sklearn.linear_model import LogisticRegression\n",
    "from sklearn.model_selection import GridSearchCV, cross_val_score\n",
    "import pandas as pd \n",
    "from itertools import combinations\n",
    "\n",
    "home_ownership_cols = [col for col in X_train.columns if 'person_home_ownership' in col]\n",
    "\n",
    "bestLRScore = 0.0\n",
    "bestLRCols=[]\n",
    "\n",
    "for triple in combinations(X_train.columns, 3):\n",
    "\n",
    "    cols = list(triple)\n",
    "    \n",
    "    if any( col in home_ownership_cols for col in cols):\n",
    "        cols += home_ownership_cols\n",
    "        \n",
    "    LR = LogisticRegression()\n",
    "    \n",
    "    LRScore = cross_val_score(LR, X_train[cols], y_train, cv=5).mean()\n",
    "    \n",
    "    if LRScore >= bestLRScore :\n",
    "      bestLRScore = LRScore\n",
    "      bestLRCols = cols\n",
    "\n",
    "print(bestLRScore)\n",
    "print(bestLRCols)        \n",
    "    \n",
    "LR = LogisticRegression(random_state=0)\n",
    "LR.fit(X_train[bestLRCols], y_train)\n",
    "weights = LR.coef_\n",
    "\n",
    "print(weights)"
   ]
  },
  {
   "cell_type": "markdown",
   "metadata": {},
   "source": [
    "# Find the optimal Threshold"
   ]
  },
  {
   "cell_type": "markdown",
   "metadata": {},
   "source": [
    "Linear score function that takes the cross product of my training data of the chosen features and weights from trained logistic regression."
   ]
  },
  {
   "cell_type": "code",
   "execution_count": 26,
   "metadata": {},
   "outputs": [],
   "source": [
    "import numpy as np\n",
    "\n",
    "\n",
    "def linear_score(X, w):\n",
    "    return X@w.T\n",
    "\n",
    "\n",
    "s = linear_score(X_train[bestLRCols], weights)"
   ]
  },
  {
   "cell_type": "markdown",
   "metadata": {},
   "source": [
    "ROC curve which shows the TPR and FPR for many different values of the threshold t. The goal is to ultimately find a point where TPR is maximized and FPR is minimized."
   ]
  },
  {
   "cell_type": "code",
   "execution_count": 27,
   "metadata": {},
   "outputs": [
    {
     "name": "stderr",
     "output_type": "stream",
     "text": [
      "100%|██████████| 101/101 [00:00<00:00, 3739.66it/s]\n"
     ]
    },
    {
     "data": {
      "image/png": "[encoded data removed]",
      "text/plain": [
       "<Figure size 600x400 with 1 Axes>"
      ]
     },
     "metadata": {},
     "output_type": "display_data"
    }
   ],
   "source": [
    "from matplotlib import pyplot as plt\n",
    "import tqdm\n",
    "np.set_printoptions(precision = 3)\n",
    "plt.style.use('seaborn-v0_8-whitegrid')\n",
    "\n",
    "fig, ax = plt.subplots(1, 1, figsize = (6, 4))\n",
    "\n",
    "num_thresholds = 101\n",
    "\n",
    "FPR = np.zeros(num_thresholds)\n",
    "TPR = np.zeros(num_thresholds)\n",
    "T = np.linspace(s.min()-0.1, s.max()+0.1, num_thresholds)\n",
    "s    = linear_score(X_train[bestLRCols], weights).to_numpy().reshape(-1)\n",
    "\n",
    "for i in tqdm.trange(num_thresholds):\n",
    "    t = T[i]\n",
    "    preds    = s >= t\n",
    "    FPR[i]   = ((preds== 1) * (y_train == 0)).sum() / (y_train == 0).sum()\n",
    "    TPR[i]   = ((preds== 1) * (y_train == 1)).sum() / (y_train == 1).sum()\n",
    "\n",
    "\n",
    "ax.plot(FPR, TPR, color = \"black\")\n",
    "ax.plot([0,1], [0,1], linestyle=\"--\", color = \"grey\")\n",
    "ax.set_aspect('equal')\n",
    "\n",
    "labs = ax.set(xlabel = \"False Positive Rate\", ylabel = \"True Positive Rate\", title = \"ROC Curve\")"
   ]
  },
  {
   "cell_type": "markdown",
   "metadata": {},
   "source": [
    "The loan cost for each scenario depends on the loan amount and the loan interest rate. The gain if repaid, or the gain of a true negative (negative meaning not defaulting on a loan) can be calculated as loan_amnt*(1 + 0.25*loan_int_rate)** 10 - loan_amnt and the loss cost, or the cost of a false negative (bank giving someone a loan who defaults) can be calculated as loan_amnt*(1 + 0.25*loan_int_rate)**3 - 1.7*loan_amnt."
   ]
  },
  {
   "cell_type": "code",
   "execution_count": 35,
   "metadata": {},
   "outputs": [],
   "source": [
    "def create_cost_cols(df):\n",
    "    df[\"gain_if_repaid\"] = df[\"loan_amnt\"]*(1 + 0.25*(df[\"loan_int_rate\"]/100))**10 - df[\"loan_amnt\"]\n",
    "    df[\"cost_if_default\"] = df[\"loan_amnt\"]*(1 + 0.25*(df[\"loan_int_rate\"]/100))**3 - 1.7*df[\"loan_amnt\"]\n",
    "    return df\n",
    "    "
   ]
  },
  {
   "cell_type": "markdown",
   "metadata": {},
   "source": [
    "Calculate the profit of the bank by summing the gain of TN (multiplying the number of TN by the gain if repaid) and the lost of FN (multiplying the number of FN by the gain if default)."
   ]
  },
  {
   "cell_type": "code",
   "execution_count": 36,
   "metadata": {},
   "outputs": [],
   "source": [
    "def calculate_gain(preds, y, df):\n",
    "    \n",
    "    gain_of_TN = (((preds == 0) * (y == 0)) * df[\"gain_if_repaid\"]).sum()\n",
    "    cost_of_FN = (((preds == 0) * (y == 1)) * df[\"cost_if_default\"]).sum()\n",
    "    \n",
    "    return gain_of_TN + cost_of_FN"
   ]
  },
  {
   "cell_type": "markdown",
   "metadata": {},
   "source": [
    "I can calculate the gain per loan in this schema by summing the mean of each gain and loss of the bank"
   ]
  },
  {
   "cell_type": "code",
   "execution_count": 37,
   "metadata": {},
   "outputs": [],
   "source": [
    "def calculate_gain_per_loan(preds, y, df):\n",
    "    \n",
    "    mean_gain_of_TN = (((preds == 0) * (y == 0)) * df[\"gain_if_repaid\"]).mean()\n",
    "    mean_cost_of_FN = (((preds == 0) * (y == 1))* df[\"cost_if_default\"]).mean()\n",
    "    \n",
    "    return mean_gain_of_TN + mean_cost_of_FN"
   ]
  },
  {
   "cell_type": "markdown",
   "metadata": {},
   "source": [
    "To find the optimal threshold I will plot the gain as a function of the threshold. "
   ]
  },
  {
   "cell_type": "code",
   "execution_count": 40,
   "metadata": {},
   "outputs": [
    {
     "name": "stderr",
     "output_type": "stream",
     "text": [
      "  0%|          | 0/101 [00:00<?, ?it/s]"
     ]
    },
    {
     "name": "stderr",
     "output_type": "stream",
     "text": [
      "100%|██████████| 101/101 [00:00<00:00, 2612.11it/s]\n"
     ]
    },
    {
     "data": {
      "image/png": "[encoded data removed]",
      "text/plain": [
       "<Figure size 640x480 with 1 Axes>"
      ]
     },
     "metadata": {},
     "output_type": "display_data"
    }
   ],
   "source": [
    "from matplotlib import pyplot as plt\n",
    "np.set_printoptions(precision = 3)\n",
    "import tqdm\n",
    "\n",
    "num_thresholds = 101\n",
    "\n",
    "gains = np.zeros(num_thresholds)\n",
    "\n",
    "T = np.linspace(s.min()-0.1, s.max()+0.1, num_thresholds)\n",
    "s    = linear_score(X_train[bestLRCols], weights).to_numpy().reshape(-1)\n",
    "X_train[\"s\"] = s\n",
    "\n",
    "gain_of_TN = 0\n",
    "cost_of_FN = 0\n",
    "\n",
    "create_cost_cols(df_train)\n",
    "\n",
    "for i in tqdm.trange(num_thresholds):\n",
    "    t = T[i]\n",
    "    preds    = s >= t\n",
    "\n",
    "    gains[i] =  calculate_gain_per_loan(preds, y_train, df_train)\n",
    "\n",
    "plt.plot(T, gains)\n",
    "labs = plt.gca().set(xlabel = r\"Threshold $t$\", ylabel = \"Expected profit per loan\")"
   ]
  },
  {
   "cell_type": "markdown",
   "metadata": {},
   "source": [
    "Find the optimal threshold by finding the x-coordinate of the maximum gain in our gain/threshold graph."
   ]
  },
  {
   "cell_type": "code",
   "execution_count": 41,
   "metadata": {},
   "outputs": [
    {
     "name": "stdout",
     "output_type": "stream",
     "text": [
      "Optimal threshold:  2.857653939857805\n"
     ]
    }
   ],
   "source": [
    "max_y = np.argmax(gains)\n",
    "t = T[max_y]\n",
    "print(\"Optimal threshold: \", t)"
   ]
  },
  {
   "cell_type": "markdown",
   "metadata": {},
   "source": [
    "Find the banks profit and gain by loan by calculating the gain based on the training data"
   ]
  },
  {
   "cell_type": "code",
   "execution_count": 42,
   "metadata": {},
   "outputs": [
    {
     "name": "stdout",
     "output_type": "stream",
     "text": [
      "gain_per_loan=1443.5504241029244\n",
      "total_gain=33067409.564925686\n"
     ]
    }
   ],
   "source": [
    "preds = X_train[\"s\"] >= t\n",
    "\n",
    "create_cost_cols(df_train)\n",
    "\n",
    "gain_per_loan = calculate_gain_per_loan(preds, y_train, df_train)\n",
    "total_gain = calculate_gain(preds, y_train, df_train)\n",
    "\n",
    "print(f\"{gain_per_loan=}\")\n",
    "print(f\"{total_gain=}\")"
   ]
  },
  {
   "cell_type": "markdown",
   "metadata": {},
   "source": [
    "# TESTING"
   ]
  },
  {
   "cell_type": "markdown",
   "metadata": {},
   "source": [
    "First I downloaded and prepared the test data."
   ]
  },
  {
   "cell_type": "code",
   "execution_count": 147,
   "metadata": {},
   "outputs": [],
   "source": [
    "url = \"https://raw.githubusercontent.com/PhilChodrow/ml-notes/main/data/credit-risk/test.csv\"\n",
    "df_test = pd.read_csv(url)\n",
    "\n",
    "df_test, loan_intent_original = prepare_data(df_test)\n",
    "y_test = df_test[\"loan_status\"].to_numpy()\n",
    "X_test = df_test.drop([\"loan_status\"], axis = 1)"
   ]
  },
  {
   "cell_type": "markdown",
   "metadata": {},
   "source": [
    "Find the banks profit by calculating the gain based on the testing data"
   ]
  },
  {
   "cell_type": "code",
   "execution_count": 148,
   "metadata": {},
   "outputs": [
    {
     "name": "stdout",
     "output_type": "stream",
     "text": [
      "gain=7931919.35735091\n"
     ]
    }
   ],
   "source": [
    "s    = linear_score(X_test[bestLRCols], weights).to_numpy().reshape(-1)\n",
    "X_test[\"s\"] = s\n",
    "\n",
    "preds = s >= t\n",
    "\n",
    "create_cost_cols(df_test)\n",
    "\n",
    "gain = calculate_gain(preds, y_test, df_test)\n",
    "print(f\"{gain=}\")"
   ]
  },
  {
   "cell_type": "markdown",
   "metadata": {},
   "source": [
    "Again, I calculate the gain per loan in this schema by summing the mean of each gain and loss of the bank. This value should be similar to the gain per loan o the training data."
   ]
  },
  {
   "cell_type": "code",
   "execution_count": 69,
   "metadata": {},
   "outputs": [
    {
     "data": {
      "text/plain": [
       "1384.0375776218652"
      ]
     },
     "execution_count": 69,
     "metadata": {},
     "output_type": "execute_result"
    }
   ],
   "source": [
    "calculate_gain_per_loan(preds, y_test, df_test)"
   ]
  },
  {
   "cell_type": "markdown",
   "metadata": {},
   "source": [
    "Calculate the mean of preds to see what our loaning trend is. Closer to 0 means we are giving loans to most people. Closer to one would mean we were not."
   ]
  },
  {
   "cell_type": "code",
   "execution_count": 46,
   "metadata": {},
   "outputs": [
    {
     "data": {
      "text/plain": [
       "0.08584889199092655"
      ]
     },
     "execution_count": 46,
     "metadata": {},
     "output_type": "execute_result"
    }
   ],
   "source": [
    "preds.mean()"
   ]
  },
  {
   "cell_type": "markdown",
   "metadata": {},
   "source": [
    "# Evaluate Model"
   ]
  },
  {
   "cell_type": "markdown",
   "metadata": {},
   "source": [
    "First I places predicted_loan_status into a column"
   ]
  },
  {
   "cell_type": "code",
   "execution_count": 149,
   "metadata": {},
   "outputs": [],
   "source": [
    "df_test[\"predicted_loan_status\"] = preds"
   ]
  },
  {
   "cell_type": "code",
   "execution_count": 70,
   "metadata": {},
   "outputs": [
    {
     "data": {
      "text/html": [
       "<div>\n",
       "<style scoped>\n",
       "    .dataframe tbody tr th:only-of-type {\n",
       "        vertical-align: middle;\n",
       "    }\n",
       "\n",
       "    .dataframe tbody tr th {\n",
       "        vertical-align: top;\n",
       "    }\n",
       "\n",
       "    .dataframe thead th {\n",
       "        text-align: right;\n",
       "    }\n",
       "</style>\n",
       "<table border=\"1\" class=\"dataframe\">\n",
       "  <thead>\n",
       "    <tr style=\"text-align: right;\">\n",
       "      <th></th>\n",
       "      <th>person_age</th>\n",
       "      <th>person_income</th>\n",
       "      <th>person_emp_length</th>\n",
       "      <th>loan_amnt</th>\n",
       "      <th>loan_int_rate</th>\n",
       "      <th>loan_status</th>\n",
       "      <th>loan_percent_income</th>\n",
       "      <th>cb_person_default_on_file</th>\n",
       "      <th>cb_person_cred_hist_length</th>\n",
       "      <th>loan_intent_num</th>\n",
       "      <th>...</th>\n",
       "      <th>person_home_ownership_OWN</th>\n",
       "      <th>person_home_ownership_RENT</th>\n",
       "      <th>loan_intent_DEBTCONSOLIDATION</th>\n",
       "      <th>loan_intent_EDUCATION</th>\n",
       "      <th>loan_intent_HOMEIMPROVEMENT</th>\n",
       "      <th>loan_intent_MEDICAL</th>\n",
       "      <th>loan_intent_PERSONAL</th>\n",
       "      <th>loan_intent_VENTURE</th>\n",
       "      <th>gain_if_repaid</th>\n",
       "      <th>cost_if_default</th>\n",
       "    </tr>\n",
       "  </thead>\n",
       "  <tbody>\n",
       "    <tr>\n",
       "      <th>0</th>\n",
       "      <td>21</td>\n",
       "      <td>42000</td>\n",
       "      <td>5.0</td>\n",
       "      <td>1000</td>\n",
       "      <td>15.58</td>\n",
       "      <td>1</td>\n",
       "      <td>0.02</td>\n",
       "      <td>0</td>\n",
       "      <td>4</td>\n",
       "      <td>5</td>\n",
       "      <td>...</td>\n",
       "      <td>False</td>\n",
       "      <td>True</td>\n",
       "      <td>False</td>\n",
       "      <td>False</td>\n",
       "      <td>False</td>\n",
       "      <td>False</td>\n",
       "      <td>False</td>\n",
       "      <td>True</td>\n",
       "      <td>465.367227</td>\n",
       "      <td>-578.539601</td>\n",
       "    </tr>\n",
       "    <tr>\n",
       "      <th>1</th>\n",
       "      <td>32</td>\n",
       "      <td>51000</td>\n",
       "      <td>2.0</td>\n",
       "      <td>15000</td>\n",
       "      <td>11.36</td>\n",
       "      <td>0</td>\n",
       "      <td>0.29</td>\n",
       "      <td>0</td>\n",
       "      <td>9</td>\n",
       "      <td>0</td>\n",
       "      <td>...</td>\n",
       "      <td>False</td>\n",
       "      <td>False</td>\n",
       "      <td>True</td>\n",
       "      <td>False</td>\n",
       "      <td>False</td>\n",
       "      <td>False</td>\n",
       "      <td>False</td>\n",
       "      <td>False</td>\n",
       "      <td>4847.780062</td>\n",
       "      <td>-9185.361205</td>\n",
       "    </tr>\n",
       "    <tr>\n",
       "      <th>2</th>\n",
       "      <td>35</td>\n",
       "      <td>54084</td>\n",
       "      <td>2.0</td>\n",
       "      <td>3000</td>\n",
       "      <td>12.61</td>\n",
       "      <td>0</td>\n",
       "      <td>0.06</td>\n",
       "      <td>0</td>\n",
       "      <td>6</td>\n",
       "      <td>0</td>\n",
       "      <td>...</td>\n",
       "      <td>False</td>\n",
       "      <td>True</td>\n",
       "      <td>True</td>\n",
       "      <td>False</td>\n",
       "      <td>False</td>\n",
       "      <td>False</td>\n",
       "      <td>False</td>\n",
       "      <td>False</td>\n",
       "      <td>1091.841800</td>\n",
       "      <td>-1807.236578</td>\n",
       "    </tr>\n",
       "    <tr>\n",
       "      <th>3</th>\n",
       "      <td>28</td>\n",
       "      <td>66300</td>\n",
       "      <td>11.0</td>\n",
       "      <td>12000</td>\n",
       "      <td>14.11</td>\n",
       "      <td>1</td>\n",
       "      <td>0.15</td>\n",
       "      <td>0</td>\n",
       "      <td>6</td>\n",
       "      <td>3</td>\n",
       "      <td>...</td>\n",
       "      <td>False</td>\n",
       "      <td>False</td>\n",
       "      <td>False</td>\n",
       "      <td>False</td>\n",
       "      <td>False</td>\n",
       "      <td>True</td>\n",
       "      <td>False</td>\n",
       "      <td>False</td>\n",
       "      <td>4972.214553</td>\n",
       "      <td>-7084.777554</td>\n",
       "    </tr>\n",
       "    <tr>\n",
       "      <th>4</th>\n",
       "      <td>22</td>\n",
       "      <td>70550</td>\n",
       "      <td>0.0</td>\n",
       "      <td>7000</td>\n",
       "      <td>15.88</td>\n",
       "      <td>1</td>\n",
       "      <td>0.08</td>\n",
       "      <td>0</td>\n",
       "      <td>3</td>\n",
       "      <td>3</td>\n",
       "      <td>...</td>\n",
       "      <td>False</td>\n",
       "      <td>True</td>\n",
       "      <td>False</td>\n",
       "      <td>False</td>\n",
       "      <td>False</td>\n",
       "      <td>True</td>\n",
       "      <td>False</td>\n",
       "      <td>False</td>\n",
       "      <td>3331.859215</td>\n",
       "      <td>-4032.764115</td>\n",
       "    </tr>\n",
       "    <tr>\n",
       "      <th>...</th>\n",
       "      <td>...</td>\n",
       "      <td>...</td>\n",
       "      <td>...</td>\n",
       "      <td>...</td>\n",
       "      <td>...</td>\n",
       "      <td>...</td>\n",
       "      <td>...</td>\n",
       "      <td>...</td>\n",
       "      <td>...</td>\n",
       "      <td>...</td>\n",
       "      <td>...</td>\n",
       "      <td>...</td>\n",
       "      <td>...</td>\n",
       "      <td>...</td>\n",
       "      <td>...</td>\n",
       "      <td>...</td>\n",
       "      <td>...</td>\n",
       "      <td>...</td>\n",
       "      <td>...</td>\n",
       "      <td>...</td>\n",
       "      <td>...</td>\n",
       "    </tr>\n",
       "    <tr>\n",
       "      <th>6511</th>\n",
       "      <td>29</td>\n",
       "      <td>78000</td>\n",
       "      <td>2.0</td>\n",
       "      <td>18000</td>\n",
       "      <td>6.62</td>\n",
       "      <td>0</td>\n",
       "      <td>0.23</td>\n",
       "      <td>0</td>\n",
       "      <td>5</td>\n",
       "      <td>4</td>\n",
       "      <td>...</td>\n",
       "      <td>False</td>\n",
       "      <td>False</td>\n",
       "      <td>False</td>\n",
       "      <td>False</td>\n",
       "      <td>False</td>\n",
       "      <td>False</td>\n",
       "      <td>True</td>\n",
       "      <td>False</td>\n",
       "      <td>3210.941787</td>\n",
       "      <td>-11691.427669</td>\n",
       "    </tr>\n",
       "    <tr>\n",
       "      <th>6513</th>\n",
       "      <td>27</td>\n",
       "      <td>44640</td>\n",
       "      <td>0.0</td>\n",
       "      <td>12800</td>\n",
       "      <td>11.83</td>\n",
       "      <td>0</td>\n",
       "      <td>0.29</td>\n",
       "      <td>0</td>\n",
       "      <td>9</td>\n",
       "      <td>3</td>\n",
       "      <td>...</td>\n",
       "      <td>False</td>\n",
       "      <td>True</td>\n",
       "      <td>False</td>\n",
       "      <td>False</td>\n",
       "      <td>False</td>\n",
       "      <td>True</td>\n",
       "      <td>False</td>\n",
       "      <td>False</td>\n",
       "      <td>4331.281644</td>\n",
       "      <td>-7790.401145</td>\n",
       "    </tr>\n",
       "    <tr>\n",
       "      <th>6514</th>\n",
       "      <td>24</td>\n",
       "      <td>48000</td>\n",
       "      <td>5.0</td>\n",
       "      <td>10400</td>\n",
       "      <td>7.37</td>\n",
       "      <td>0</td>\n",
       "      <td>0.22</td>\n",
       "      <td>0</td>\n",
       "      <td>3</td>\n",
       "      <td>5</td>\n",
       "      <td>...</td>\n",
       "      <td>True</td>\n",
       "      <td>False</td>\n",
       "      <td>False</td>\n",
       "      <td>False</td>\n",
       "      <td>False</td>\n",
       "      <td>False</td>\n",
       "      <td>False</td>\n",
       "      <td>True</td>\n",
       "      <td>2083.140437</td>\n",
       "      <td>-6694.483153</td>\n",
       "    </tr>\n",
       "    <tr>\n",
       "      <th>6515</th>\n",
       "      <td>26</td>\n",
       "      <td>65000</td>\n",
       "      <td>6.0</td>\n",
       "      <td>6000</td>\n",
       "      <td>9.07</td>\n",
       "      <td>0</td>\n",
       "      <td>0.09</td>\n",
       "      <td>0</td>\n",
       "      <td>3</td>\n",
       "      <td>1</td>\n",
       "      <td>...</td>\n",
       "      <td>False</td>\n",
       "      <td>False</td>\n",
       "      <td>False</td>\n",
       "      <td>True</td>\n",
       "      <td>False</td>\n",
       "      <td>False</td>\n",
       "      <td>False</td>\n",
       "      <td>False</td>\n",
       "      <td>1508.058449</td>\n",
       "      <td>-3782.525248</td>\n",
       "    </tr>\n",
       "    <tr>\n",
       "      <th>6516</th>\n",
       "      <td>29</td>\n",
       "      <td>61000</td>\n",
       "      <td>12.0</td>\n",
       "      <td>10000</td>\n",
       "      <td>16.07</td>\n",
       "      <td>0</td>\n",
       "      <td>0.16</td>\n",
       "      <td>0</td>\n",
       "      <td>9</td>\n",
       "      <td>5</td>\n",
       "      <td>...</td>\n",
       "      <td>False</td>\n",
       "      <td>True</td>\n",
       "      <td>False</td>\n",
       "      <td>False</td>\n",
       "      <td>False</td>\n",
       "      <td>False</td>\n",
       "      <td>False</td>\n",
       "      <td>True</td>\n",
       "      <td>4827.369675</td>\n",
       "      <td>-5745.680644</td>\n",
       "    </tr>\n",
       "  </tbody>\n",
       "</table>\n",
       "<p>5731 rows × 22 columns</p>\n",
       "</div>"
      ],
      "text/plain": [
       "      person_age  person_income  person_emp_length  loan_amnt  loan_int_rate  \\\n",
       "0             21          42000                5.0       1000          15.58   \n",
       "1             32          51000                2.0      15000          11.36   \n",
       "2             35          54084                2.0       3000          12.61   \n",
       "3             28          66300               11.0      12000          14.11   \n",
       "4             22          70550                0.0       7000          15.88   \n",
       "...          ...            ...                ...        ...            ...   \n",
       "6511          29          78000                2.0      18000           6.62   \n",
       "6513          27          44640                0.0      12800          11.83   \n",
       "6514          24          48000                5.0      10400           7.37   \n",
       "6515          26          65000                6.0       6000           9.07   \n",
       "6516          29          61000               12.0      10000          16.07   \n",
       "\n",
       "      loan_status  loan_percent_income  cb_person_default_on_file  \\\n",
       "0               1                 0.02                          0   \n",
       "1               0                 0.29                          0   \n",
       "2               0                 0.06                          0   \n",
       "3               1                 0.15                          0   \n",
       "4               1                 0.08                          0   \n",
       "...           ...                  ...                        ...   \n",
       "6511            0                 0.23                          0   \n",
       "6513            0                 0.29                          0   \n",
       "6514            0                 0.22                          0   \n",
       "6515            0                 0.09                          0   \n",
       "6516            0                 0.16                          0   \n",
       "\n",
       "      cb_person_cred_hist_length  loan_intent_num  ...  \\\n",
       "0                              4                5  ...   \n",
       "1                              9                0  ...   \n",
       "2                              6                0  ...   \n",
       "3                              6                3  ...   \n",
       "4                              3                3  ...   \n",
       "...                          ...              ...  ...   \n",
       "6511                           5                4  ...   \n",
       "6513                           9                3  ...   \n",
       "6514                           3                5  ...   \n",
       "6515                           3                1  ...   \n",
       "6516                           9                5  ...   \n",
       "\n",
       "      person_home_ownership_OWN  person_home_ownership_RENT  \\\n",
       "0                         False                        True   \n",
       "1                         False                       False   \n",
       "2                         False                        True   \n",
       "3                         False                       False   \n",
       "4                         False                        True   \n",
       "...                         ...                         ...   \n",
       "6511                      False                       False   \n",
       "6513                      False                        True   \n",
       "6514                       True                       False   \n",
       "6515                      False                       False   \n",
       "6516                      False                        True   \n",
       "\n",
       "      loan_intent_DEBTCONSOLIDATION  loan_intent_EDUCATION  \\\n",
       "0                             False                  False   \n",
       "1                              True                  False   \n",
       "2                              True                  False   \n",
       "3                             False                  False   \n",
       "4                             False                  False   \n",
       "...                             ...                    ...   \n",
       "6511                          False                  False   \n",
       "6513                          False                  False   \n",
       "6514                          False                  False   \n",
       "6515                          False                   True   \n",
       "6516                          False                  False   \n",
       "\n",
       "      loan_intent_HOMEIMPROVEMENT  loan_intent_MEDICAL  loan_intent_PERSONAL  \\\n",
       "0                           False                False                 False   \n",
       "1                           False                False                 False   \n",
       "2                           False                False                 False   \n",
       "3                           False                 True                 False   \n",
       "4                           False                 True                 False   \n",
       "...                           ...                  ...                   ...   \n",
       "6511                        False                False                  True   \n",
       "6513                        False                 True                 False   \n",
       "6514                        False                False                 False   \n",
       "6515                        False                False                 False   \n",
       "6516                        False                False                 False   \n",
       "\n",
       "      loan_intent_VENTURE  gain_if_repaid  cost_if_default  \n",
       "0                    True      465.367227      -578.539601  \n",
       "1                   False     4847.780062     -9185.361205  \n",
       "2                   False     1091.841800     -1807.236578  \n",
       "3                   False     4972.214553     -7084.777554  \n",
       "4                   False     3331.859215     -4032.764115  \n",
       "...                   ...             ...              ...  \n",
       "6511                False     3210.941787    -11691.427669  \n",
       "6513                False     4331.281644     -7790.401145  \n",
       "6514                 True     2083.140437     -6694.483153  \n",
       "6515                False     1508.058449     -3782.525248  \n",
       "6516                 True     4827.369675     -5745.680644  \n",
       "\n",
       "[5731 rows x 22 columns]"
      ]
     },
     "execution_count": 70,
     "metadata": {},
     "output_type": "execute_result"
    }
   ],
   "source": [
    "df_test"
   ]
  },
  {
   "cell_type": "markdown",
   "metadata": {},
   "source": [
    "## Used a graph to answer the question: Is it more difficult for people in certain age groups to access credit under your proposed system?"
   ]
  },
  {
   "cell_type": "code",
   "execution_count": 62,
   "metadata": {},
   "outputs": [
    {
     "data": {
      "image/png": "[encoded data removed]",
      "text/plain": [
       "<Figure size 1200x600 with 1 Axes>"
      ]
     },
     "metadata": {},
     "output_type": "display_data"
    }
   ],
   "source": [
    "sns.catplot(data=df_test, y=\"predicted_loan_status\", x=\"person_age\", kind=\"bar\", height=6, aspect=2)\n",
    "plt.xticks(rotation=45)\n",
    "plt.show()"
   ]
  },
  {
   "cell_type": "markdown",
   "metadata": {},
   "source": [
    "This graph shows how the predictions are defaulting is significantly higher at older ages. Therefore an older borrower would find it difficult to obtain a loan from this bank using this model."
   ]
  },
  {
   "cell_type": "markdown",
   "metadata": {},
   "source": [
    "## Next I attempted to answer the question: Is it more difficult for people to get loans based on their different loan intentions?"
   ]
  },
  {
   "cell_type": "code",
   "execution_count": 153,
   "metadata": {},
   "outputs": [
    {
     "data": {
      "image/png": "[encoded data removed]",
      "text/plain": [
       "<Figure size 500x500 with 1 Axes>"
      ]
     },
     "metadata": {},
     "output_type": "display_data"
    }
   ],
   "source": [
    "df_test[\"loan_intent_original\"] = loan_intent_original\n",
    "sns.catplot(data=df_test, y=\"predicted_loan_status\", x=\"loan_intent_original\", kind=\"bar\")\n",
    "plt.show()"
   ]
  },
  {
   "cell_type": "markdown",
   "metadata": {},
   "source": [
    "This graph indicates that is easier to receive a loan based on this model is you are using the money for venture than debt consolidation. It shows that it is easiest to receive a loan for home improvement and hardest for debt consolidation and medical reasons. "
   ]
  },
  {
   "cell_type": "code",
   "execution_count": null,
   "metadata": {},
   "outputs": [],
   "source": [
    "## Utilized a figure to ask: How does a person’s income level impact the ease with which they can access credit under your decision system?"
   ]
  },
  {
   "cell_type": "code",
   "execution_count": 187,
   "metadata": {},
   "outputs": [
    {
     "name": "stderr",
     "output_type": "stream",
     "text": [
      "/Users/lindseyschweitzer/anaconda3/envs/ml-0451/lib/python3.9/site-packages/seaborn/_oldcore.py:1119: FutureWarning: use_inf_as_na option is deprecated and will be removed in a future version. Convert inf values to NaN before operating instead.\n",
      "  with pd.option_context('mode.use_inf_as_na', True):\n",
      "/Users/lindseyschweitzer/anaconda3/envs/ml-0451/lib/python3.9/site-packages/seaborn/_oldcore.py:1119: FutureWarning: use_inf_as_na option is deprecated and will be removed in a future version. Convert inf values to NaN before operating instead.\n",
      "  with pd.option_context('mode.use_inf_as_na', True):\n"
     ]
    },
    {
     "data": {
      "text/plain": [
       "<seaborn.axisgrid.FacetGrid at 0x28e254340>"
      ]
     },
     "execution_count": 187,
     "metadata": {},
     "output_type": "execute_result"
    },
    {
     "data": {
      "image/png": "[encoded data removed]",
      "text/plain": [
       "<Figure size 500x500 with 1 Axes>"
      ]
     },
     "metadata": {},
     "output_type": "display_data"
    }
   ],
   "source": [
    "sns.catplot(data=df_test, y=\"person_income\", x=\"predicted_loan_status\")"
   ]
  },
  {
   "cell_type": "markdown",
   "metadata": {},
   "source": [
    "This catplot represents graphs income as function of predicted loan status. Borrowers with higher incomes are more likely here to be predicted to pay back their loans. Therefore, the borrowers with lower incomes, and probably therefore a higher need for the loans, are less likely to receive it based on this model. "
   ]
  }
 ],
 "metadata": {
  "kernelspec": {
   "display_name": "ml-0451",
   "language": "python",
   "name": "python3"
  },
  "language_info": {
   "codemirror_mode": {
    "name": "ipython",
    "version": 3
   },
   "file_extension": ".py",
   "mimetype": "text/x-python",
   "name": "python",
   "nbconvert_exporter": "python",
   "pygments_lexer": "ipython3",
   "version": "3.9.18"
  },
  "orig_nbformat": 4
 },
 "nbformat": 4,
 "nbformat_minor": 2
}
